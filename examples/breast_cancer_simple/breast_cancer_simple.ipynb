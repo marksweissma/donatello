{
 "cells": [
  {
   "cell_type": "code",
   "execution_count": 1,
   "metadata": {
    "collapsed": true
   },
   "outputs": [],
   "source": [
    "from IPython.core.display import HTML\n",
    "def _print(message):\n",
    "    print ''\n",
    "    print '*' * 20\n",
    "    print message\n",
    "    print '*' * 20\n",
    "    print ''"
   ]
  },
  {
   "cell_type": "code",
   "execution_count": 2,
   "metadata": {
    "collapsed": true
   },
   "outputs": [],
   "source": [
    "from declaration import load_sklearn_bc_declaration"
   ]
  },
  {
   "cell_type": "code",
   "execution_count": 3,
   "metadata": {
    "collapsed": true
   },
   "outputs": [],
   "source": [
    "owner = load_sklearn_bc_declaration()"
   ]
  },
  {
   "cell_type": "code",
   "execution_count": 15,
   "metadata": {
    "collapsed": false
   },
   "outputs": [
    {
     "name": "stdout",
     "output_type": "stream",
     "text": [
      "\n",
      "********************\n",
      "('entire', False)\n",
      "********************\n",
      "\n",
      "\n",
      "********************\n",
      "('combiner', None)\n",
      "********************\n",
      "\n",
      "\n",
      "********************\n",
      "('writeAttrs', ('', 'estimator'))\n",
      "********************\n",
      "\n",
      "\n",
      "********************\n",
      "('hookKwargs', None)\n",
      "********************\n",
      "\n",
      "\n",
      "********************\n",
      "('scorerKwargs', None)\n",
      "********************\n",
      "\n",
      "\n",
      "********************\n",
      "('metrics', {'threshold_rates': defaultdict(<type 'dict'>, {'sort': 'thresholds', 'key': 'thresholds'}), <function roc_auc_score at 0x1103041b8>: defaultdict(<type 'dict'>, {}), <function average_precision_score at 0x110304140>: defaultdict(<type 'dict'>, {}), 'feature_weights': defaultdict(<type 'dict'>, {'sort': 'coefficients', 'key': 'names'})})\n",
      "********************\n",
      "\n",
      "\n",
      "********************\n",
      "('dataKwargs',    mean radius  mean texture  mean perimeter  mean area  mean smoothness  \\\n",
      "0        17.99         10.38           122.8     1001.0          0.11840   \n",
      "1        20.57         17.77           132.9     1326.0          0.08474   \n",
      "\n",
      "   mean compactness  mean concavity  mean concave points  mean symmetry  \\\n",
      "0           0.27760          0.3001              0.14710         0.2419   \n",
      "1           0.07864          0.0869              0.07017         0.1812   \n",
      "\n",
      "   mean fractal dimension      ...       worst texture  worst perimeter  \\\n",
      "0                 0.07871      ...               17.33            184.6   \n",
      "1                 0.05667      ...               23.41            158.8   \n",
      "\n",
      "   worst area  worst smoothness  worst compactness  worst concavity  \\\n",
      "0      2019.0            0.1622             0.6656           0.7119   \n",
      "1      1956.0            0.1238             0.1866           0.2416   \n",
      "\n",
      "   worst concave points  worst symmetry  worst fractal dimension  is_malignant  \n",
      "0                0.2654          0.4601                  0.11890           0.0  \n",
      "1                0.1860          0.2750                  0.08902           0.0  \n",
      "\n",
      "[2 rows x 31 columns])\n",
      "********************\n",
      "\n",
      "\n",
      "********************\n",
      "('estimator', Classifier_LogisticRegression created at 2018_09_05_23_34\n",
      " --- \n",
      " **sklearn repr** \n",
      " --- \n",
      "Classifier(gridKwargs={'scoring': 'roc_auc', 'cv': 5}, method='predict_proba',\n",
      "      model=LogisticRegression(C=1.0, class_weight=None, dual=False, fit_intercept=True,\n",
      "          intercept_scaling=1, max_iter=100, multi_class='ovr', n_jobs=1,\n",
      "          penalty='l2', random_state=None, solver='liblinear', tol=0.0001,\n",
      "          verbose=0, warm_start=False),\n",
      "      paramGrid={'model__C': array([0.01   , 0.01668, 0.02783, 0.04642, 0.07743, 0.12915, 0.21544,\n",
      "       0.35938, 0.59948, 1.     ])},\n",
      "      timeFormat='%Y_%m_%d_%H_%M',\n",
      "      transformer=Selector created at [no_init_time]))\n",
      "********************\n",
      "\n",
      "\n",
      "********************\n",
      "('timeFormat', None)\n",
      "********************\n",
      "\n",
      "\n",
      "********************\n",
      "('holdOut', True)\n",
      "********************\n",
      "\n",
      "\n",
      "********************\n",
      "('validation', True)\n",
      "********************\n",
      "\n",
      "\n",
      "********************\n",
      "('splitterKwargs', {'target': 'is_malignant'})\n",
      "********************\n",
      "\n"
     ]
    }
   ],
   "source": [
    "for name, value in owner.get_params(deep=False).items():\n",
    "    if name != 'dataKwargs':\n",
    "        _print((name, value))\n",
    "    else:\n",
    "        _print((name, value['raws'].head(2) ))"
   ]
  },
  {
   "cell_type": "code",
   "execution_count": 16,
   "metadata": {
    "collapsed": false
   },
   "outputs": [
    {
     "name": "stdout",
     "output_type": "stream",
     "text": [
      "evaluating threshold_rates\n",
      "evaluating roc_auc_score\n",
      "evaluating average_precision_score\n",
      "evaluating feature_weights\n",
      "evaluating threshold_rates\n",
      "evaluating roc_auc_score\n",
      "evaluating average_precision_score\n",
      "evaluating feature_weights\n",
      "evaluating threshold_rates\n",
      "evaluating roc_auc_score\n",
      "evaluating average_precision_score\n",
      "evaluating feature_weights\n",
      "evaluating threshold_rates\n",
      "evaluating roc_auc_score\n",
      "evaluating average_precision_score\n",
      "evaluating feature_weights\n",
      "evaluating threshold_rates\n",
      "evaluating roc_auc_score\n",
      "evaluating average_precision_score\n",
      "evaluating feature_weights\n",
      "evaluating threshold_rates\n",
      "evaluating roc_auc_score\n",
      "evaluating average_precision_score\n",
      "evaluating feature_weights\n"
     ]
    },
    {
     "name": "stderr",
     "output_type": "stream",
     "text": [
      "/Users/markweiss/.local/lib/python2.7/site-packages/donatello-0.0.1-py2.7.egg/donatello/components/owner.py:99: UserWarning: Owner does not have a name, defaulting to class OwnerClassification\n"
     ]
    },
    {
     "data": {
      "text/plain": [
       "OwnerClassification created at 2018_09_05_23_34"
      ]
     },
     "execution_count": 16,
     "metadata": {},
     "output_type": "execute_result"
    }
   ],
   "source": [
    "owner.build()"
   ]
  },
  {
   "cell_type": "code",
   "execution_count": 25,
   "metadata": {
    "collapsed": false
   },
   "outputs": [
    {
     "name": "stdout",
     "output_type": "stream",
     "text": [
      "threshold_rates\n",
      "\n",
      "********************\n",
      "              true_negative  false_positive  false_negative  true_positive\n",
      "thresholds                                                                \n",
      "4.528068e-32            0.2            31.6             0.0           53.4\n",
      "2.730700e-11            4.4            27.4             0.0           53.4\n",
      "4.523024e-08            8.6            23.2             0.0           53.4\n",
      "1.374762e-05           12.8            19.0             0.0           53.4\n",
      "4.342484e-04           17.2            14.6             0.0           53.4\n",
      "1.013264e-02           21.4            10.4             0.0           53.4\n",
      "8.701558e-02           25.2             6.6             0.4           53.0\n",
      "3.591846e-01           28.4             3.4             1.4           52.0\n",
      "7.810591e-01           30.6             1.2             3.6           49.8\n",
      "8.959829e-01           31.2             0.6             7.2           46.2\n",
      "9.479421e-01           31.4             0.4            11.2           42.2\n",
      "9.697169e-01           31.4             0.4            15.4           38.0\n",
      "9.820569e-01           31.4             0.4            19.8           33.6\n",
      "9.884246e-01           31.4             0.4            24.0           29.4\n",
      "9.928439e-01           31.4             0.4            28.2           25.2\n",
      "9.953766e-01           31.4             0.4            32.4           21.0\n",
      "9.968727e-01           31.6             0.2            36.6           16.8\n",
      "9.978841e-01           31.6             0.2            40.8           12.6\n",
      "9.987496e-01           31.6             0.2            45.0            8.4\n",
      "9.992957e-01           31.8             0.0            49.0            4.4\n",
      "9.999401e-01           31.8             0.0            53.4            0.0\n",
      "********************\n",
      "\n",
      "feature_weights\n",
      "\n",
      "********************\n",
      "                         coefficients\n",
      "names                                \n",
      "worst concavity             -1.245015\n",
      "worst compactness           -0.972973\n",
      "worst symmetry              -0.497179\n",
      "mean concavity              -0.452707\n",
      "worst concave points        -0.433663\n",
      "mean compactness            -0.310759\n",
      "worst texture               -0.283246\n",
      "mean concave points         -0.214377\n",
      "worst smoothness            -0.175685\n",
      "mean symmetry               -0.162437\n",
      "worst perimeter             -0.155535\n",
      "worst fractal dimension     -0.102821\n",
      "mean smoothness             -0.097943\n",
      "area error                  -0.092422\n",
      "concavity error             -0.070234\n",
      "compactness error           -0.040272\n",
      "symmetry error              -0.035167\n",
      "concave points error        -0.028157\n",
      "mean fractal dimension      -0.027847\n",
      "worst area                  -0.024249\n",
      "smoothness error            -0.011072\n",
      "fractal dimension error     -0.002483\n",
      "mean area                   -0.001945\n",
      "radius error                 0.018861\n",
      "mean perimeter               0.051668\n",
      "mean texture                 0.087183\n",
      "perimeter error              0.217000\n",
      "intercept_                   0.276940\n",
      "texture error                0.854040\n",
      "worst radius                 1.152628\n",
      "mean radius                  1.571403\n",
      "********************\n",
      "\n",
      "average_precision_score\n",
      "\n",
      "********************\n",
      "      score\n",
      "_          \n",
      "1  0.986834\n",
      "********************\n",
      "\n",
      "roc_auc_score\n",
      "\n",
      "********************\n",
      "      score\n",
      "_          \n",
      "1  0.983241\n",
      "********************\n",
      "\n"
     ]
    }
   ],
   "source": [
    "for metric, value in owner.scores.crossValidation.items():\n",
    "    if value.shape[0] > 50:\n",
    "        print metric\n",
    "        _print(value.iloc[::5])\n",
    "    else:\n",
    "        print metric\n",
    "        _print(value)"
   ]
  },
  {
   "cell_type": "code",
   "execution_count": null,
   "metadata": {
    "collapsed": true
   },
   "outputs": [],
   "source": []
  }
 ],
 "metadata": {
  "kernelspec": {
   "display_name": "Python 2",
   "language": "python",
   "name": "python2"
  },
  "language_info": {
   "codemirror_mode": {
    "name": "ipython",
    "version": 2
   },
   "file_extension": ".py",
   "mimetype": "text/x-python",
   "name": "python",
   "nbconvert_exporter": "python",
   "pygments_lexer": "ipython2",
   "version": "2.7.12"
  }
 },
 "nbformat": 4,
 "nbformat_minor": 0
}
