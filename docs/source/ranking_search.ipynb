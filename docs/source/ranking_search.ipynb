{
 "cells": [
  {
   "cell_type": "markdown",
   "metadata": {},
   "source": [
    "# Table of Contents\n",
    "1. Exploration\n",
    "2. Evaluation in the context of bias and constraints\n",
    "3. Result volumes and selecting an evaluation measure\n",
    "4. Baseline\n",
    "5. Feature engineering\n",
    "6. Holdout evaluation\n",
    "7. New Listings: UX, dispersion, and ML scoring"
   ]
  },
  {
   "cell_type": "code",
   "execution_count": 1,
   "metadata": {
    "collapsed": true
   },
   "outputs": [],
   "source": [
    "import pandas as pd\n",
    "from matplotlib import pyplot as plt\n",
    "from haversine import haversine\n",
    "pd.set_option('display.max_columns', 200)\n",
    "pd.set_option('display.max_rows', 200)\n",
    "pd.options.mode.chained_assignment = None\n",
    "\n",
    "import os\n",
    "os.environ['KMP_DUPLICATE_LIB_OK']='True'\n"
   ]
  },
  {
   "cell_type": "markdown",
   "metadata": {},
   "source": [
    "I'll begin by loading the data and splitting off an initial subset of the data to inspect to build intuition around and a framework for the assignment's approach. "
   ]
  },
  {
   "cell_type": "code",
   "execution_count": 2,
   "metadata": {
    "collapsed": false
   },
   "outputs": [],
   "source": [
    "df_all = pd.read_csv('data/takehome_data.tsv', sep='\\t', low_memory=False)"
   ]
  },
  {
   "cell_type": "code",
   "execution_count": 3,
   "metadata": {
    "collapsed": false
   },
   "outputs": [
    {
     "data": {
      "text/plain": [
       "11/20/18    25608\n",
       "11/21/18    27548\n",
       "11/22/18    28374\n",
       "11/23/18    27344\n",
       "11/25/18    29007\n",
       "11/26/18    39707\n",
       "Name: ds_search, dtype: int64"
      ]
     },
     "execution_count": 3,
     "metadata": {},
     "output_type": "execute_result"
    }
   ],
   "source": [
    "df_all.ds_search.value_counts().sort_index()"
   ]
  },
  {
   "cell_type": "markdown",
   "metadata": {},
   "source": [
    "In the next section I'll call out the impact of evaluating user searches vs user experiences. But given the abscence of data on 11/24/18 I'll break apart the dataset into searches executed before 11/24/18 as the training dataset, searches on 11/25/18 as an evaluation set, and 11/26/18 as a final hold out set"
   ]
  },
  {
   "cell_type": "code",
   "execution_count": 4,
   "metadata": {
    "collapsed": false
   },
   "outputs": [
    {
     "data": {
      "text/plain": [
       "['11/20/18', '11/21/18', '11/22/18', '11/23/18', '11/25/18', '11/26/18']"
      ]
     },
     "execution_count": 4,
     "metadata": {},
     "output_type": "execute_result"
    }
   ],
   "source": [
    "sorted(df_all.ds_search.unique()) # no nulls"
   ]
  },
  {
   "cell_type": "code",
   "execution_count": 5,
   "metadata": {
    "collapsed": true
   },
   "outputs": [],
   "source": [
    "df_all['ts_search'] = pd.to_datetime(df_all.ts_search).astype(int)"
   ]
  },
  {
   "cell_type": "code",
   "execution_count": 6,
   "metadata": {
    "collapsed": false
   },
   "outputs": [
    {
     "data": {
      "text/html": [
       "<div>\n",
       "<style scoped>\n",
       "    .dataframe tbody tr th:only-of-type {\n",
       "        vertical-align: middle;\n",
       "    }\n",
       "\n",
       "    .dataframe tbody tr th {\n",
       "        vertical-align: top;\n",
       "    }\n",
       "\n",
       "    .dataframe thead th {\n",
       "        text-align: right;\n",
       "    }\n",
       "</style>\n",
       "<table border=\"1\" class=\"dataframe\">\n",
       "  <thead>\n",
       "    <tr style=\"text-align: right;\">\n",
       "      <th></th>\n",
       "      <th>users</th>\n",
       "      <th>listings</th>\n",
       "    </tr>\n",
       "  </thead>\n",
       "  <tbody>\n",
       "    <tr>\n",
       "      <th>0</th>\n",
       "      <td>2271</td>\n",
       "      <td>25928</td>\n",
       "    </tr>\n",
       "  </tbody>\n",
       "</table>\n",
       "</div>"
      ],
      "text/plain": [
       "   users  listings\n",
       "0   2271     25928"
      ]
     },
     "execution_count": 6,
     "metadata": {},
     "output_type": "execute_result"
    }
   ],
   "source": [
    "# unique users and listing count in training set \n",
    "df = df_all.loc[df_all.ds_search.isin(['11/20/18', '11/21/18', '11/22/18', '11/23/18'])]\n",
    "pd.Series([len(df.id_user.unique()), len(df.id_listing.unique())], index=['users','listings']).to_frame().T"
   ]
  },
  {
   "cell_type": "code",
   "execution_count": 7,
   "metadata": {
    "collapsed": true
   },
   "outputs": [],
   "source": [
    "validation_df = df_all.loc[df_all.ds_search.isin(['11/25/18'])]\n",
    "holdout_df = df_all.loc[df_all.ds_search.isin(['11/26/18'])]"
   ]
  },
  {
   "cell_type": "code",
   "execution_count": 8,
   "metadata": {
    "collapsed": false
   },
   "outputs": [],
   "source": [
    "assert len(df_all) == sum(len(i) for i in [df, validation_df, holdout_df])"
   ]
  },
  {
   "cell_type": "code",
   "execution_count": 9,
   "metadata": {
    "collapsed": false
   },
   "outputs": [
    {
     "data": {
      "text/plain": [
       "(108874, 49)"
      ]
     },
     "execution_count": 9,
     "metadata": {},
     "output_type": "execute_result"
    }
   ],
   "source": [
    "df.shape"
   ]
  },
  {
   "cell_type": "code",
   "execution_count": 10,
   "metadata": {
    "collapsed": false
   },
   "outputs": [
    {
     "data": {
      "text/html": [
       "<div>\n",
       "<style scoped>\n",
       "    .dataframe tbody tr th:only-of-type {\n",
       "        vertical-align: middle;\n",
       "    }\n",
       "\n",
       "    .dataframe tbody tr th {\n",
       "        vertical-align: top;\n",
       "    }\n",
       "\n",
       "    .dataframe thead th {\n",
       "        text-align: right;\n",
       "    }\n",
       "</style>\n",
       "<table border=\"1\" class=\"dataframe\">\n",
       "  <thead>\n",
       "    <tr style=\"text-align: right;\">\n",
       "      <th></th>\n",
       "      <th>records</th>\n",
       "      <th>cumulative_counts</th>\n",
       "      <th>percent</th>\n",
       "    </tr>\n",
       "  </thead>\n",
       "  <tbody>\n",
       "    <tr>\n",
       "      <th>impression</th>\n",
       "      <td>81164</td>\n",
       "      <td>108874</td>\n",
       "      <td>100.0</td>\n",
       "    </tr>\n",
       "    <tr>\n",
       "      <th>click</th>\n",
       "      <td>24727</td>\n",
       "      <td>27710</td>\n",
       "      <td>25.5</td>\n",
       "    </tr>\n",
       "    <tr>\n",
       "      <th>host_contact</th>\n",
       "      <td>1683</td>\n",
       "      <td>2983</td>\n",
       "      <td>2.7</td>\n",
       "    </tr>\n",
       "    <tr>\n",
       "      <th>book</th>\n",
       "      <td>1300</td>\n",
       "      <td>1300</td>\n",
       "      <td>1.2</td>\n",
       "    </tr>\n",
       "  </tbody>\n",
       "</table>\n",
       "</div>"
      ],
      "text/plain": [
       "              records  cumulative_counts  percent\n",
       "impression      81164             108874    100.0\n",
       "click           24727              27710     25.5\n",
       "host_contact     1683               2983      2.7\n",
       "book             1300               1300      1.2"
      ]
     },
     "execution_count": 10,
     "metadata": {},
     "output_type": "execute_result"
    }
   ],
   "source": [
    "counts = df.groupby('label').id_search.count().loc[['book', 'host_contact', 'click', 'impression']].rename('records')\n",
    "cumulative = counts.cumsum().sort_values(ascending=False).rename('cumulative_counts')\n",
    "funnel = pd.concat([counts, cumulative], axis=1, sort=False).sort_values('cumulative_counts', ascending=False)\n",
    "funnel['percent'] = (funnel.cumulative_counts.astype(float) / funnel.loc['impression', 'cumulative_counts'] * 100).round(1)\n",
    "funnel"
   ]
  },
  {
   "cell_type": "markdown",
   "metadata": {
    "collapsed": false
   },
   "source": [
    "Note: this is funnel - cumalitive numbers imply made it to this step or farther down funnel"
   ]
  },
  {
   "cell_type": "markdown",
   "metadata": {},
   "source": [
    "## Evaluation in the context of bias, caveats, known issues, and time-constraints\n",
    "\n",
    "The time to solve this problem ( ~1 work day) as well as data availabilty and inherent bias of the dataset are all considerations for the proposed approach. I wil try to combat some of these, call out others, and when possible attempt to leverage the constraint to optimize the system. \n",
    "\n",
    "#### Introduction & post-hoc bias. \n",
    "The data available is defined by the user's interaction with AirBnB's existing search infrastructure. If AirBnB's existing infra pushes a listing farther down the queue the user is less likley to receive it as an impression, which prevents that listing from being booked. Because some of the data detailing the availability of a listing is not accessable, such as for the given date range requested \"what listings are available\", I will take an approach to optimize for the information we have and discuss how it could be integrated to existing systems noting this bias.  \n",
    "\n",
    "#### Optimization & user sessions + redundant searches. \n",
    "Having a strong dialogue with relevant stakeholders to better understand the objectives is a critical part of integrating machine learning products to optimize for business impact. Here I see an additional layer of importance due to the interactions with existing infra. The first issue is called out above, but the second is with respect to the primary key / atomic unit by which we evaluate the model. A user can only book one listing per day. In order to make that booking a user will often execute multiple searches, possibly in quick succession and/or over the course of longer time periods. \n",
    "\n",
    "If the ultimate goal is to optimize for the booking rate per search this is subtley different from the goal to optimize for the number of a user's booked trips and/or the number of days a user spends staying at AirBnB accommodations. Each of those frames modify the manner in which search requests can be pooled, represented as coelesce searches into windows to quantifably evaluate the models relationship to the user. \n",
    "\n",
    "I will build a system to augment the existing search infrastructure, by ranking the results of the impressions served by the search engine within a window that skews but does not entirely concede towards bias removal at a cost of data density (more on that two sections below). Work in this area would be critical to the improvement of this model in the future. \n",
    "\n",
    "Note - I recognize that to serve listings an initial score is needed to yield impressions and this is not that score."
   ]
  },
  {
   "cell_type": "markdown",
   "metadata": {},
   "source": [
    "### Ranking evaluation within the context of \"impressed\" listings\n",
    "This system will be a ranking system to order listings based on how likely a user is to book the listing given the metadata supplied in the search query with discussion and future addressment of other business goals and impacts. This ordering assumes existing infrastructure enforces hard rules - such as listing availability, price bounds, guest capacity and other hard requirements - are already enforced and this system will decide how to order those results - \"impressions\" - for the user.\n",
    "\n",
    "#### KPI: NDCG of uniquely defined queries on a given day\n",
    "Normalized discounted cumlative gain of the \"served\" listing will help us understand how our model is ranking the available listings. NDCG enables leveraging the ordinal importance of available user interactions \n",
    "(click, host contact, booking) assuming an impression has been made. To evaluate the effectiveness of a given model, the test set will be subset down to searches that have at least one interaction event, because the gain of homogenous collections will not vary across models.  \n",
    "\n",
    "Due to a lack of integration with the existing search engine, I call out that this implementation suffers from not surfacing the most optimal listings across AirBnB's catalog. Optimizing the likelihood of generating an impression is critical for the end to end success of the search engine. The given dataset could potentially support work in this area, however those estimates will be substantially obfuscated from the lack of other data, such as listing availability for the requested date range, user session metadata, listing per page, and the units of the query_radius among others. That model would be attempting to learn the outputs of an existing system with obfuscated data rather than an attempting to impact a user behavior. \n",
    "\n",
    "This product will focus on evaluating the user impressions via pooling uniquely defined user queries on a given day. This metric is imperfect but will yield a larger pool than only search_id pooling and shades closer to the user's experience. This metric is muddied by the fact that despite the same query by the same user on the same day, new listings could come on the market or reopen and others could come off. Without access to that data, and the width of date ranges queried, the changes in market conditions will be offset by giving a larger and likely richer collection of listings to evaluate in a given pool. Pool size could be increased by removing the uniquely defined criteria, however removing certain requirements that are interpreted as hard rules (such as price floor / ceiling) would then require an additional filtering step, yielding both additional engineering resources to filter the recommendations before serving in addition to generating bias in the evaluation metric.  \n",
    "\n",
    "#### Caveat\n",
    "\n",
    "NDCG and other similar metrics such as MAP assume monotonic decrease of the relative difference between subsequent ranks. Implied in this definition is that users effectively perceive this return as a steady stream. However, listings are returned in batch (i.e. pages to leaf through or mini batch like rows). The activation energy to go from page 1 to page 2 or the next row off the screen is quite impactful to a user's response and is not captured in this metric. This is an area to address with future improvements.\n"
   ]
  },
  {
   "cell_type": "code",
   "execution_count": 11,
   "metadata": {
    "collapsed": false
   },
   "outputs": [],
   "source": [
    "# based on https://gist.github.com/mblondel/7337391. Tests explicitly ripped from gist at bottom of notebook\n",
    "import numpy as np\n",
    "\n",
    "def dcg(y_true, y_predicted, gain=lambda x: (2** x - 1)):\n",
    "    gained = gain(y_true[np.argsort(-np.asarray(y_predicted))])\n",
    "    discounted = np.log2(np.arange(2, len(y_true) + 2))\n",
    "    return np.sum(gained / discounted)\n",
    "                        \n",
    "def ndcg(y_true, y_predicted, gain=lambda x: (2** x - 1)):\n",
    "    max_score = dcg(y_true, y_true, gain=gain)\n",
    "    actual_score = dcg(y_true, y_predicted, gain=gain)\n",
    "    return actual_score / max_score                      "
   ]
  },
  {
   "cell_type": "markdown",
   "metadata": {},
   "source": [
    "### Result volume\n",
    "The number of listings returned will help inform our evaluation criteria. We can see the impact on increasing the pooling volume by loosening uniqueness restrictions and ultimately settle on mini-max esque approach that skews towards removing bias"
   ]
  },
  {
   "cell_type": "markdown",
   "metadata": {},
   "source": [
    "#### Key by search_id (most restrictive)"
   ]
  },
  {
   "cell_type": "code",
   "execution_count": 12,
   "metadata": {
    "collapsed": false
   },
   "outputs": [
    {
     "data": {
      "text/html": [
       "<div>\n",
       "<style scoped>\n",
       "    .dataframe tbody tr th:only-of-type {\n",
       "        vertical-align: middle;\n",
       "    }\n",
       "\n",
       "    .dataframe tbody tr th {\n",
       "        vertical-align: top;\n",
       "    }\n",
       "\n",
       "    .dataframe thead th {\n",
       "        text-align: right;\n",
       "    }\n",
       "</style>\n",
       "<table border=\"1\" class=\"dataframe\">\n",
       "  <thead>\n",
       "    <tr style=\"text-align: right;\">\n",
       "      <th></th>\n",
       "      <th>impressions_returned</th>\n",
       "    </tr>\n",
       "  </thead>\n",
       "  <tbody>\n",
       "    <tr>\n",
       "      <th>count</th>\n",
       "      <td>38325.000000</td>\n",
       "    </tr>\n",
       "    <tr>\n",
       "      <th>mean</th>\n",
       "      <td>2.840809</td>\n",
       "    </tr>\n",
       "    <tr>\n",
       "      <th>std</th>\n",
       "      <td>2.232785</td>\n",
       "    </tr>\n",
       "    <tr>\n",
       "      <th>min</th>\n",
       "      <td>1.000000</td>\n",
       "    </tr>\n",
       "    <tr>\n",
       "      <th>25%</th>\n",
       "      <td>1.000000</td>\n",
       "    </tr>\n",
       "    <tr>\n",
       "      <th>50%</th>\n",
       "      <td>2.000000</td>\n",
       "    </tr>\n",
       "    <tr>\n",
       "      <th>75%</th>\n",
       "      <td>4.000000</td>\n",
       "    </tr>\n",
       "    <tr>\n",
       "      <th>max</th>\n",
       "      <td>18.000000</td>\n",
       "    </tr>\n",
       "  </tbody>\n",
       "</table>\n",
       "</div>"
      ],
      "text/plain": [
       "       impressions_returned\n",
       "count          38325.000000\n",
       "mean               2.840809\n",
       "std                2.232785\n",
       "min                1.000000\n",
       "25%                1.000000\n",
       "50%                2.000000\n",
       "75%                4.000000\n",
       "max               18.000000"
      ]
     },
     "execution_count": 12,
     "metadata": {},
     "output_type": "execute_result"
    }
   ],
   "source": [
    "search_id = df.groupby(['id_search']).id_user.count().sort_values(ascending=False)\\\n",
    ".to_frame().rename(columns={'id_user': 'impressions_returned'})\n",
    "search_id.describe()"
   ]
  },
  {
   "cell_type": "code",
   "execution_count": 13,
   "metadata": {
    "collapsed": false
   },
   "outputs": [
    {
     "data": {
      "text/plain": [
       "Text(0,0.5,'number of pools')"
      ]
     },
     "execution_count": 13,
     "metadata": {},
     "output_type": "execute_result"
    },
    {
     "data": {
      "image/png": "[encoded data removed]",
      "text/plain": [
       "<Figure size 432x288 with 1 Axes>"
      ]
     },
     "metadata": {
      "needs_background": "light"
     },
     "output_type": "display_data"
    }
   ],
   "source": [
    "search_id.hist(bins=18)\n",
    "plt.xlabel('number of records in pool')\n",
    "plt.ylabel('number of pools')"
   ]
  },
  {
   "cell_type": "markdown",
   "metadata": {},
   "source": [
    "#### Key by user, date range, and market (least restrictive within reason)\n",
    "\n",
    "Without more user event data it's challenging to correctly coelesce searches. Searches in the same market with overlapping date ranges is one approach with the given data, however there's nuance to that approach as a cause of this can be user's considering staying at multiple locations either due to location, cost, number of guests, and availability as well as how those features interact with the listings considerations #TwoSidedMarketplace\n",
    "\n",
    "As a rough initial cut, given a user can only book in one place, aggregating by date range and user helps coelesce some of our searches while trying to mitigate bias. As we can see in the table below, for user `0077431ca40d7d0c028247ecb1da9874`, the first record and fourth record are more likely independent (although the user could have flexibility with the trip date), while the second or third requests are likely strongly anti-correlated with respect to each other as a condition on booking. \n",
    "\n",
    "While the volume generated by this approach is appealing, the additional technical overhead of filtering responses and increased bias aren't justifiable at this point. This work does support the potential value add of future work in the space"
   ]
  },
  {
   "cell_type": "code",
   "execution_count": 14,
   "metadata": {
    "collapsed": false
   },
   "outputs": [
    {
     "data": {
      "text/html": [
       "<div>\n",
       "<style scoped>\n",
       "    .dataframe tbody tr th:only-of-type {\n",
       "        vertical-align: middle;\n",
       "    }\n",
       "\n",
       "    .dataframe tbody tr th {\n",
       "        vertical-align: top;\n",
       "    }\n",
       "\n",
       "    .dataframe thead th {\n",
       "        text-align: right;\n",
       "    }\n",
       "</style>\n",
       "<table border=\"1\" class=\"dataframe\">\n",
       "  <thead>\n",
       "    <tr style=\"text-align: right;\">\n",
       "      <th></th>\n",
       "      <th></th>\n",
       "      <th></th>\n",
       "      <th></th>\n",
       "      <th>impressions_returned</th>\n",
       "    </tr>\n",
       "    <tr>\n",
       "      <th>id_user</th>\n",
       "      <th>query_checkin</th>\n",
       "      <th>query_checkout</th>\n",
       "      <th>query_market</th>\n",
       "      <th></th>\n",
       "    </tr>\n",
       "  </thead>\n",
       "  <tbody>\n",
       "    <tr>\n",
       "      <th>00226cf02c6c8907b096d0637bc84b29</th>\n",
       "      <th>12/7/18</th>\n",
       "      <th>12/9/18</th>\n",
       "      <th>Sao Paulo</th>\n",
       "      <td>26</td>\n",
       "    </tr>\n",
       "    <tr>\n",
       "      <th rowspan=\"4\" valign=\"top\">0077431ca40d7d0c028247ecb1da9874</th>\n",
       "      <th>1/9/19</th>\n",
       "      <th>1/13/19</th>\n",
       "      <th>Rio de Janeiro</th>\n",
       "      <td>4</td>\n",
       "    </tr>\n",
       "    <tr>\n",
       "      <th rowspan=\"2\" valign=\"top\">2/27/19</th>\n",
       "      <th>3/6/19</th>\n",
       "      <th>Rio de Janeiro</th>\n",
       "      <td>48</td>\n",
       "    </tr>\n",
       "    <tr>\n",
       "      <th>3/7/19</th>\n",
       "      <th>Rio de Janeiro</th>\n",
       "      <td>42</td>\n",
       "    </tr>\n",
       "    <tr>\n",
       "      <th>3/13/19</th>\n",
       "      <th>3/14/19</th>\n",
       "      <th>Rio de Janeiro</th>\n",
       "      <td>4</td>\n",
       "    </tr>\n",
       "    <tr>\n",
       "      <th rowspan=\"2\" valign=\"top\">0088b42325fa2906faf06cb7bfcef953</th>\n",
       "      <th rowspan=\"2\" valign=\"top\">12/19/18</th>\n",
       "      <th>12/25/18</th>\n",
       "      <th>Rio de Janeiro</th>\n",
       "      <td>9</td>\n",
       "    </tr>\n",
       "    <tr>\n",
       "      <th>12/26/18</th>\n",
       "      <th>Rio de Janeiro</th>\n",
       "      <td>2</td>\n",
       "    </tr>\n",
       "    <tr>\n",
       "      <th>0092c34fa07040ccec7411af56e7ad2a</th>\n",
       "      <th>12/15/18</th>\n",
       "      <th>12/20/18</th>\n",
       "      <th>Rio de Janeiro</th>\n",
       "      <td>16</td>\n",
       "    </tr>\n",
       "    <tr>\n",
       "      <th rowspan=\"2\" valign=\"top\">009b1efd29ceb1277b8e503497a7560b</th>\n",
       "      <th rowspan=\"2\" valign=\"top\">1/11/19</th>\n",
       "      <th>1/12/19</th>\n",
       "      <th>Sao Paulo</th>\n",
       "      <td>1</td>\n",
       "    </tr>\n",
       "    <tr>\n",
       "      <th>1/15/19</th>\n",
       "      <th>Sao Paulo</th>\n",
       "      <td>44</td>\n",
       "    </tr>\n",
       "  </tbody>\n",
       "</table>\n",
       "</div>"
      ],
      "text/plain": [
       "                                                                              impressions_returned\n",
       "id_user                          query_checkin query_checkout query_market                        \n",
       "00226cf02c6c8907b096d0637bc84b29 12/7/18       12/9/18        Sao Paulo                         26\n",
       "0077431ca40d7d0c028247ecb1da9874 1/9/19        1/13/19        Rio de Janeiro                     4\n",
       "                                 2/27/19       3/6/19         Rio de Janeiro                    48\n",
       "                                               3/7/19         Rio de Janeiro                    42\n",
       "                                 3/13/19       3/14/19        Rio de Janeiro                     4\n",
       "0088b42325fa2906faf06cb7bfcef953 12/19/18      12/25/18       Rio de Janeiro                     9\n",
       "                                               12/26/18       Rio de Janeiro                     2\n",
       "0092c34fa07040ccec7411af56e7ad2a 12/15/18      12/20/18       Rio de Janeiro                    16\n",
       "009b1efd29ceb1277b8e503497a7560b 1/11/19       1/12/19        Sao Paulo                          1\n",
       "                                               1/15/19        Sao Paulo                         44"
      ]
     },
     "execution_count": 14,
     "metadata": {},
     "output_type": "execute_result"
    }
   ],
   "source": [
    "search_window = df.groupby(['id_user', 'query_checkin', 'query_checkout', 'query_market']).id_search.count()\\\n",
    "    .to_frame().rename(columns={'id_search': 'impressions_returned'})\n",
    "\n",
    "search_window.head(10)"
   ]
  },
  {
   "cell_type": "code",
   "execution_count": 15,
   "metadata": {
    "collapsed": false
   },
   "outputs": [
    {
     "data": {
      "text/plain": [
       "Text(0,0.5,'number of pools')"
      ]
     },
     "execution_count": 15,
     "metadata": {},
     "output_type": "execute_result"
    },
    {
     "data": {
      "image/png": "[encoded data removed]",
      "text/plain": [
       "<Figure size 432x288 with 1 Axes>"
      ]
     },
     "metadata": {
      "needs_background": "light"
     },
     "output_type": "display_data"
    }
   ],
   "source": [
    "search_window.hist(bins=search_window.impressions_returned.max())\n",
    "plt.xlabel('number of records in pool')\n",
    "plt.ylabel('number of pools')"
   ]
  },
  {
   "cell_type": "markdown",
   "metadata": {},
   "source": [
    "#### Key by user, full query parameters, and date of search.\n",
    "We'll consider a unique query by it's attributes and the date of the search. (Again a call out to future pooling work). The search date criteria is included because our test and evaluation data sets are single days each (noting one has 25% more records than the other) so we use this as an attempt to build intuition around the expected size of a pool in our validation set. "
   ]
  },
  {
   "cell_type": "code",
   "execution_count": 16,
   "metadata": {
    "collapsed": false
   },
   "outputs": [
    {
     "data": {
      "text/html": [
       "<div>\n",
       "<style scoped>\n",
       "    .dataframe tbody tr th:only-of-type {\n",
       "        vertical-align: middle;\n",
       "    }\n",
       "\n",
       "    .dataframe tbody tr th {\n",
       "        vertical-align: top;\n",
       "    }\n",
       "\n",
       "    .dataframe thead th {\n",
       "        text-align: right;\n",
       "    }\n",
       "</style>\n",
       "<table border=\"1\" class=\"dataframe\">\n",
       "  <thead>\n",
       "    <tr style=\"text-align: right;\">\n",
       "      <th></th>\n",
       "      <th></th>\n",
       "      <th></th>\n",
       "      <th></th>\n",
       "      <th></th>\n",
       "      <th></th>\n",
       "      <th></th>\n",
       "      <th></th>\n",
       "      <th></th>\n",
       "      <th></th>\n",
       "      <th></th>\n",
       "      <th></th>\n",
       "      <th></th>\n",
       "      <th>impressions_returned</th>\n",
       "    </tr>\n",
       "    <tr>\n",
       "      <th>id_user</th>\n",
       "      <th>ds_search</th>\n",
       "      <th>query_market</th>\n",
       "      <th>query_checkin</th>\n",
       "      <th>query_checkout</th>\n",
       "      <th>query_num_guests</th>\n",
       "      <th>query_num_children</th>\n",
       "      <th>query_num_infants</th>\n",
       "      <th>query_radius</th>\n",
       "      <th>query_price_max</th>\n",
       "      <th>query_price_min</th>\n",
       "      <th>query_center_lat</th>\n",
       "      <th>query_center_lng</th>\n",
       "      <th></th>\n",
       "    </tr>\n",
       "  </thead>\n",
       "  <tbody>\n",
       "    <tr>\n",
       "      <th rowspan=\"12\" valign=\"top\">00226cf02c6c8907b096d0637bc84b29</th>\n",
       "      <th rowspan=\"12\" valign=\"top\">11/21/18</th>\n",
       "      <th rowspan=\"12\" valign=\"top\">Sao Paulo</th>\n",
       "      <th rowspan=\"12\" valign=\"top\">12/7/18</th>\n",
       "      <th rowspan=\"12\" valign=\"top\">12/9/18</th>\n",
       "      <th rowspan=\"12\" valign=\"top\">2</th>\n",
       "      <th rowspan=\"12\" valign=\"top\">0</th>\n",
       "      <th rowspan=\"12\" valign=\"top\">0</th>\n",
       "      <th>2.861446</th>\n",
       "      <th>1.070000e+09</th>\n",
       "      <th>50</th>\n",
       "      <th>-23.59</th>\n",
       "      <th>-46.66</th>\n",
       "      <td>1</td>\n",
       "    </tr>\n",
       "    <tr>\n",
       "      <th>2.861502</th>\n",
       "      <th>-1.000000e+00</th>\n",
       "      <th>-1</th>\n",
       "      <th>-23.58</th>\n",
       "      <th>-46.64</th>\n",
       "      <td>4</td>\n",
       "    </tr>\n",
       "    <tr>\n",
       "      <th>2.861563</th>\n",
       "      <th>1.070000e+09</th>\n",
       "      <th>50</th>\n",
       "      <th>-23.58</th>\n",
       "      <th>-46.66</th>\n",
       "      <td>1</td>\n",
       "    </tr>\n",
       "    <tr>\n",
       "      <th>2.861606</th>\n",
       "      <th>1.070000e+09</th>\n",
       "      <th>50</th>\n",
       "      <th>-23.58</th>\n",
       "      <th>-46.65</th>\n",
       "      <td>4</td>\n",
       "    </tr>\n",
       "    <tr>\n",
       "      <th>2.861710</th>\n",
       "      <th>1.070000e+09</th>\n",
       "      <th>50</th>\n",
       "      <th>-23.58</th>\n",
       "      <th>-46.66</th>\n",
       "      <td>1</td>\n",
       "    </tr>\n",
       "    <tr>\n",
       "      <th>2.862022</th>\n",
       "      <th>-1.000000e+00</th>\n",
       "      <th>-1</th>\n",
       "      <th>-23.56</th>\n",
       "      <th>-46.65</th>\n",
       "      <td>2</td>\n",
       "    </tr>\n",
       "    <tr>\n",
       "      <th>2.862101</th>\n",
       "      <th>-1.000000e+00</th>\n",
       "      <th>-1</th>\n",
       "      <th>-23.56</th>\n",
       "      <th>-46.65</th>\n",
       "      <td>6</td>\n",
       "    </tr>\n",
       "    <tr>\n",
       "      <th>2.862210</th>\n",
       "      <th>-1.000000e+00</th>\n",
       "      <th>-1</th>\n",
       "      <th>-23.55</th>\n",
       "      <th>-46.66</th>\n",
       "      <td>1</td>\n",
       "    </tr>\n",
       "    <tr>\n",
       "      <th>5.722837</th>\n",
       "      <th>-1.000000e+00</th>\n",
       "      <th>-1</th>\n",
       "      <th>-23.59</th>\n",
       "      <th>-46.63</th>\n",
       "      <td>1</td>\n",
       "    </tr>\n",
       "    <tr>\n",
       "      <th>5.723167</th>\n",
       "      <th>1.070000e+09</th>\n",
       "      <th>50</th>\n",
       "      <th>-23.58</th>\n",
       "      <th>-46.65</th>\n",
       "      <td>2</td>\n",
       "    </tr>\n",
       "    <tr>\n",
       "      <th>5.723401</th>\n",
       "      <th>-1.000000e+00</th>\n",
       "      <th>-1</th>\n",
       "      <th>-23.58</th>\n",
       "      <th>-46.64</th>\n",
       "      <td>1</td>\n",
       "    </tr>\n",
       "    <tr>\n",
       "      <th>5.723618</th>\n",
       "      <th>-1.000000e+00</th>\n",
       "      <th>-1</th>\n",
       "      <th>-23.57</th>\n",
       "      <th>-46.64</th>\n",
       "      <td>2</td>\n",
       "    </tr>\n",
       "    <tr>\n",
       "      <th rowspan=\"3\" valign=\"top\">0077431ca40d7d0c028247ecb1da9874</th>\n",
       "      <th rowspan=\"3\" valign=\"top\">11/20/18</th>\n",
       "      <th rowspan=\"3\" valign=\"top\">Rio de Janeiro</th>\n",
       "      <th rowspan=\"3\" valign=\"top\">2/27/19</th>\n",
       "      <th rowspan=\"3\" valign=\"top\">3/7/19</th>\n",
       "      <th rowspan=\"3\" valign=\"top\">2</th>\n",
       "      <th rowspan=\"3\" valign=\"top\">0</th>\n",
       "      <th rowspan=\"3\" valign=\"top\">0</th>\n",
       "      <th rowspan=\"3\" valign=\"top\">1.318039</th>\n",
       "      <th>-1.000000e+00</th>\n",
       "      <th>-1</th>\n",
       "      <th>-22.97</th>\n",
       "      <th>-43.19</th>\n",
       "      <td>7</td>\n",
       "    </tr>\n",
       "    <tr>\n",
       "      <th>5.760000e+02</th>\n",
       "      <th>0</th>\n",
       "      <th>-22.97</th>\n",
       "      <th>-43.19</th>\n",
       "      <td>2</td>\n",
       "    </tr>\n",
       "    <tr>\n",
       "      <th>8.730000e+02</th>\n",
       "      <th>0</th>\n",
       "      <th>-22.97</th>\n",
       "      <th>-43.19</th>\n",
       "      <td>2</td>\n",
       "    </tr>\n",
       "  </tbody>\n",
       "</table>\n",
       "</div>"
      ],
      "text/plain": [
       "                                                                                                                                                                                                                             impressions_returned\n",
       "id_user                          ds_search query_market   query_checkin query_checkout query_num_guests query_num_children query_num_infants query_radius query_price_max query_price_min query_center_lat query_center_lng                      \n",
       "00226cf02c6c8907b096d0637bc84b29 11/21/18  Sao Paulo      12/7/18       12/9/18        2                0                  0                 2.861446      1.070000e+09    50             -23.59           -46.66                               1\n",
       "                                                                                                                                             2.861502     -1.000000e+00   -1              -23.58           -46.64                               4\n",
       "                                                                                                                                             2.861563      1.070000e+09    50             -23.58           -46.66                               1\n",
       "                                                                                                                                             2.861606      1.070000e+09    50             -23.58           -46.65                               4\n",
       "                                                                                                                                             2.861710      1.070000e+09    50             -23.58           -46.66                               1\n",
       "                                                                                                                                             2.862022     -1.000000e+00   -1              -23.56           -46.65                               2\n",
       "                                                                                                                                             2.862101     -1.000000e+00   -1              -23.56           -46.65                               6\n",
       "                                                                                                                                             2.862210     -1.000000e+00   -1              -23.55           -46.66                               1\n",
       "                                                                                                                                             5.722837     -1.000000e+00   -1              -23.59           -46.63                               1\n",
       "                                                                                                                                             5.723167      1.070000e+09    50             -23.58           -46.65                               2\n",
       "                                                                                                                                             5.723401     -1.000000e+00   -1              -23.58           -46.64                               1\n",
       "                                                                                                                                             5.723618     -1.000000e+00   -1              -23.57           -46.64                               2\n",
       "0077431ca40d7d0c028247ecb1da9874 11/20/18  Rio de Janeiro 2/27/19       3/7/19         2                0                  0                 1.318039     -1.000000e+00   -1              -22.97           -43.19                               7\n",
       "                                                                                                                                                           5.760000e+02    0              -22.97           -43.19                               2\n",
       "                                                                                                                                                           8.730000e+02    0              -22.97           -43.19                               2"
      ]
     },
     "execution_count": 16,
     "metadata": {},
     "output_type": "execute_result"
    }
   ],
   "source": [
    "search_window_full_query = df.groupby([i for i in df if (i in ['ds_search', 'id_user'] \n",
    "                                                         or i.startswith('query'))]).id_search.count()\\\n",
    "    .to_frame().rename(columns={'id_search': 'impressions_returned'})\n",
    "\n",
    "search_window_full_query.head(15)"
   ]
  },
  {
   "cell_type": "code",
   "execution_count": 17,
   "metadata": {
    "collapsed": false
   },
   "outputs": [
    {
     "data": {
      "text/plain": [
       "Text(0,0.5,'number of pools')"
      ]
     },
     "execution_count": 17,
     "metadata": {},
     "output_type": "execute_result"
    },
    {
     "data": {
      "image/png": "[encoded data removed]",
      "text/plain": [
       "<Figure size 432x288 with 1 Axes>"
      ]
     },
     "metadata": {
      "needs_background": "light"
     },
     "output_type": "display_data"
    }
   ],
   "source": [
    "search_window_full_query.hist(bins=search_window_full_query.impressions_returned.max())\n",
    "plt.xlabel('number of records in pool')\n",
    "plt.ylabel('number of pools')"
   ]
  },
  {
   "cell_type": "markdown",
   "metadata": {},
   "source": [
    "#### Impact of key parameterization\n",
    "By moving from the most restrictive to a slightly less restrictive pooling we gain an averge of 15% in pool size, \n",
    "noting the lift in gain follows the skew of the volume. Future work in number of searches correlating with likelihood of booking is another interesting area to explore."
   ]
  },
  {
   "cell_type": "code",
   "execution_count": 18,
   "metadata": {
    "collapsed": false
   },
   "outputs": [
    {
     "data": {
      "text/html": [
       "<div>\n",
       "<style scoped>\n",
       "    .dataframe tbody tr th:only-of-type {\n",
       "        vertical-align: middle;\n",
       "    }\n",
       "\n",
       "    .dataframe tbody tr th {\n",
       "        vertical-align: top;\n",
       "    }\n",
       "\n",
       "    .dataframe thead th {\n",
       "        text-align: right;\n",
       "    }\n",
       "</style>\n",
       "<table border=\"1\" class=\"dataframe\">\n",
       "  <thead>\n",
       "    <tr style=\"text-align: right;\">\n",
       "      <th></th>\n",
       "      <th>search_id</th>\n",
       "      <th>search_window</th>\n",
       "      <th>search_window_full_query</th>\n",
       "    </tr>\n",
       "  </thead>\n",
       "  <tbody>\n",
       "    <tr>\n",
       "      <th>count</th>\n",
       "      <td>38325.000000</td>\n",
       "      <td>4542.000000</td>\n",
       "      <td>33318.000000</td>\n",
       "    </tr>\n",
       "    <tr>\n",
       "      <th>mean</th>\n",
       "      <td>2.840809</td>\n",
       "      <td>23.970498</td>\n",
       "      <td>3.267723</td>\n",
       "    </tr>\n",
       "    <tr>\n",
       "      <th>std</th>\n",
       "      <td>2.232785</td>\n",
       "      <td>29.156640</td>\n",
       "      <td>3.295503</td>\n",
       "    </tr>\n",
       "    <tr>\n",
       "      <th>min</th>\n",
       "      <td>1.000000</td>\n",
       "      <td>1.000000</td>\n",
       "      <td>1.000000</td>\n",
       "    </tr>\n",
       "    <tr>\n",
       "      <th>20%</th>\n",
       "      <td>1.000000</td>\n",
       "      <td>4.000000</td>\n",
       "      <td>1.000000</td>\n",
       "    </tr>\n",
       "    <tr>\n",
       "      <th>40%</th>\n",
       "      <td>2.000000</td>\n",
       "      <td>9.000000</td>\n",
       "      <td>2.000000</td>\n",
       "    </tr>\n",
       "    <tr>\n",
       "      <th>50%</th>\n",
       "      <td>2.000000</td>\n",
       "      <td>13.000000</td>\n",
       "      <td>2.000000</td>\n",
       "    </tr>\n",
       "    <tr>\n",
       "      <th>60.0%</th>\n",
       "      <td>3.000000</td>\n",
       "      <td>19.000000</td>\n",
       "      <td>3.000000</td>\n",
       "    </tr>\n",
       "    <tr>\n",
       "      <th>80%</th>\n",
       "      <td>4.000000</td>\n",
       "      <td>38.800000</td>\n",
       "      <td>5.000000</td>\n",
       "    </tr>\n",
       "    <tr>\n",
       "      <th>max</th>\n",
       "      <td>18.000000</td>\n",
       "      <td>296.000000</td>\n",
       "      <td>63.000000</td>\n",
       "    </tr>\n",
       "  </tbody>\n",
       "</table>\n",
       "</div>"
      ],
      "text/plain": [
       "          search_id  search_window  search_window_full_query\n",
       "count  38325.000000    4542.000000              33318.000000\n",
       "mean       2.840809      23.970498                  3.267723\n",
       "std        2.232785      29.156640                  3.295503\n",
       "min        1.000000       1.000000                  1.000000\n",
       "20%        1.000000       4.000000                  1.000000\n",
       "40%        2.000000       9.000000                  2.000000\n",
       "50%        2.000000      13.000000                  2.000000\n",
       "60.0%      3.000000      19.000000                  3.000000\n",
       "80%        4.000000      38.800000                  5.000000\n",
       "max       18.000000     296.000000                 63.000000"
      ]
     },
     "execution_count": 18,
     "metadata": {},
     "output_type": "execute_result"
    }
   ],
   "source": [
    "description = pd.concat([i.describe(percentiles=pd.np.linspace(.2,.8,4)) for i in\n",
    "                         [search_id, search_window, search_window_full_query]], axis=1)\n",
    "description.columns = ['search_id', 'search_window', 'search_window_full_query']\n",
    "description"
   ]
  },
  {
   "cell_type": "markdown",
   "metadata": {},
   "source": [
    "####  Number of searches per user per day\n",
    "There is a lot to explore in user search interactions. I'll curtail that discussion to allow for more time on the system itself with a last look at user searches per day as support for query parameter based pooling over pooling by search_id only. Here we see a stable search count per user per day"
   ]
  },
  {
   "cell_type": "code",
   "execution_count": 19,
   "metadata": {
    "collapsed": false
   },
   "outputs": [
    {
     "data": {
      "text/html": [
       "<div>\n",
       "<style scoped>\n",
       "    .dataframe tbody tr th:only-of-type {\n",
       "        vertical-align: middle;\n",
       "    }\n",
       "\n",
       "    .dataframe tbody tr th {\n",
       "        vertical-align: top;\n",
       "    }\n",
       "\n",
       "    .dataframe thead th {\n",
       "        text-align: right;\n",
       "    }\n",
       "</style>\n",
       "<table border=\"1\" class=\"dataframe\">\n",
       "  <thead>\n",
       "    <tr style=\"text-align: right;\">\n",
       "      <th></th>\n",
       "      <th>count</th>\n",
       "      <th>mean</th>\n",
       "      <th>std</th>\n",
       "      <th>min</th>\n",
       "      <th>25%</th>\n",
       "      <th>50%</th>\n",
       "      <th>75%</th>\n",
       "      <th>max</th>\n",
       "    </tr>\n",
       "    <tr>\n",
       "      <th>ds_search</th>\n",
       "      <th></th>\n",
       "      <th></th>\n",
       "      <th></th>\n",
       "      <th></th>\n",
       "      <th></th>\n",
       "      <th></th>\n",
       "      <th></th>\n",
       "      <th></th>\n",
       "    </tr>\n",
       "  </thead>\n",
       "  <tbody>\n",
       "    <tr>\n",
       "      <th>11/20/18</th>\n",
       "      <td>869.0</td>\n",
       "      <td>10.698504</td>\n",
       "      <td>11.633468</td>\n",
       "      <td>1.0</td>\n",
       "      <td>3.0</td>\n",
       "      <td>7.0</td>\n",
       "      <td>14.0</td>\n",
       "      <td>94.0</td>\n",
       "    </tr>\n",
       "    <tr>\n",
       "      <th>11/21/18</th>\n",
       "      <td>965.0</td>\n",
       "      <td>10.222798</td>\n",
       "      <td>10.957344</td>\n",
       "      <td>1.0</td>\n",
       "      <td>3.0</td>\n",
       "      <td>7.0</td>\n",
       "      <td>14.0</td>\n",
       "      <td>101.0</td>\n",
       "    </tr>\n",
       "    <tr>\n",
       "      <th>11/22/18</th>\n",
       "      <td>958.0</td>\n",
       "      <td>10.515658</td>\n",
       "      <td>11.095447</td>\n",
       "      <td>1.0</td>\n",
       "      <td>3.0</td>\n",
       "      <td>7.0</td>\n",
       "      <td>14.0</td>\n",
       "      <td>79.0</td>\n",
       "    </tr>\n",
       "    <tr>\n",
       "      <th>11/23/18</th>\n",
       "      <td>927.0</td>\n",
       "      <td>9.804746</td>\n",
       "      <td>9.719703</td>\n",
       "      <td>1.0</td>\n",
       "      <td>3.0</td>\n",
       "      <td>7.0</td>\n",
       "      <td>14.0</td>\n",
       "      <td>75.0</td>\n",
       "    </tr>\n",
       "  </tbody>\n",
       "</table>\n",
       "</div>"
      ],
      "text/plain": [
       "           count       mean        std  min  25%  50%   75%    max\n",
       "ds_search                                                         \n",
       "11/20/18   869.0  10.698504  11.633468  1.0  3.0  7.0  14.0   94.0\n",
       "11/21/18   965.0  10.222798  10.957344  1.0  3.0  7.0  14.0  101.0\n",
       "11/22/18   958.0  10.515658  11.095447  1.0  3.0  7.0  14.0   79.0\n",
       "11/23/18   927.0   9.804746   9.719703  1.0  3.0  7.0  14.0   75.0"
      ]
     },
     "execution_count": 19,
     "metadata": {},
     "output_type": "execute_result"
    }
   ],
   "source": [
    "user_searches = df[['id_search', 'id_user', 'ds_search']].drop_duplicates().groupby(['id_user', 'ds_search'])\\\n",
    ".id_search.count().to_frame().rename(columns={'id_search': 'searches_per_user'}).reset_index().groupby('ds_search')\\\n",
    ".searches_per_user\n",
    "\n",
    "user_searches.describe()"
   ]
  },
  {
   "cell_type": "code",
   "execution_count": 20,
   "metadata": {
    "collapsed": false
   },
   "outputs": [
    {
     "data": {
      "text/plain": [
       "ds_search\n",
       "11/20/18    AxesSubplot(0.125,0.125;0.775x0.755)\n",
       "11/21/18    AxesSubplot(0.125,0.125;0.775x0.755)\n",
       "11/22/18    AxesSubplot(0.125,0.125;0.775x0.755)\n",
       "11/23/18    AxesSubplot(0.125,0.125;0.775x0.755)\n",
       "Name: searches_per_user, dtype: object"
      ]
     },
     "execution_count": 20,
     "metadata": {},
     "output_type": "execute_result"
    },
    {
     "data": {
      "image/png": "[encoded data removed]",
      "text/plain": [
       "<Figure size 432x288 with 1 Axes>"
      ]
     },
     "metadata": {
      "needs_background": "light"
     },
     "output_type": "display_data"
    }
   ],
   "source": [
    "user_searches.plot.hist(bins=range(1, 21), histtype='bar', alpha=.2)"
   ]
  },
  {
   "cell_type": "markdown",
   "metadata": {},
   "source": [
    "## Modeling\n",
    "#### Baseline\n",
    "In this section I'll begin with a raw inspection of fields to make sure that a baseline model is not suffering from any leakage and evaluate before moving on to more in depth data inspection and feature engineering"
   ]
  },
  {
   "cell_type": "code",
   "execution_count": 21,
   "metadata": {
    "collapsed": false
   },
   "outputs": [
    {
     "data": {
      "text/html": [
       "<div>\n",
       "<style scoped>\n",
       "    .dataframe tbody tr th:only-of-type {\n",
       "        vertical-align: middle;\n",
       "    }\n",
       "\n",
       "    .dataframe tbody tr th {\n",
       "        vertical-align: top;\n",
       "    }\n",
       "\n",
       "    .dataframe thead th {\n",
       "        text-align: right;\n",
       "    }\n",
       "</style>\n",
       "<table border=\"1\" class=\"dataframe\">\n",
       "  <thead>\n",
       "    <tr style=\"text-align: right;\">\n",
       "      <th></th>\n",
       "      <th>id_search</th>\n",
       "      <th>label</th>\n",
       "      <th>id_user</th>\n",
       "      <th>id_listing</th>\n",
       "      <th>ts_search</th>\n",
       "      <th>ds_search</th>\n",
       "      <th>ds_book</th>\n",
       "      <th>ds_contact</th>\n",
       "      <th>query_market</th>\n",
       "      <th>query_checkin</th>\n",
       "      <th>query_checkout</th>\n",
       "      <th>query_num_guests</th>\n",
       "      <th>query_num_children</th>\n",
       "      <th>query_num_infants</th>\n",
       "      <th>query_radius</th>\n",
       "      <th>query_price_max</th>\n",
       "      <th>query_price_min</th>\n",
       "      <th>query_center_lat</th>\n",
       "      <th>query_center_lng</th>\n",
       "      <th>listing_is_new</th>\n",
       "      <th>listing_total_price</th>\n",
       "      <th>listing_instant_bookable</th>\n",
       "      <th>listing_lat</th>\n",
       "      <th>listing_lng</th>\n",
       "      <th>listing_review_rating</th>\n",
       "      <th>listing_review_count</th>\n",
       "      <th>listing_property_type</th>\n",
       "      <th>listing_room_type</th>\n",
       "      <th>listing_num_beds</th>\n",
       "      <th>listing_num_bedrooms</th>\n",
       "      <th>listing_num_bathrooms</th>\n",
       "      <th>listing_person_capacity</th>\n",
       "      <th>listing_has_pro_pictures</th>\n",
       "      <th>listing_num_recent_reservations</th>\n",
       "      <th>listing_location_rating</th>\n",
       "      <th>listing_cleanliness_rating</th>\n",
       "      <th>listing_checkin_rating</th>\n",
       "      <th>listing_value_rating</th>\n",
       "      <th>listing_communication_rating</th>\n",
       "      <th>listing_accuracy_rating</th>\n",
       "      <th>listing_num_books_90day</th>\n",
       "      <th>listing_occupancy_rate</th>\n",
       "      <th>listing_monthly_discount</th>\n",
       "      <th>listing_weekly_discount</th>\n",
       "      <th>listing_cleaning_fee</th>\n",
       "      <th>listing_monthly_price_factor</th>\n",
       "      <th>listing_weekly_price_factor</th>\n",
       "      <th>listing_minimum_nights</th>\n",
       "      <th>listing_maximum_nights</th>\n",
       "    </tr>\n",
       "  </thead>\n",
       "  <tbody>\n",
       "    <tr>\n",
       "      <th>25</th>\n",
       "      <td>c197cac4-4d3e-4644-837d-b8664bcf9a35</td>\n",
       "      <td>impression</td>\n",
       "      <td>f9d0b13bfe4dc6a76862b4884f1c08e6</td>\n",
       "      <td>350f0b56db405ba2bd6625ee27ed93bb</td>\n",
       "      <td>1542981540000000000</td>\n",
       "      <td>11/23/18</td>\n",
       "      <td>NaN</td>\n",
       "      <td>NaN</td>\n",
       "      <td>Sao Paulo</td>\n",
       "      <td>11/27/18</td>\n",
       "      <td>11/30/18</td>\n",
       "      <td>1</td>\n",
       "      <td>0</td>\n",
       "      <td>0</td>\n",
       "      <td>0.860144</td>\n",
       "      <td>-1.0</td>\n",
       "      <td>-1</td>\n",
       "      <td>-23.59</td>\n",
       "      <td>-46.68</td>\n",
       "      <td>1</td>\n",
       "      <td>300.00000</td>\n",
       "      <td>False</td>\n",
       "      <td>-23.58</td>\n",
       "      <td>-46.67</td>\n",
       "      <td>0.000000</td>\n",
       "      <td>0.0</td>\n",
       "      <td>1.0</td>\n",
       "      <td>Private Room</td>\n",
       "      <td>1.0</td>\n",
       "      <td>1.0</td>\n",
       "      <td>1</td>\n",
       "      <td>2</td>\n",
       "      <td>NaN</td>\n",
       "      <td>0</td>\n",
       "      <td>-1.000000</td>\n",
       "      <td>-1.000000</td>\n",
       "      <td>-1.000000</td>\n",
       "      <td>-1.000000</td>\n",
       "      <td>-1.000000</td>\n",
       "      <td>-1.000000</td>\n",
       "      <td>0.0</td>\n",
       "      <td>0.000000</td>\n",
       "      <td>0</td>\n",
       "      <td>0</td>\n",
       "      <td>NaN</td>\n",
       "      <td>NaN</td>\n",
       "      <td>NaN</td>\n",
       "      <td>1.0</td>\n",
       "      <td>1125.0</td>\n",
       "    </tr>\n",
       "    <tr>\n",
       "      <th>26</th>\n",
       "      <td>073080bb-8453-4c62-b679-8c48dd070dec</td>\n",
       "      <td>click</td>\n",
       "      <td>f9d0b13bfe4dc6a76862b4884f1c08e6</td>\n",
       "      <td>19cacd588e89c13d513ed7771484d43e</td>\n",
       "      <td>1542840540000000000</td>\n",
       "      <td>11/21/18</td>\n",
       "      <td>NaN</td>\n",
       "      <td>NaN</td>\n",
       "      <td>Sao Paulo</td>\n",
       "      <td>11/28/18</td>\n",
       "      <td>11/30/18</td>\n",
       "      <td>1</td>\n",
       "      <td>0</td>\n",
       "      <td>0</td>\n",
       "      <td>0.479950</td>\n",
       "      <td>220.0</td>\n",
       "      <td>0</td>\n",
       "      <td>-23.59</td>\n",
       "      <td>-46.68</td>\n",
       "      <td>0</td>\n",
       "      <td>143.71162</td>\n",
       "      <td>False</td>\n",
       "      <td>-23.59</td>\n",
       "      <td>-46.68</td>\n",
       "      <td>4.000000</td>\n",
       "      <td>3.0</td>\n",
       "      <td>47.0</td>\n",
       "      <td>Entire Home</td>\n",
       "      <td>3.0</td>\n",
       "      <td>2.0</td>\n",
       "      <td>1</td>\n",
       "      <td>4</td>\n",
       "      <td>False</td>\n",
       "      <td>0</td>\n",
       "      <td>5.000000</td>\n",
       "      <td>4.000000</td>\n",
       "      <td>5.000000</td>\n",
       "      <td>4.333334</td>\n",
       "      <td>5.000000</td>\n",
       "      <td>5.000000</td>\n",
       "      <td>1.0</td>\n",
       "      <td>NaN</td>\n",
       "      <td>0</td>\n",
       "      <td>0</td>\n",
       "      <td>39.919950</td>\n",
       "      <td>NaN</td>\n",
       "      <td>NaN</td>\n",
       "      <td>2.0</td>\n",
       "      <td>1125.0</td>\n",
       "    </tr>\n",
       "    <tr>\n",
       "      <th>27</th>\n",
       "      <td>f83903b1-7b0f-4234-b516-b4b15f3f57e9</td>\n",
       "      <td>book</td>\n",
       "      <td>f9d0b13bfe4dc6a76862b4884f1c08e6</td>\n",
       "      <td>714dcf2e4f64324b4a48942ca3f14745</td>\n",
       "      <td>1542983340000000000</td>\n",
       "      <td>11/23/18</td>\n",
       "      <td>11/23/18</td>\n",
       "      <td>11/23/18</td>\n",
       "      <td>Sao Paulo</td>\n",
       "      <td>11/27/18</td>\n",
       "      <td>11/30/18</td>\n",
       "      <td>1</td>\n",
       "      <td>0</td>\n",
       "      <td>0</td>\n",
       "      <td>0.729681</td>\n",
       "      <td>140.0</td>\n",
       "      <td>0</td>\n",
       "      <td>-23.59</td>\n",
       "      <td>-46.68</td>\n",
       "      <td>0</td>\n",
       "      <td>201.31122</td>\n",
       "      <td>False</td>\n",
       "      <td>-23.58</td>\n",
       "      <td>-46.67</td>\n",
       "      <td>4.666666</td>\n",
       "      <td>18.0</td>\n",
       "      <td>47.0</td>\n",
       "      <td>Entire Home</td>\n",
       "      <td>2.0</td>\n",
       "      <td>1.0</td>\n",
       "      <td>NaN</td>\n",
       "      <td>3</td>\n",
       "      <td>NaN</td>\n",
       "      <td>0</td>\n",
       "      <td>4.944445</td>\n",
       "      <td>4.944445</td>\n",
       "      <td>4.888889</td>\n",
       "      <td>4.500000</td>\n",
       "      <td>4.888889</td>\n",
       "      <td>4.777778</td>\n",
       "      <td>22.0</td>\n",
       "      <td>0.727273</td>\n",
       "      <td>1</td>\n",
       "      <td>1</td>\n",
       "      <td>13.149002</td>\n",
       "      <td>0.8</td>\n",
       "      <td>0.95</td>\n",
       "      <td>1.0</td>\n",
       "      <td>89.0</td>\n",
       "    </tr>\n",
       "  </tbody>\n",
       "</table>\n",
       "</div>"
      ],
      "text/plain": [
       "                               id_search       label  \\\n",
       "25  c197cac4-4d3e-4644-837d-b8664bcf9a35  impression   \n",
       "26  073080bb-8453-4c62-b679-8c48dd070dec       click   \n",
       "27  f83903b1-7b0f-4234-b516-b4b15f3f57e9        book   \n",
       "\n",
       "                             id_user                        id_listing  \\\n",
       "25  f9d0b13bfe4dc6a76862b4884f1c08e6  350f0b56db405ba2bd6625ee27ed93bb   \n",
       "26  f9d0b13bfe4dc6a76862b4884f1c08e6  19cacd588e89c13d513ed7771484d43e   \n",
       "27  f9d0b13bfe4dc6a76862b4884f1c08e6  714dcf2e4f64324b4a48942ca3f14745   \n",
       "\n",
       "              ts_search ds_search   ds_book ds_contact query_market  \\\n",
       "25  1542981540000000000  11/23/18       NaN        NaN    Sao Paulo   \n",
       "26  1542840540000000000  11/21/18       NaN        NaN    Sao Paulo   \n",
       "27  1542983340000000000  11/23/18  11/23/18   11/23/18    Sao Paulo   \n",
       "\n",
       "   query_checkin query_checkout  query_num_guests  query_num_children  \\\n",
       "25      11/27/18       11/30/18                 1                   0   \n",
       "26      11/28/18       11/30/18                 1                   0   \n",
       "27      11/27/18       11/30/18                 1                   0   \n",
       "\n",
       "    query_num_infants  query_radius  query_price_max  query_price_min  \\\n",
       "25                  0      0.860144             -1.0               -1   \n",
       "26                  0      0.479950            220.0                0   \n",
       "27                  0      0.729681            140.0                0   \n",
       "\n",
       "    query_center_lat  query_center_lng  listing_is_new  listing_total_price  \\\n",
       "25            -23.59            -46.68               1            300.00000   \n",
       "26            -23.59            -46.68               0            143.71162   \n",
       "27            -23.59            -46.68               0            201.31122   \n",
       "\n",
       "    listing_instant_bookable  listing_lat  listing_lng  listing_review_rating  \\\n",
       "25                     False       -23.58       -46.67               0.000000   \n",
       "26                     False       -23.59       -46.68               4.000000   \n",
       "27                     False       -23.58       -46.67               4.666666   \n",
       "\n",
       "    listing_review_count  listing_property_type listing_room_type  \\\n",
       "25                   0.0                    1.0      Private Room   \n",
       "26                   3.0                   47.0       Entire Home   \n",
       "27                  18.0                   47.0       Entire Home   \n",
       "\n",
       "    listing_num_beds  listing_num_bedrooms listing_num_bathrooms  \\\n",
       "25               1.0                   1.0                     1   \n",
       "26               3.0                   2.0                     1   \n",
       "27               2.0                   1.0                   NaN   \n",
       "\n",
       "    listing_person_capacity listing_has_pro_pictures  \\\n",
       "25                        2                      NaN   \n",
       "26                        4                    False   \n",
       "27                        3                      NaN   \n",
       "\n",
       "    listing_num_recent_reservations  listing_location_rating  \\\n",
       "25                                0                -1.000000   \n",
       "26                                0                 5.000000   \n",
       "27                                0                 4.944445   \n",
       "\n",
       "    listing_cleanliness_rating  listing_checkin_rating  listing_value_rating  \\\n",
       "25                   -1.000000               -1.000000             -1.000000   \n",
       "26                    4.000000                5.000000              4.333334   \n",
       "27                    4.944445                4.888889              4.500000   \n",
       "\n",
       "    listing_communication_rating  listing_accuracy_rating  \\\n",
       "25                     -1.000000                -1.000000   \n",
       "26                      5.000000                 5.000000   \n",
       "27                      4.888889                 4.777778   \n",
       "\n",
       "    listing_num_books_90day  listing_occupancy_rate  listing_monthly_discount  \\\n",
       "25                      0.0                0.000000                         0   \n",
       "26                      1.0                     NaN                         0   \n",
       "27                     22.0                0.727273                         1   \n",
       "\n",
       "    listing_weekly_discount  listing_cleaning_fee  \\\n",
       "25                        0                   NaN   \n",
       "26                        0             39.919950   \n",
       "27                        1             13.149002   \n",
       "\n",
       "   listing_monthly_price_factor  listing_weekly_price_factor  \\\n",
       "25                          NaN                          NaN   \n",
       "26                          NaN                          NaN   \n",
       "27                          0.8                         0.95   \n",
       "\n",
       "    listing_minimum_nights  listing_maximum_nights  \n",
       "25                     1.0                  1125.0  \n",
       "26                     2.0                  1125.0  \n",
       "27                     1.0                    89.0  "
      ]
     },
     "execution_count": 21,
     "metadata": {},
     "output_type": "execute_result"
    }
   ],
   "source": [
    "df.head(3)"
   ]
  },
  {
   "cell_type": "code",
   "execution_count": 22,
   "metadata": {
    "collapsed": false
   },
   "outputs": [
    {
     "data": {
      "text/html": [
       "<div>\n",
       "<style scoped>\n",
       "    .dataframe tbody tr th:only-of-type {\n",
       "        vertical-align: middle;\n",
       "    }\n",
       "\n",
       "    .dataframe tbody tr th {\n",
       "        vertical-align: top;\n",
       "    }\n",
       "\n",
       "    .dataframe thead th {\n",
       "        text-align: right;\n",
       "    }\n",
       "</style>\n",
       "<table border=\"1\" class=\"dataframe\">\n",
       "  <thead>\n",
       "    <tr style=\"text-align: right;\">\n",
       "      <th></th>\n",
       "      <th>id_search</th>\n",
       "      <th>label</th>\n",
       "      <th>id_user</th>\n",
       "      <th>id_listing</th>\n",
       "      <th>ts_search</th>\n",
       "      <th>ds_search</th>\n",
       "      <th>ds_book</th>\n",
       "      <th>ds_contact</th>\n",
       "      <th>query_market</th>\n",
       "      <th>query_checkin</th>\n",
       "      <th>query_checkout</th>\n",
       "      <th>query_num_guests</th>\n",
       "      <th>query_num_children</th>\n",
       "      <th>query_num_infants</th>\n",
       "      <th>query_radius</th>\n",
       "      <th>query_price_max</th>\n",
       "      <th>query_price_min</th>\n",
       "      <th>query_center_lat</th>\n",
       "      <th>query_center_lng</th>\n",
       "      <th>listing_is_new</th>\n",
       "      <th>listing_total_price</th>\n",
       "      <th>listing_instant_bookable</th>\n",
       "      <th>listing_lat</th>\n",
       "      <th>listing_lng</th>\n",
       "      <th>listing_review_rating</th>\n",
       "      <th>listing_review_count</th>\n",
       "      <th>listing_property_type</th>\n",
       "      <th>listing_room_type</th>\n",
       "      <th>listing_num_beds</th>\n",
       "      <th>listing_num_bedrooms</th>\n",
       "      <th>listing_num_bathrooms</th>\n",
       "      <th>listing_person_capacity</th>\n",
       "      <th>listing_has_pro_pictures</th>\n",
       "      <th>listing_num_recent_reservations</th>\n",
       "      <th>listing_location_rating</th>\n",
       "      <th>listing_cleanliness_rating</th>\n",
       "      <th>listing_checkin_rating</th>\n",
       "      <th>listing_value_rating</th>\n",
       "      <th>listing_communication_rating</th>\n",
       "      <th>listing_accuracy_rating</th>\n",
       "      <th>listing_num_books_90day</th>\n",
       "      <th>listing_occupancy_rate</th>\n",
       "      <th>listing_monthly_discount</th>\n",
       "      <th>listing_weekly_discount</th>\n",
       "      <th>listing_cleaning_fee</th>\n",
       "      <th>listing_monthly_price_factor</th>\n",
       "      <th>listing_weekly_price_factor</th>\n",
       "      <th>listing_minimum_nights</th>\n",
       "      <th>listing_maximum_nights</th>\n",
       "    </tr>\n",
       "  </thead>\n",
       "  <tbody>\n",
       "    <tr>\n",
       "      <th>0</th>\n",
       "      <td>object</td>\n",
       "      <td>object</td>\n",
       "      <td>object</td>\n",
       "      <td>object</td>\n",
       "      <td>int64</td>\n",
       "      <td>object</td>\n",
       "      <td>object</td>\n",
       "      <td>object</td>\n",
       "      <td>object</td>\n",
       "      <td>object</td>\n",
       "      <td>object</td>\n",
       "      <td>int64</td>\n",
       "      <td>int64</td>\n",
       "      <td>int64</td>\n",
       "      <td>float64</td>\n",
       "      <td>float64</td>\n",
       "      <td>int64</td>\n",
       "      <td>float64</td>\n",
       "      <td>float64</td>\n",
       "      <td>int64</td>\n",
       "      <td>float64</td>\n",
       "      <td>bool</td>\n",
       "      <td>float64</td>\n",
       "      <td>float64</td>\n",
       "      <td>float64</td>\n",
       "      <td>float64</td>\n",
       "      <td>float64</td>\n",
       "      <td>object</td>\n",
       "      <td>float64</td>\n",
       "      <td>float64</td>\n",
       "      <td>object</td>\n",
       "      <td>int64</td>\n",
       "      <td>object</td>\n",
       "      <td>int64</td>\n",
       "      <td>float64</td>\n",
       "      <td>float64</td>\n",
       "      <td>float64</td>\n",
       "      <td>float64</td>\n",
       "      <td>float64</td>\n",
       "      <td>float64</td>\n",
       "      <td>float64</td>\n",
       "      <td>float64</td>\n",
       "      <td>int64</td>\n",
       "      <td>int64</td>\n",
       "      <td>float64</td>\n",
       "      <td>object</td>\n",
       "      <td>float64</td>\n",
       "      <td>float64</td>\n",
       "      <td>float64</td>\n",
       "    </tr>\n",
       "  </tbody>\n",
       "</table>\n",
       "</div>"
      ],
      "text/plain": [
       "  id_search   label id_user id_listing ts_search ds_search ds_book ds_contact  \\\n",
       "0    object  object  object     object     int64    object  object     object   \n",
       "\n",
       "  query_market query_checkin query_checkout query_num_guests  \\\n",
       "0       object        object         object            int64   \n",
       "\n",
       "  query_num_children query_num_infants query_radius query_price_max  \\\n",
       "0              int64             int64      float64         float64   \n",
       "\n",
       "  query_price_min query_center_lat query_center_lng listing_is_new  \\\n",
       "0           int64          float64          float64          int64   \n",
       "\n",
       "  listing_total_price listing_instant_bookable listing_lat listing_lng  \\\n",
       "0             float64                     bool     float64     float64   \n",
       "\n",
       "  listing_review_rating listing_review_count listing_property_type  \\\n",
       "0               float64              float64               float64   \n",
       "\n",
       "  listing_room_type listing_num_beds listing_num_bedrooms  \\\n",
       "0            object          float64              float64   \n",
       "\n",
       "  listing_num_bathrooms listing_person_capacity listing_has_pro_pictures  \\\n",
       "0                object                   int64                   object   \n",
       "\n",
       "  listing_num_recent_reservations listing_location_rating  \\\n",
       "0                           int64                 float64   \n",
       "\n",
       "  listing_cleanliness_rating listing_checkin_rating listing_value_rating  \\\n",
       "0                    float64                float64              float64   \n",
       "\n",
       "  listing_communication_rating listing_accuracy_rating  \\\n",
       "0                      float64                 float64   \n",
       "\n",
       "  listing_num_books_90day listing_occupancy_rate listing_monthly_discount  \\\n",
       "0                 float64                float64                    int64   \n",
       "\n",
       "  listing_weekly_discount listing_cleaning_fee listing_monthly_price_factor  \\\n",
       "0                   int64              float64                       object   \n",
       "\n",
       "  listing_weekly_price_factor listing_minimum_nights listing_maximum_nights  \n",
       "0                     float64                float64                float64  "
      ]
     },
     "execution_count": 22,
     "metadata": {},
     "output_type": "execute_result"
    }
   ],
   "source": [
    "df.dtypes.to_frame().T"
   ]
  },
  {
   "cell_type": "markdown",
   "metadata": {},
   "source": [
    "#### Recasting\n",
    "A few fields need to be recast, this is most likely incorrect type inference in pandas' reader in combination with None / Null values that do not register as NaN\n",
    "\n",
    "1. listing_num_bathrooms\n",
    "2. listing_monthly_price_factor\n",
    "\n",
    "Note - listing_has_pro_pictures - technically bool - we can either convert None to False or treat it as a third category"
   ]
  },
  {
   "cell_type": "code",
   "execution_count": 23,
   "metadata": {
    "collapsed": false
   },
   "outputs": [
    {
     "name": "stdout",
     "output_type": "stream",
     "text": [
      "listing_num_bathrooms           0.051849\n",
      "listing_monthly_price_factor    0.264948\n",
      "dtype: float64\n",
      "listing_num_bathrooms           0.051849\n",
      "listing_monthly_price_factor    0.264948\n",
      "dtype: float64\n",
      "listing_num_bathrooms           float64\n",
      "listing_monthly_price_factor    float64\n",
      "dtype: object\n",
      "**********\n",
      "listing_num_bathrooms           0.050712\n",
      "listing_monthly_price_factor    0.254421\n",
      "dtype: float64\n",
      "listing_num_bathrooms           0.050746\n",
      "listing_monthly_price_factor    0.254456\n",
      "dtype: float64\n",
      "listing_num_bathrooms           float64\n",
      "listing_monthly_price_factor    float64\n",
      "dtype: object\n",
      "**********\n",
      "listing_num_bathrooms           0.050999\n",
      "listing_monthly_price_factor    0.262019\n",
      "dtype: float64\n",
      "listing_num_bathrooms           0.050999\n",
      "listing_monthly_price_factor    0.262019\n",
      "dtype: float64\n",
      "listing_num_bathrooms           float64\n",
      "listing_monthly_price_factor    float64\n",
      "dtype: object\n",
      "**********\n"
     ]
    }
   ],
   "source": [
    "def safe_float(i):\n",
    "    try:\n",
    "        return float(i)\n",
    "    except ValueError:\n",
    "        return pd.np.nan\n",
    "    \n",
    "for i in [df, validation_df, holdout_df]:\n",
    "    columns = ['listing_num_bathrooms', 'listing_monthly_price_factor']\n",
    "    print(i[columns].isnull().mean())\n",
    "    for column in columns:\n",
    "        i[column] = i[column].apply(safe_float)\n",
    "    print(i[columns].isnull().mean())\n",
    "    print(i[columns].dtypes)\n",
    "    print('*'* 10)\n",
    "    \n",
    "    # convert to timestamps\n",
    "    i['query_checkout'] = pd.to_datetime(i.query_checkout)\n",
    "    i['query_checkin'] = pd.to_datetime(i.query_checkin)"
   ]
  },
  {
   "cell_type": "code",
   "execution_count": 24,
   "metadata": {
    "collapsed": false
   },
   "outputs": [
    {
     "data": {
      "text/html": [
       "<div>\n",
       "<style scoped>\n",
       "    .dataframe tbody tr th:only-of-type {\n",
       "        vertical-align: middle;\n",
       "    }\n",
       "\n",
       "    .dataframe tbody tr th {\n",
       "        vertical-align: top;\n",
       "    }\n",
       "\n",
       "    .dataframe thead th {\n",
       "        text-align: right;\n",
       "    }\n",
       "</style>\n",
       "<table border=\"1\" class=\"dataframe\">\n",
       "  <thead>\n",
       "    <tr style=\"text-align: right;\">\n",
       "      <th></th>\n",
       "      <th>ts_search</th>\n",
       "      <th>query_num_guests</th>\n",
       "      <th>query_num_children</th>\n",
       "      <th>query_num_infants</th>\n",
       "      <th>query_radius</th>\n",
       "      <th>query_price_max</th>\n",
       "      <th>query_price_min</th>\n",
       "      <th>query_center_lat</th>\n",
       "      <th>query_center_lng</th>\n",
       "      <th>listing_is_new</th>\n",
       "      <th>listing_total_price</th>\n",
       "      <th>listing_lat</th>\n",
       "      <th>listing_lng</th>\n",
       "      <th>listing_review_rating</th>\n",
       "      <th>listing_review_count</th>\n",
       "      <th>listing_property_type</th>\n",
       "      <th>listing_num_beds</th>\n",
       "      <th>listing_num_bedrooms</th>\n",
       "      <th>listing_num_bathrooms</th>\n",
       "      <th>listing_person_capacity</th>\n",
       "      <th>listing_num_recent_reservations</th>\n",
       "      <th>listing_location_rating</th>\n",
       "      <th>listing_cleanliness_rating</th>\n",
       "      <th>listing_checkin_rating</th>\n",
       "      <th>listing_value_rating</th>\n",
       "      <th>listing_communication_rating</th>\n",
       "      <th>listing_accuracy_rating</th>\n",
       "      <th>listing_num_books_90day</th>\n",
       "      <th>listing_occupancy_rate</th>\n",
       "      <th>listing_monthly_discount</th>\n",
       "      <th>listing_weekly_discount</th>\n",
       "      <th>listing_cleaning_fee</th>\n",
       "      <th>listing_monthly_price_factor</th>\n",
       "      <th>listing_weekly_price_factor</th>\n",
       "      <th>listing_minimum_nights</th>\n",
       "      <th>listing_maximum_nights</th>\n",
       "    </tr>\n",
       "  </thead>\n",
       "  <tbody>\n",
       "    <tr>\n",
       "      <th>25</th>\n",
       "      <td>1542981540000000000</td>\n",
       "      <td>1</td>\n",
       "      <td>0</td>\n",
       "      <td>0</td>\n",
       "      <td>0.860144</td>\n",
       "      <td>-1.0</td>\n",
       "      <td>-1</td>\n",
       "      <td>-23.59</td>\n",
       "      <td>-46.68</td>\n",
       "      <td>1</td>\n",
       "      <td>300.00000</td>\n",
       "      <td>-23.58</td>\n",
       "      <td>-46.67</td>\n",
       "      <td>0.000000</td>\n",
       "      <td>0.0</td>\n",
       "      <td>1.0</td>\n",
       "      <td>1.0</td>\n",
       "      <td>1.0</td>\n",
       "      <td>1.0</td>\n",
       "      <td>2</td>\n",
       "      <td>0</td>\n",
       "      <td>-1.000000</td>\n",
       "      <td>-1.000000</td>\n",
       "      <td>-1.000000</td>\n",
       "      <td>-1.000000</td>\n",
       "      <td>-1.000000</td>\n",
       "      <td>-1.000000</td>\n",
       "      <td>0.0</td>\n",
       "      <td>0.000000</td>\n",
       "      <td>0</td>\n",
       "      <td>0</td>\n",
       "      <td>NaN</td>\n",
       "      <td>NaN</td>\n",
       "      <td>NaN</td>\n",
       "      <td>1.0</td>\n",
       "      <td>1125.0</td>\n",
       "    </tr>\n",
       "    <tr>\n",
       "      <th>26</th>\n",
       "      <td>1542840540000000000</td>\n",
       "      <td>1</td>\n",
       "      <td>0</td>\n",
       "      <td>0</td>\n",
       "      <td>0.479950</td>\n",
       "      <td>220.0</td>\n",
       "      <td>0</td>\n",
       "      <td>-23.59</td>\n",
       "      <td>-46.68</td>\n",
       "      <td>0</td>\n",
       "      <td>143.71162</td>\n",
       "      <td>-23.59</td>\n",
       "      <td>-46.68</td>\n",
       "      <td>4.000000</td>\n",
       "      <td>3.0</td>\n",
       "      <td>47.0</td>\n",
       "      <td>3.0</td>\n",
       "      <td>2.0</td>\n",
       "      <td>1.0</td>\n",
       "      <td>4</td>\n",
       "      <td>0</td>\n",
       "      <td>5.000000</td>\n",
       "      <td>4.000000</td>\n",
       "      <td>5.000000</td>\n",
       "      <td>4.333334</td>\n",
       "      <td>5.000000</td>\n",
       "      <td>5.000000</td>\n",
       "      <td>1.0</td>\n",
       "      <td>NaN</td>\n",
       "      <td>0</td>\n",
       "      <td>0</td>\n",
       "      <td>39.919950</td>\n",
       "      <td>NaN</td>\n",
       "      <td>NaN</td>\n",
       "      <td>2.0</td>\n",
       "      <td>1125.0</td>\n",
       "    </tr>\n",
       "    <tr>\n",
       "      <th>27</th>\n",
       "      <td>1542983340000000000</td>\n",
       "      <td>1</td>\n",
       "      <td>0</td>\n",
       "      <td>0</td>\n",
       "      <td>0.729681</td>\n",
       "      <td>140.0</td>\n",
       "      <td>0</td>\n",
       "      <td>-23.59</td>\n",
       "      <td>-46.68</td>\n",
       "      <td>0</td>\n",
       "      <td>201.31122</td>\n",
       "      <td>-23.58</td>\n",
       "      <td>-46.67</td>\n",
       "      <td>4.666666</td>\n",
       "      <td>18.0</td>\n",
       "      <td>47.0</td>\n",
       "      <td>2.0</td>\n",
       "      <td>1.0</td>\n",
       "      <td>NaN</td>\n",
       "      <td>3</td>\n",
       "      <td>0</td>\n",
       "      <td>4.944445</td>\n",
       "      <td>4.944445</td>\n",
       "      <td>4.888889</td>\n",
       "      <td>4.500000</td>\n",
       "      <td>4.888889</td>\n",
       "      <td>4.777778</td>\n",
       "      <td>22.0</td>\n",
       "      <td>0.727273</td>\n",
       "      <td>1</td>\n",
       "      <td>1</td>\n",
       "      <td>13.149002</td>\n",
       "      <td>0.8</td>\n",
       "      <td>0.95</td>\n",
       "      <td>1.0</td>\n",
       "      <td>89.0</td>\n",
       "    </tr>\n",
       "  </tbody>\n",
       "</table>\n",
       "</div>"
      ],
      "text/plain": [
       "              ts_search  query_num_guests  query_num_children  \\\n",
       "25  1542981540000000000                 1                   0   \n",
       "26  1542840540000000000                 1                   0   \n",
       "27  1542983340000000000                 1                   0   \n",
       "\n",
       "    query_num_infants  query_radius  query_price_max  query_price_min  \\\n",
       "25                  0      0.860144             -1.0               -1   \n",
       "26                  0      0.479950            220.0                0   \n",
       "27                  0      0.729681            140.0                0   \n",
       "\n",
       "    query_center_lat  query_center_lng  listing_is_new  listing_total_price  \\\n",
       "25            -23.59            -46.68               1            300.00000   \n",
       "26            -23.59            -46.68               0            143.71162   \n",
       "27            -23.59            -46.68               0            201.31122   \n",
       "\n",
       "    listing_lat  listing_lng  listing_review_rating  listing_review_count  \\\n",
       "25       -23.58       -46.67               0.000000                   0.0   \n",
       "26       -23.59       -46.68               4.000000                   3.0   \n",
       "27       -23.58       -46.67               4.666666                  18.0   \n",
       "\n",
       "    listing_property_type  listing_num_beds  listing_num_bedrooms  \\\n",
       "25                    1.0               1.0                   1.0   \n",
       "26                   47.0               3.0                   2.0   \n",
       "27                   47.0               2.0                   1.0   \n",
       "\n",
       "    listing_num_bathrooms  listing_person_capacity  \\\n",
       "25                    1.0                        2   \n",
       "26                    1.0                        4   \n",
       "27                    NaN                        3   \n",
       "\n",
       "    listing_num_recent_reservations  listing_location_rating  \\\n",
       "25                                0                -1.000000   \n",
       "26                                0                 5.000000   \n",
       "27                                0                 4.944445   \n",
       "\n",
       "    listing_cleanliness_rating  listing_checkin_rating  listing_value_rating  \\\n",
       "25                   -1.000000               -1.000000             -1.000000   \n",
       "26                    4.000000                5.000000              4.333334   \n",
       "27                    4.944445                4.888889              4.500000   \n",
       "\n",
       "    listing_communication_rating  listing_accuracy_rating  \\\n",
       "25                     -1.000000                -1.000000   \n",
       "26                      5.000000                 5.000000   \n",
       "27                      4.888889                 4.777778   \n",
       "\n",
       "    listing_num_books_90day  listing_occupancy_rate  listing_monthly_discount  \\\n",
       "25                      0.0                0.000000                         0   \n",
       "26                      1.0                     NaN                         0   \n",
       "27                     22.0                0.727273                         1   \n",
       "\n",
       "    listing_weekly_discount  listing_cleaning_fee  \\\n",
       "25                        0                   NaN   \n",
       "26                        0             39.919950   \n",
       "27                        1             13.149002   \n",
       "\n",
       "    listing_monthly_price_factor  listing_weekly_price_factor  \\\n",
       "25                           NaN                          NaN   \n",
       "26                           NaN                          NaN   \n",
       "27                           0.8                         0.95   \n",
       "\n",
       "    listing_minimum_nights  listing_maximum_nights  \n",
       "25                     1.0                  1125.0  \n",
       "26                     2.0                  1125.0  \n",
       "27                     1.0                    89.0  "
      ]
     },
     "execution_count": 24,
     "metadata": {},
     "output_type": "execute_result"
    }
   ],
   "source": [
    "numeric = df.select_dtypes(pd.np.number)\n",
    "numeric.head(3)"
   ]
  },
  {
   "cell_type": "markdown",
   "metadata": {},
   "source": [
    "Treatments for nulls is a critical component of model development, but to close the loop for a first baseline glm\n",
    "I'll impute the mean. Subsequent work on mean vs specific value filling vs other treatments to come in subsequent steps. "
   ]
  },
  {
   "cell_type": "markdown",
   "metadata": {},
   "source": [
    "#### Donatello\n",
    "Donatello is a personal project of mine. It's still in development, but for currently supported use cases it can be a  helpful tool for building and evaluating the scoring components of ML systems. Here I'll use it to a build scorer for the likelihood of a given impression converting to a booking. Some of it's advantages include traceability and reproducibility, a transformation graph, and terse access to a variety of cross validation and metric evaluation strategies. Some of it's disadvantages include runtime speeds (parallelization is not fully supported yet) which can couple with unintentionally building lots of models (due to nesting grid search folds within cross val folds for metric estimates if those flags are activated), and weak (but growing!) test coverage. Given more time or with existing infrastructue I'd certainly make strong considerations for using other tools or building more from scratch. \n",
    "\n",
    "NOTE: If it'd be helpful for interview-evaluation purposes to see any of the model development code built out from scratch, just let me know and I'd be happy to, thanks!"
   ]
  },
  {
   "cell_type": "code",
   "execution_count": 25,
   "metadata": {
    "collapsed": false
   },
   "outputs": [],
   "source": [
    "from sklearn.linear_model import LogisticRegression\n",
    "from sklearn.metrics import roc_auc_score, average_precision_score\n",
    "\n",
    "from donatello.components import core, data, estimator, transformers, measure\n",
    "from donatello.utils import helpers\n",
    "\n",
    "import warnings\n",
    "warnings.filterwarnings(\"ignore\", category=DeprecationWarning)\n",
    "\n",
    "\n",
    "def load_model(model=LogisticRegression()):\n",
    "\n",
    "    graph = transformers.ModelDAG(set([]), {}, graphKwargs={'name': 'airbnb_recommendation'})\n",
    "    \n",
    "    n1 = transformers.Node('select', transformer=transformers.DatasetFlow(selectValue={'include': [pd.np.number]},\n",
    "                                                                          selectMethod='data_type'))\n",
    "    \n",
    "    n2 = transformers.Node('impute', transformer=transformers.Imputer(), enforceTarget=True)\n",
    "    n3 = transformers.Node('scale', transformer=transformers.StandardScaler(), enforceTarget=True)\n",
    "    \n",
    "    n4 = transformers.Node('ml', transformer=model)\n",
    "\n",
    "    graph.add_edge_flow(n1, n2)\n",
    "    graph.add_edge_flow(n2, n3)\n",
    "    graph.add_edge_flow(n3, n4)\n",
    "\n",
    "    return graph\n",
    "\n",
    "\n",
    "def load_sculpture(df,\n",
    "                   outsideDf=None,\n",
    "                   model=load_model(), \n",
    "                   paramGrid={'model__ml__C': list(pd.np.logspace(-3, 1, 5))},\n",
    "                   searchKwargs={'scoring': 'roc_auc', 'cv': 3, 'n_jobs': -1},\n",
    "                   weights='coefficients',\n",
    "                   validation=None,\n",
    "                   holdout=None,\n",
    "                   entire='search'                   \n",
    "                  ):\n",
    "    \"\"\"\n",
    "    Helper function to load core modeling object\n",
    "    \n",
    "    validation, holdout, and entire can be passed a bool for as to whether to run the block,\n",
    "    or the string 'search' to run it with grid searching on (if a paramGrid is passed as well)\n",
    "    Args:\n",
    "        df (pd.DataFrame): Full training dataset\n",
    "        outsideData (pd.DataFrame): a hold out set only for evaluation purposes\n",
    "        model (sklearn.BaseEstimator): uphold sklearn contracts of base + fit / predict(_proba) decision_function\n",
    "        paramGrid (dict): optional - configuration of parameter grid to search for hyperparameter tuning\n",
    "        searchKwargs(dict): optional - configuration for sklearn.model_selection.gridSearchCV\n",
    "        validation (bool|str): option to execute nested cross validation block and whether to tune inside\n",
    "        validation (bool|str): option to fit on entier passed in dataset\n",
    "        holdout (bool|str): option to fit excute internal split on train and evaluation on test\n",
    "        entire (bool|str): option to fit on the entire passed in dataset\\\n",
    "            (assumes a heldout exists elsewhere or is integrated via outsideData)\n",
    "\n",
    "\n",
    "    \"\"\"\n",
    "    df = df.copy()\n",
    "    df['is_booked'] = df['label'] == 'book'\n",
    "\n",
    "    # partition over user_ids -> all searches associated with given user will be in same subset\n",
    "    # within cross val measurements (and within the sub cross validation parameter tuning folds if applicable)\n",
    "    dataset = data.Dataset(raw=df, target='is_booked', clay='group', groupDap={'attrPath': ['id_user']})\n",
    "\n",
    "    est = estimator.Estimator(model=model,\n",
    "                              paramGrid=paramGrid,\n",
    "                              searchKwargs=searchKwargs,\n",
    "                              method='predict_proba',\n",
    "                              scorer='score_second'\n",
    "                              )\n",
    "\n",
    "    # Produce scalar and vector binary classification metrics on test set (heldout) data\n",
    "    metrics = [measure.Metric(roc_auc_score), measure.Metric(average_precision_score),\n",
    "               measure.FeatureWeights(sort=weights), measure.ThresholdRates()]\n",
    "\n",
    "    if outsideDf is not None:\n",
    "        outsideDf = outsideDf.copy()\n",
    "        outsideDf['is_booked'] = outsideDf['label'] == 'book'\n",
    "\n",
    "        outsideData = data.Dataset(raw=outsideDf, target='is_booked')\n",
    "    else:\n",
    "        outsideData = None\n",
    "        \n",
    "    sculpture = core.Sculpture(dataset=dataset, estimator=est, metrics=metrics,\n",
    "                               validation=validation, holdout=holdout, entire=entire,\n",
    "                               outsideData=outsideData)\n",
    "\n",
    "    return sculpture\n",
    "\n",
    "    "
   ]
  },
  {
   "cell_type": "code",
   "execution_count": 26,
   "metadata": {
    "collapsed": false
   },
   "outputs": [],
   "source": [
    "s = load_sculpture(df, outsideDf=validation_df, \n",
    "                   model=load_model(), \n",
    "                   validation='search', holdout=None, entire='search')"
   ]
  },
  {
   "cell_type": "code",
   "execution_count": 27,
   "metadata": {
    "collapsed": false
   },
   "outputs": [
    {
     "name": "stdout",
     "output_type": "stream",
     "text": [
      "Cross Validation\n",
      "grid searching\n"
     ]
    },
    {
     "name": "stderr",
     "output_type": "stream",
     "text": [
      "//anaconda/lib/python2.7/site-packages/sklearn/linear_model/logistic.py:433: FutureWarning: Default solver will be changed to 'lbfgs' in 0.22. Specify a solver to silence this warning.\n",
      "  FutureWarning)\n"
     ]
    },
    {
     "name": "stdout",
     "output_type": "stream",
     "text": [
      "grid searching\n",
      "grid searching\n",
      "grid searching\n",
      "grid searching\n",
      "Entire Dataset\n",
      "grid searching\n"
     ]
    },
    {
     "data": {
      "text/plain": [
       "Sculpture_2019_05_28_08_17"
      ]
     },
     "execution_count": 27,
     "metadata": {},
     "output_type": "execute_result"
    }
   ],
   "source": [
    "s.fit()\n",
    "# stdout prints what dataset is being fit and whether\n",
    "# or not a grid search is being executed on (the/a subset of) data"
   ]
  },
  {
   "cell_type": "markdown",
   "metadata": {},
   "source": [
    "#### Cross validation metrics\n",
    "Measures from k fold cross val sets within the training set"
   ]
  },
  {
   "cell_type": "code",
   "execution_count": 28,
   "metadata": {
    "collapsed": true
   },
   "outputs": [],
   "source": [
    "def cat(args, suffixes):\n",
    "    args = [arg['score'].rename('_'.join([arg['score'].name, suffix])) for arg, suffix in zip(args,suffixes)]\n",
    "    return pd.concat(args, axis=1)"
   ]
  },
  {
   "cell_type": "code",
   "execution_count": 29,
   "metadata": {
    "collapsed": false
   },
   "outputs": [
    {
     "data": {
      "text/html": [
       "<div>\n",
       "<style scoped>\n",
       "    .dataframe tbody tr th:only-of-type {\n",
       "        vertical-align: middle;\n",
       "    }\n",
       "\n",
       "    .dataframe tbody tr th {\n",
       "        vertical-align: top;\n",
       "    }\n",
       "\n",
       "    .dataframe thead th {\n",
       "        text-align: right;\n",
       "    }\n",
       "</style>\n",
       "<table border=\"1\" class=\"dataframe\">\n",
       "  <thead>\n",
       "    <tr style=\"text-align: right;\">\n",
       "      <th></th>\n",
       "      <th>score_validation</th>\n",
       "      <th>score_outside</th>\n",
       "    </tr>\n",
       "  </thead>\n",
       "  <tbody>\n",
       "    <tr>\n",
       "      <th>mean</th>\n",
       "      <td>0.649347</td>\n",
       "      <td>0.637202</td>\n",
       "    </tr>\n",
       "    <tr>\n",
       "      <th>std</th>\n",
       "      <td>0.012635</td>\n",
       "      <td>NaN</td>\n",
       "    </tr>\n",
       "  </tbody>\n",
       "</table>\n",
       "</div>"
      ],
      "text/plain": [
       "      score_validation  score_outside\n",
       "mean          0.649347       0.637202\n",
       "std           0.012635            NaN"
      ]
     },
     "execution_count": 29,
     "metadata": {},
     "output_type": "execute_result"
    }
   ],
   "source": [
    "cat([helpers.view_sk_metric(s.measurements.crossValidation.roc_auc_score),\n",
    "    helpers.view_sk_metric(s.measurements.outside.roc_auc_score)], ['validation', 'outside'])"
   ]
  },
  {
   "cell_type": "code",
   "execution_count": 30,
   "metadata": {
    "collapsed": false
   },
   "outputs": [
    {
     "data": {
      "text/html": [
       "<div>\n",
       "<style scoped>\n",
       "    .dataframe tbody tr th:only-of-type {\n",
       "        vertical-align: middle;\n",
       "    }\n",
       "\n",
       "    .dataframe tbody tr th {\n",
       "        vertical-align: top;\n",
       "    }\n",
       "\n",
       "    .dataframe thead th {\n",
       "        text-align: right;\n",
       "    }\n",
       "</style>\n",
       "<table border=\"1\" class=\"dataframe\">\n",
       "  <thead>\n",
       "    <tr style=\"text-align: right;\">\n",
       "      <th></th>\n",
       "      <th>score_validation</th>\n",
       "      <th>score_outside</th>\n",
       "    </tr>\n",
       "  </thead>\n",
       "  <tbody>\n",
       "    <tr>\n",
       "      <th>mean</th>\n",
       "      <td>0.021143</td>\n",
       "      <td>0.019599</td>\n",
       "    </tr>\n",
       "    <tr>\n",
       "      <th>std</th>\n",
       "      <td>0.001732</td>\n",
       "      <td>NaN</td>\n",
       "    </tr>\n",
       "  </tbody>\n",
       "</table>\n",
       "</div>"
      ],
      "text/plain": [
       "      score_validation  score_outside\n",
       "mean          0.021143       0.019599\n",
       "std           0.001732            NaN"
      ]
     },
     "execution_count": 30,
     "metadata": {},
     "output_type": "execute_result"
    }
   ],
   "source": [
    "cat([helpers.view_sk_metric(s.measurements.crossValidation.average_precision_score),\n",
    "    helpers.view_sk_metric(s.measurements.outside.average_precision_score)], ['validation', 'outside'])"
   ]
  },
  {
   "cell_type": "code",
   "execution_count": 31,
   "metadata": {
    "collapsed": false
   },
   "outputs": [
    {
     "data": {
      "text/html": [
       "<div>\n",
       "<style scoped>\n",
       "    .dataframe tbody tr th:only-of-type {\n",
       "        vertical-align: middle;\n",
       "    }\n",
       "\n",
       "    .dataframe tbody tr th {\n",
       "        vertical-align: top;\n",
       "    }\n",
       "\n",
       "    .dataframe thead th {\n",
       "        text-align: right;\n",
       "    }\n",
       "</style>\n",
       "<table border=\"1\" class=\"dataframe\">\n",
       "  <thead>\n",
       "    <tr style=\"text-align: right;\">\n",
       "      <th></th>\n",
       "      <th>coefficients</th>\n",
       "    </tr>\n",
       "    <tr>\n",
       "      <th>names</th>\n",
       "      <th></th>\n",
       "    </tr>\n",
       "  </thead>\n",
       "  <tbody>\n",
       "    <tr>\n",
       "      <th>intercept_</th>\n",
       "      <td>-4.656154</td>\n",
       "    </tr>\n",
       "    <tr>\n",
       "      <th>listing_lat</th>\n",
       "      <td>-1.068169</td>\n",
       "    </tr>\n",
       "    <tr>\n",
       "      <th>listing_total_price</th>\n",
       "      <td>-0.840368</td>\n",
       "    </tr>\n",
       "    <tr>\n",
       "      <th>query_radius</th>\n",
       "      <td>-0.764321</td>\n",
       "    </tr>\n",
       "    <tr>\n",
       "      <th>listing_cleanliness_rating</th>\n",
       "      <td>-0.325310</td>\n",
       "    </tr>\n",
       "    <tr>\n",
       "      <th>listing_maximum_nights</th>\n",
       "      <td>-0.265827</td>\n",
       "    </tr>\n",
       "    <tr>\n",
       "      <th>query_center_lng</th>\n",
       "      <td>-0.256836</td>\n",
       "    </tr>\n",
       "    <tr>\n",
       "      <th>listing_checkin_rating</th>\n",
       "      <td>-0.226505</td>\n",
       "    </tr>\n",
       "    <tr>\n",
       "      <th>listing_communication_rating</th>\n",
       "      <td>-0.223060</td>\n",
       "    </tr>\n",
       "    <tr>\n",
       "      <th>listing_person_capacity</th>\n",
       "      <td>-0.098476</td>\n",
       "    </tr>\n",
       "    <tr>\n",
       "      <th>query_price_max</th>\n",
       "      <td>-0.066346</td>\n",
       "    </tr>\n",
       "    <tr>\n",
       "      <th>listing_weekly_discount</th>\n",
       "      <td>-0.057077</td>\n",
       "    </tr>\n",
       "    <tr>\n",
       "      <th>listing_num_beds</th>\n",
       "      <td>-0.043192</td>\n",
       "    </tr>\n",
       "    <tr>\n",
       "      <th>listing_monthly_price_factor</th>\n",
       "      <td>-0.040072</td>\n",
       "    </tr>\n",
       "    <tr>\n",
       "      <th>listing_num_recent_reservations</th>\n",
       "      <td>-0.016518</td>\n",
       "    </tr>\n",
       "    <tr>\n",
       "      <th>listing_weekly_price_factor</th>\n",
       "      <td>-0.016480</td>\n",
       "    </tr>\n",
       "    <tr>\n",
       "      <th>listing_is_new</th>\n",
       "      <td>-0.009894</td>\n",
       "    </tr>\n",
       "    <tr>\n",
       "      <th>listing_cleaning_fee</th>\n",
       "      <td>0.004867</td>\n",
       "    </tr>\n",
       "    <tr>\n",
       "      <th>query_num_guests</th>\n",
       "      <td>0.012240</td>\n",
       "    </tr>\n",
       "    <tr>\n",
       "      <th>listing_property_type</th>\n",
       "      <td>0.023704</td>\n",
       "    </tr>\n",
       "    <tr>\n",
       "      <th>listing_minimum_nights</th>\n",
       "      <td>0.030747</td>\n",
       "    </tr>\n",
       "    <tr>\n",
       "      <th>listing_location_rating</th>\n",
       "      <td>0.033386</td>\n",
       "    </tr>\n",
       "    <tr>\n",
       "      <th>listing_review_count</th>\n",
       "      <td>0.033650</td>\n",
       "    </tr>\n",
       "    <tr>\n",
       "      <th>listing_monthly_discount</th>\n",
       "      <td>0.036707</td>\n",
       "    </tr>\n",
       "    <tr>\n",
       "      <th>query_num_infants</th>\n",
       "      <td>0.037815</td>\n",
       "    </tr>\n",
       "    <tr>\n",
       "      <th>listing_review_rating</th>\n",
       "      <td>0.042164</td>\n",
       "    </tr>\n",
       "    <tr>\n",
       "      <th>query_num_children</th>\n",
       "      <td>0.046761</td>\n",
       "    </tr>\n",
       "    <tr>\n",
       "      <th>query_price_min</th>\n",
       "      <td>0.071758</td>\n",
       "    </tr>\n",
       "    <tr>\n",
       "      <th>listing_num_bedrooms</th>\n",
       "      <td>0.077212</td>\n",
       "    </tr>\n",
       "    <tr>\n",
       "      <th>ts_search</th>\n",
       "      <td>0.085890</td>\n",
       "    </tr>\n",
       "    <tr>\n",
       "      <th>listing_num_bathrooms</th>\n",
       "      <td>0.088011</td>\n",
       "    </tr>\n",
       "    <tr>\n",
       "      <th>listing_num_books_90day</th>\n",
       "      <td>0.103663</td>\n",
       "    </tr>\n",
       "    <tr>\n",
       "      <th>query_center_lat</th>\n",
       "      <td>0.121089</td>\n",
       "    </tr>\n",
       "    <tr>\n",
       "      <th>listing_value_rating</th>\n",
       "      <td>0.232670</td>\n",
       "    </tr>\n",
       "    <tr>\n",
       "      <th>listing_occupancy_rate</th>\n",
       "      <td>0.306391</td>\n",
       "    </tr>\n",
       "    <tr>\n",
       "      <th>listing_accuracy_rating</th>\n",
       "      <td>0.558430</td>\n",
       "    </tr>\n",
       "    <tr>\n",
       "      <th>listing_lng</th>\n",
       "      <td>0.585841</td>\n",
       "    </tr>\n",
       "  </tbody>\n",
       "</table>\n",
       "</div>"
      ],
      "text/plain": [
       "                                 coefficients\n",
       "names                                        \n",
       "intercept_                          -4.656154\n",
       "listing_lat                         -1.068169\n",
       "listing_total_price                 -0.840368\n",
       "query_radius                        -0.764321\n",
       "listing_cleanliness_rating          -0.325310\n",
       "listing_maximum_nights              -0.265827\n",
       "query_center_lng                    -0.256836\n",
       "listing_checkin_rating              -0.226505\n",
       "listing_communication_rating        -0.223060\n",
       "listing_person_capacity             -0.098476\n",
       "query_price_max                     -0.066346\n",
       "listing_weekly_discount             -0.057077\n",
       "listing_num_beds                    -0.043192\n",
       "listing_monthly_price_factor        -0.040072\n",
       "listing_num_recent_reservations     -0.016518\n",
       "listing_weekly_price_factor         -0.016480\n",
       "listing_is_new                      -0.009894\n",
       "listing_cleaning_fee                 0.004867\n",
       "query_num_guests                     0.012240\n",
       "listing_property_type                0.023704\n",
       "listing_minimum_nights               0.030747\n",
       "listing_location_rating              0.033386\n",
       "listing_review_count                 0.033650\n",
       "listing_monthly_discount             0.036707\n",
       "query_num_infants                    0.037815\n",
       "listing_review_rating                0.042164\n",
       "query_num_children                   0.046761\n",
       "query_price_min                      0.071758\n",
       "listing_num_bedrooms                 0.077212\n",
       "ts_search                            0.085890\n",
       "listing_num_bathrooms                0.088011\n",
       "listing_num_books_90day              0.103663\n",
       "query_center_lat                     0.121089\n",
       "listing_value_rating                 0.232670\n",
       "listing_occupancy_rate               0.306391\n",
       "listing_accuracy_rating              0.558430\n",
       "listing_lng                          0.585841"
      ]
     },
     "execution_count": 31,
     "metadata": {},
     "output_type": "execute_result"
    }
   ],
   "source": [
    "s.measurements.outside.feature_weights.mean"
   ]
  },
  {
   "cell_type": "code",
   "execution_count": null,
   "metadata": {
    "collapsed": true
   },
   "outputs": [],
   "source": []
  },
  {
   "cell_type": "markdown",
   "metadata": {},
   "source": [
    "We have a `slightly` better than random scoring of impressions to bookings. Next we'll look at the relative impact of features via the coefficients of the Logistic Regression (note coefficients reflect the scaled data) before closing the loop on setting a baseline gain with which to compare against"
   ]
  },
  {
   "cell_type": "code",
   "execution_count": 32,
   "metadata": {
    "collapsed": false
   },
   "outputs": [
    {
     "data": {
      "text/html": [
       "<div>\n",
       "<style scoped>\n",
       "    .dataframe tbody tr th:only-of-type {\n",
       "        vertical-align: middle;\n",
       "    }\n",
       "\n",
       "    .dataframe tbody tr th {\n",
       "        vertical-align: top;\n",
       "    }\n",
       "\n",
       "    .dataframe thead th {\n",
       "        text-align: right;\n",
       "    }\n",
       "</style>\n",
       "<table border=\"1\" class=\"dataframe\">\n",
       "  <thead>\n",
       "    <tr style=\"text-align: right;\">\n",
       "      <th></th>\n",
       "      <th>coefficients</th>\n",
       "    </tr>\n",
       "    <tr>\n",
       "      <th>names</th>\n",
       "      <th></th>\n",
       "    </tr>\n",
       "  </thead>\n",
       "  <tbody>\n",
       "    <tr>\n",
       "      <th>intercept_</th>\n",
       "      <td>-4.656154</td>\n",
       "    </tr>\n",
       "    <tr>\n",
       "      <th>listing_lat</th>\n",
       "      <td>-1.068169</td>\n",
       "    </tr>\n",
       "    <tr>\n",
       "      <th>listing_total_price</th>\n",
       "      <td>-0.840368</td>\n",
       "    </tr>\n",
       "    <tr>\n",
       "      <th>query_radius</th>\n",
       "      <td>-0.764321</td>\n",
       "    </tr>\n",
       "    <tr>\n",
       "      <th>listing_cleanliness_rating</th>\n",
       "      <td>-0.325310</td>\n",
       "    </tr>\n",
       "    <tr>\n",
       "      <th>listing_maximum_nights</th>\n",
       "      <td>-0.265827</td>\n",
       "    </tr>\n",
       "    <tr>\n",
       "      <th>query_center_lng</th>\n",
       "      <td>-0.256836</td>\n",
       "    </tr>\n",
       "    <tr>\n",
       "      <th>listing_checkin_rating</th>\n",
       "      <td>-0.226505</td>\n",
       "    </tr>\n",
       "    <tr>\n",
       "      <th>listing_communication_rating</th>\n",
       "      <td>-0.223060</td>\n",
       "    </tr>\n",
       "    <tr>\n",
       "      <th>listing_person_capacity</th>\n",
       "      <td>-0.098476</td>\n",
       "    </tr>\n",
       "    <tr>\n",
       "      <th>query_price_max</th>\n",
       "      <td>-0.066346</td>\n",
       "    </tr>\n",
       "    <tr>\n",
       "      <th>listing_weekly_discount</th>\n",
       "      <td>-0.057077</td>\n",
       "    </tr>\n",
       "    <tr>\n",
       "      <th>listing_num_beds</th>\n",
       "      <td>-0.043192</td>\n",
       "    </tr>\n",
       "    <tr>\n",
       "      <th>listing_monthly_price_factor</th>\n",
       "      <td>-0.040072</td>\n",
       "    </tr>\n",
       "    <tr>\n",
       "      <th>listing_num_recent_reservations</th>\n",
       "      <td>-0.016518</td>\n",
       "    </tr>\n",
       "    <tr>\n",
       "      <th>listing_weekly_price_factor</th>\n",
       "      <td>-0.016480</td>\n",
       "    </tr>\n",
       "    <tr>\n",
       "      <th>listing_is_new</th>\n",
       "      <td>-0.009894</td>\n",
       "    </tr>\n",
       "    <tr>\n",
       "      <th>listing_cleaning_fee</th>\n",
       "      <td>0.004867</td>\n",
       "    </tr>\n",
       "    <tr>\n",
       "      <th>query_num_guests</th>\n",
       "      <td>0.012240</td>\n",
       "    </tr>\n",
       "    <tr>\n",
       "      <th>listing_property_type</th>\n",
       "      <td>0.023704</td>\n",
       "    </tr>\n",
       "    <tr>\n",
       "      <th>listing_minimum_nights</th>\n",
       "      <td>0.030747</td>\n",
       "    </tr>\n",
       "    <tr>\n",
       "      <th>listing_location_rating</th>\n",
       "      <td>0.033386</td>\n",
       "    </tr>\n",
       "    <tr>\n",
       "      <th>listing_review_count</th>\n",
       "      <td>0.033650</td>\n",
       "    </tr>\n",
       "    <tr>\n",
       "      <th>listing_monthly_discount</th>\n",
       "      <td>0.036707</td>\n",
       "    </tr>\n",
       "    <tr>\n",
       "      <th>query_num_infants</th>\n",
       "      <td>0.037815</td>\n",
       "    </tr>\n",
       "    <tr>\n",
       "      <th>listing_review_rating</th>\n",
       "      <td>0.042164</td>\n",
       "    </tr>\n",
       "    <tr>\n",
       "      <th>query_num_children</th>\n",
       "      <td>0.046761</td>\n",
       "    </tr>\n",
       "    <tr>\n",
       "      <th>query_price_min</th>\n",
       "      <td>0.071758</td>\n",
       "    </tr>\n",
       "    <tr>\n",
       "      <th>listing_num_bedrooms</th>\n",
       "      <td>0.077212</td>\n",
       "    </tr>\n",
       "    <tr>\n",
       "      <th>ts_search</th>\n",
       "      <td>0.085890</td>\n",
       "    </tr>\n",
       "    <tr>\n",
       "      <th>listing_num_bathrooms</th>\n",
       "      <td>0.088011</td>\n",
       "    </tr>\n",
       "    <tr>\n",
       "      <th>listing_num_books_90day</th>\n",
       "      <td>0.103663</td>\n",
       "    </tr>\n",
       "    <tr>\n",
       "      <th>query_center_lat</th>\n",
       "      <td>0.121089</td>\n",
       "    </tr>\n",
       "    <tr>\n",
       "      <th>listing_value_rating</th>\n",
       "      <td>0.232670</td>\n",
       "    </tr>\n",
       "    <tr>\n",
       "      <th>listing_occupancy_rate</th>\n",
       "      <td>0.306391</td>\n",
       "    </tr>\n",
       "    <tr>\n",
       "      <th>listing_accuracy_rating</th>\n",
       "      <td>0.558430</td>\n",
       "    </tr>\n",
       "    <tr>\n",
       "      <th>listing_lng</th>\n",
       "      <td>0.585841</td>\n",
       "    </tr>\n",
       "  </tbody>\n",
       "</table>\n",
       "</div>"
      ],
      "text/plain": [
       "                                 coefficients\n",
       "names                                        \n",
       "intercept_                          -4.656154\n",
       "listing_lat                         -1.068169\n",
       "listing_total_price                 -0.840368\n",
       "query_radius                        -0.764321\n",
       "listing_cleanliness_rating          -0.325310\n",
       "listing_maximum_nights              -0.265827\n",
       "query_center_lng                    -0.256836\n",
       "listing_checkin_rating              -0.226505\n",
       "listing_communication_rating        -0.223060\n",
       "listing_person_capacity             -0.098476\n",
       "query_price_max                     -0.066346\n",
       "listing_weekly_discount             -0.057077\n",
       "listing_num_beds                    -0.043192\n",
       "listing_monthly_price_factor        -0.040072\n",
       "listing_num_recent_reservations     -0.016518\n",
       "listing_weekly_price_factor         -0.016480\n",
       "listing_is_new                      -0.009894\n",
       "listing_cleaning_fee                 0.004867\n",
       "query_num_guests                     0.012240\n",
       "listing_property_type                0.023704\n",
       "listing_minimum_nights               0.030747\n",
       "listing_location_rating              0.033386\n",
       "listing_review_count                 0.033650\n",
       "listing_monthly_discount             0.036707\n",
       "query_num_infants                    0.037815\n",
       "listing_review_rating                0.042164\n",
       "query_num_children                   0.046761\n",
       "query_price_min                      0.071758\n",
       "listing_num_bedrooms                 0.077212\n",
       "ts_search                            0.085890\n",
       "listing_num_bathrooms                0.088011\n",
       "listing_num_books_90day              0.103663\n",
       "query_center_lat                     0.121089\n",
       "listing_value_rating                 0.232670\n",
       "listing_occupancy_rate               0.306391\n",
       "listing_accuracy_rating              0.558430\n",
       "listing_lng                          0.585841"
      ]
     },
     "execution_count": 32,
     "metadata": {},
     "output_type": "execute_result"
    }
   ],
   "source": [
    "s.measurements.outside.feature_weights.mean"
   ]
  },
  {
   "cell_type": "code",
   "execution_count": 33,
   "metadata": {
    "collapsed": false
   },
   "outputs": [
    {
     "data": {
      "text/plain": [
       "Text(0.5,1,'ROC curve')"
      ]
     },
     "execution_count": 33,
     "metadata": {},
     "output_type": "execute_result"
    },
    {
     "data": {
      "image/png": "[encoded data removed]",
      "text/plain": [
       "<Figure size 432x288 with 1 Axes>"
      ]
     },
     "metadata": {
      "needs_background": "light"
     },
     "output_type": "display_data"
    }
   ],
   "source": [
    "x_mean = s.measurements.outside.ThresholdRates.mean.fall_out\n",
    "y_mean = s.measurements.outside.ThresholdRates.mean.recall\n",
    "\n",
    "plt.plot(x_mean, y_mean, 'b')\n",
    "\n",
    "plt.plot([0, 1], [0, 1], 'r--')\n",
    "plt.xlim([-0.01, 1.01])\n",
    "plt.ylim([-0.01, 1.01])\n",
    "plt.ylabel('True Positive Rate')\n",
    "plt.xlabel('False Positive Rate')\n",
    "plt.title('ROC curve')\n"
   ]
  },
  {
   "cell_type": "markdown",
   "metadata": {},
   "source": [
    "Gain - ndcg at k=10\n",
    "\n",
    "Browser agent's, device types, design choices and A/B all tests impact the manner in which listings are served. I chose k=10 because it strikes a reasonable balance covering the majority of impressions recieved and because on my current device (laptop) I see 10 listings without having to page. The manner in which different recommendations systems built from this data change relative to each other with varying k is another interesting area to explore in the future. "
   ]
  },
  {
   "cell_type": "code",
   "execution_count": 34,
   "metadata": {
    "collapsed": false
   },
   "outputs": [],
   "source": [
    "def ndcg_score(sculpture, df=None, k=10):\n",
    "    df = sculpture.outsideData.designData if df is None else df\n",
    "    scores = sculpture.score(df)\n",
    "    columns = [i for i in df if (i in ['Estimator', 'ds_search', 'id_user'] or i.startswith('query'))]\n",
    "    df['relevance'] = df.label.map({'impression': 0, 'click': 1, 'host_contact': 3, 'book': 4})\n",
    "    \n",
    "    df = pd.concat([df[columns + ['relevance']] , scores], axis=1)\n",
    "    gain = df.groupby(columns).apply(lambda sub: ndcg(sub.head(k)['relevance'].values,\n",
    "                                                      sub.head(k)['Estimator'].values) if sub.relevance.sum() > 0 else None\n",
    "                                     )\n",
    "    return gain\n",
    "    "
   ]
  },
  {
   "cell_type": "code",
   "execution_count": 35,
   "metadata": {
    "collapsed": false
   },
   "outputs": [
    {
     "name": "stderr",
     "output_type": "stream",
     "text": [
      "/anaconda/lib/python2.7/site-packages/ipykernel_launcher.py:12: RuntimeWarning: invalid value encountered in double_scalars\n",
      "  if sys.path[0] == '':\n"
     ]
    },
    {
     "name": "stdout",
     "output_type": "stream",
     "text": [
      "0.799007610942\n"
     ]
    },
    {
     "data": {
      "text/plain": [
       "array([[<matplotlib.axes._subplots.AxesSubplot object at 0x12c416790>]],\n",
       "      dtype=object)"
      ]
     },
     "execution_count": 35,
     "metadata": {},
     "output_type": "execute_result"
    },
    {
     "data": {
      "image/png": "[encoded data removed]",
      "text/plain": [
       "<Figure size 432x288 with 1 Axes>"
      ]
     },
     "metadata": {
      "needs_background": "light"
     },
     "output_type": "display_data"
    }
   ],
   "source": [
    "gains = ndcg_score(s)\n",
    "print(gains.mean())\n",
    "gains.rename('gain').to_frame().reset_index(drop=True).dropna().hist(bins=100)"
   ]
  },
  {
   "cell_type": "code",
   "execution_count": null,
   "metadata": {
    "collapsed": false
   },
   "outputs": [],
   "source": []
  },
  {
   "cell_type": "markdown",
   "metadata": {},
   "source": [
    "### Feature Engineering\n",
    "Feature engineering enables us to empower our model with a better semantic understanding of the relationships bewteen  the design and the target. Domain expertise and understanding of the contents of the available data is critical for feature engineering (call out to the not quite deterministic, to me, units of the `query_radius` field in this dataset). For this section I'll focus on two areas:\n",
    "\n",
    "1) Improving imputations. In the baseline a flat mean was imputed, count fields should likely be zeroed (or in certain cases ceiled). Imputations don't pertain only to NULLs, the -1 in pricing bounds could imply no price bounds were set or the log was dropped.\n",
    "\n",
    "2) Transforming existing data into a more useful form - this work can range from applying a non linear transform to a field to yield a better response from a glm to leveraging historical information to augment records\n",
    "\n",
    "To start, I'll look at the data"
   ]
  },
  {
   "cell_type": "markdown",
   "metadata": {},
   "source": [
    "#### NULLS"
   ]
  },
  {
   "cell_type": "code",
   "execution_count": 36,
   "metadata": {
    "collapsed": false
   },
   "outputs": [
    {
     "data": {
      "text/html": [
       "<div>\n",
       "<style scoped>\n",
       "    .dataframe tbody tr th:only-of-type {\n",
       "        vertical-align: middle;\n",
       "    }\n",
       "\n",
       "    .dataframe tbody tr th {\n",
       "        vertical-align: top;\n",
       "    }\n",
       "\n",
       "    .dataframe thead th {\n",
       "        text-align: right;\n",
       "    }\n",
       "</style>\n",
       "<table border=\"1\" class=\"dataframe\">\n",
       "  <thead>\n",
       "    <tr style=\"text-align: right;\">\n",
       "      <th></th>\n",
       "      <th>fraction_null</th>\n",
       "    </tr>\n",
       "  </thead>\n",
       "  <tbody>\n",
       "    <tr>\n",
       "      <th>listing_maximum_nights</th>\n",
       "      <td>0.001479</td>\n",
       "    </tr>\n",
       "    <tr>\n",
       "      <th>listing_minimum_nights</th>\n",
       "      <td>0.001479</td>\n",
       "    </tr>\n",
       "    <tr>\n",
       "      <th>listing_num_beds</th>\n",
       "      <td>0.050407</td>\n",
       "    </tr>\n",
       "    <tr>\n",
       "      <th>listing_num_bedrooms</th>\n",
       "      <td>0.050664</td>\n",
       "    </tr>\n",
       "    <tr>\n",
       "      <th>listing_property_type</th>\n",
       "      <td>0.050866</td>\n",
       "    </tr>\n",
       "    <tr>\n",
       "      <th>listing_total_price</th>\n",
       "      <td>0.051270</td>\n",
       "    </tr>\n",
       "    <tr>\n",
       "      <th>listing_num_bathrooms</th>\n",
       "      <td>0.051849</td>\n",
       "    </tr>\n",
       "    <tr>\n",
       "      <th>listing_has_pro_pictures</th>\n",
       "      <td>0.053043</td>\n",
       "    </tr>\n",
       "    <tr>\n",
       "      <th>listing_occupancy_rate</th>\n",
       "      <td>0.060850</td>\n",
       "    </tr>\n",
       "    <tr>\n",
       "      <th>listing_review_count</th>\n",
       "      <td>0.098720</td>\n",
       "    </tr>\n",
       "    <tr>\n",
       "      <th>listing_review_rating</th>\n",
       "      <td>0.120571</td>\n",
       "    </tr>\n",
       "    <tr>\n",
       "      <th>listing_num_books_90day</th>\n",
       "      <td>0.139547</td>\n",
       "    </tr>\n",
       "    <tr>\n",
       "      <th>listing_weekly_price_factor</th>\n",
       "      <td>0.252879</td>\n",
       "    </tr>\n",
       "    <tr>\n",
       "      <th>listing_cleaning_fee</th>\n",
       "      <td>0.256581</td>\n",
       "    </tr>\n",
       "    <tr>\n",
       "      <th>listing_monthly_price_factor</th>\n",
       "      <td>0.264948</td>\n",
       "    </tr>\n",
       "    <tr>\n",
       "      <th>ds_contact</th>\n",
       "      <td>0.972877</td>\n",
       "    </tr>\n",
       "    <tr>\n",
       "      <th>ds_book</th>\n",
       "      <td>0.988060</td>\n",
       "    </tr>\n",
       "  </tbody>\n",
       "</table>\n",
       "</div>"
      ],
      "text/plain": [
       "                              fraction_null\n",
       "listing_maximum_nights             0.001479\n",
       "listing_minimum_nights             0.001479\n",
       "listing_num_beds                   0.050407\n",
       "listing_num_bedrooms               0.050664\n",
       "listing_property_type              0.050866\n",
       "listing_total_price                0.051270\n",
       "listing_num_bathrooms              0.051849\n",
       "listing_has_pro_pictures           0.053043\n",
       "listing_occupancy_rate             0.060850\n",
       "listing_review_count               0.098720\n",
       "listing_review_rating              0.120571\n",
       "listing_num_books_90day            0.139547\n",
       "listing_weekly_price_factor        0.252879\n",
       "listing_cleaning_fee               0.256581\n",
       "listing_monthly_price_factor       0.264948\n",
       "ds_contact                         0.972877\n",
       "ds_book                            0.988060"
      ]
     },
     "execution_count": 36,
     "metadata": {},
     "output_type": "execute_result"
    }
   ],
   "source": [
    "df.isnull().mean().loc[df.isnull().mean() > 0].sort_values().to_frame().rename(columns={0:'fraction_null'})"
   ]
  },
  {
   "cell_type": "markdown",
   "metadata": {},
   "source": [
    "Query data is flush, listing data could require some imputation work. The two `ds_` fields null column is a direct mapping of host contact and booking. We ignore these because we will not have them at request time (and in this case they would effectively leak the target itself into the design)"
   ]
  },
  {
   "cell_type": "markdown",
   "metadata": {},
   "source": [
    "#### Missing value semantic assumptions\n",
    "\n",
    "The percent of missing records associated with `_nights` is small we could drop, we could impute, the count is so low I would not expect it to be substantilly impactful unless the lack of existance correlates strongly with booking.\n",
    "\n",
    "\n",
    "Next I'll look at the range of few fields to try to develop some intuition about how / why some values may be missing. The difference between that data was dropped from a log or not instrumented vs NULL being an actual description of an attribute (i.e. if a field can be 0 but never is 0, NULL may be implicity defined as 0, which would have negative impact on the models response if the mean was imputed)."
   ]
  },
  {
   "cell_type": "code",
   "execution_count": 37,
   "metadata": {
    "collapsed": false
   },
   "outputs": [
    {
     "data": {
      "text/html": [
       "<div>\n",
       "<style scoped>\n",
       "    .dataframe tbody tr th:only-of-type {\n",
       "        vertical-align: middle;\n",
       "    }\n",
       "\n",
       "    .dataframe tbody tr th {\n",
       "        vertical-align: top;\n",
       "    }\n",
       "\n",
       "    .dataframe thead th {\n",
       "        text-align: right;\n",
       "    }\n",
       "</style>\n",
       "<table border=\"1\" class=\"dataframe\">\n",
       "  <thead>\n",
       "    <tr style=\"text-align: right;\">\n",
       "      <th></th>\n",
       "      <th>listing_num_bedrooms</th>\n",
       "      <th>listing_weekly_price_factor</th>\n",
       "      <th>listing_review_count</th>\n",
       "      <th>listing_cleaning_fee</th>\n",
       "    </tr>\n",
       "  </thead>\n",
       "  <tbody>\n",
       "    <tr>\n",
       "      <th>count</th>\n",
       "      <td>103358.000000</td>\n",
       "      <td>81342.000000</td>\n",
       "      <td>98126.000000</td>\n",
       "      <td>80939.000000</td>\n",
       "    </tr>\n",
       "    <tr>\n",
       "      <th>mean</th>\n",
       "      <td>1.480814</td>\n",
       "      <td>0.916827</td>\n",
       "      <td>22.172452</td>\n",
       "      <td>34.104293</td>\n",
       "    </tr>\n",
       "    <tr>\n",
       "      <th>std</th>\n",
       "      <td>1.154156</td>\n",
       "      <td>0.073984</td>\n",
       "      <td>37.661784</td>\n",
       "      <td>29.156729</td>\n",
       "    </tr>\n",
       "    <tr>\n",
       "      <th>min</th>\n",
       "      <td>0.000000</td>\n",
       "      <td>0.130000</td>\n",
       "      <td>0.000000</td>\n",
       "      <td>0.000000</td>\n",
       "    </tr>\n",
       "    <tr>\n",
       "      <th>25%</th>\n",
       "      <td>1.000000</td>\n",
       "      <td>0.890000</td>\n",
       "      <td>0.000000</td>\n",
       "      <td>18.542898</td>\n",
       "    </tr>\n",
       "    <tr>\n",
       "      <th>50%</th>\n",
       "      <td>1.000000</td>\n",
       "      <td>0.920000</td>\n",
       "      <td>5.000000</td>\n",
       "      <td>31.985073</td>\n",
       "    </tr>\n",
       "    <tr>\n",
       "      <th>75%</th>\n",
       "      <td>2.000000</td>\n",
       "      <td>0.980000</td>\n",
       "      <td>27.000000</td>\n",
       "      <td>42.383770</td>\n",
       "    </tr>\n",
       "    <tr>\n",
       "      <th>max</th>\n",
       "      <td>50.000000</td>\n",
       "      <td>1.000000</td>\n",
       "      <td>462.000000</td>\n",
       "      <td>799.626830</td>\n",
       "    </tr>\n",
       "  </tbody>\n",
       "</table>\n",
       "</div>"
      ],
      "text/plain": [
       "       listing_num_bedrooms  listing_weekly_price_factor  \\\n",
       "count         103358.000000                 81342.000000   \n",
       "mean               1.480814                     0.916827   \n",
       "std                1.154156                     0.073984   \n",
       "min                0.000000                     0.130000   \n",
       "25%                1.000000                     0.890000   \n",
       "50%                1.000000                     0.920000   \n",
       "75%                2.000000                     0.980000   \n",
       "max               50.000000                     1.000000   \n",
       "\n",
       "       listing_review_count  listing_cleaning_fee  \n",
       "count          98126.000000          80939.000000  \n",
       "mean              22.172452             34.104293  \n",
       "std               37.661784             29.156729  \n",
       "min                0.000000              0.000000  \n",
       "25%                0.000000             18.542898  \n",
       "50%                5.000000             31.985073  \n",
       "75%               27.000000             42.383770  \n",
       "max              462.000000            799.626830  "
      ]
     },
     "execution_count": 37,
     "metadata": {},
     "output_type": "execute_result"
    }
   ],
   "source": [
    "df[['listing_num_bedrooms', 'listing_weekly_price_factor', 'listing_review_count', 'listing_cleaning_fee']].describe()"
   ]
  },
  {
   "cell_type": "markdown",
   "metadata": {},
   "source": [
    "Given the ranges on these numbers, I will not dig further into imputations and instead focus on other transformations. To handle these records I'll create additional columns for the existance of a value in the field and then apply a min,max, or mean imputations applicably"
   ]
  },
  {
   "cell_type": "code",
   "execution_count": 38,
   "metadata": {
    "collapsed": false
   },
   "outputs": [
    {
     "data": {
      "text/html": [
       "<div>\n",
       "<style scoped>\n",
       "    .dataframe tbody tr th:only-of-type {\n",
       "        vertical-align: middle;\n",
       "    }\n",
       "\n",
       "    .dataframe tbody tr th {\n",
       "        vertical-align: top;\n",
       "    }\n",
       "\n",
       "    .dataframe thead th {\n",
       "        text-align: right;\n",
       "    }\n",
       "</style>\n",
       "<table border=\"1\" class=\"dataframe\">\n",
       "  <thead>\n",
       "    <tr style=\"text-align: right;\">\n",
       "      <th></th>\n",
       "      <th>query_market</th>\n",
       "      <th>query_checkin</th>\n",
       "      <th>query_checkout</th>\n",
       "      <th>query_num_guests</th>\n",
       "      <th>query_num_children</th>\n",
       "      <th>query_num_infants</th>\n",
       "      <th>query_radius</th>\n",
       "      <th>query_price_max</th>\n",
       "      <th>query_price_min</th>\n",
       "      <th>query_center_lat</th>\n",
       "      <th>query_center_lng</th>\n",
       "    </tr>\n",
       "  </thead>\n",
       "  <tbody>\n",
       "    <tr>\n",
       "      <th>25</th>\n",
       "      <td>Sao Paulo</td>\n",
       "      <td>2018-11-27</td>\n",
       "      <td>2018-11-30</td>\n",
       "      <td>1</td>\n",
       "      <td>0</td>\n",
       "      <td>0</td>\n",
       "      <td>0.860144</td>\n",
       "      <td>-1.0</td>\n",
       "      <td>-1</td>\n",
       "      <td>-23.59</td>\n",
       "      <td>-46.68</td>\n",
       "    </tr>\n",
       "    <tr>\n",
       "      <th>26</th>\n",
       "      <td>Sao Paulo</td>\n",
       "      <td>2018-11-28</td>\n",
       "      <td>2018-11-30</td>\n",
       "      <td>1</td>\n",
       "      <td>0</td>\n",
       "      <td>0</td>\n",
       "      <td>0.479950</td>\n",
       "      <td>220.0</td>\n",
       "      <td>0</td>\n",
       "      <td>-23.59</td>\n",
       "      <td>-46.68</td>\n",
       "    </tr>\n",
       "    <tr>\n",
       "      <th>27</th>\n",
       "      <td>Sao Paulo</td>\n",
       "      <td>2018-11-27</td>\n",
       "      <td>2018-11-30</td>\n",
       "      <td>1</td>\n",
       "      <td>0</td>\n",
       "      <td>0</td>\n",
       "      <td>0.729681</td>\n",
       "      <td>140.0</td>\n",
       "      <td>0</td>\n",
       "      <td>-23.59</td>\n",
       "      <td>-46.68</td>\n",
       "    </tr>\n",
       "    <tr>\n",
       "      <th>28</th>\n",
       "      <td>Sao Paulo</td>\n",
       "      <td>2018-11-27</td>\n",
       "      <td>2018-11-30</td>\n",
       "      <td>1</td>\n",
       "      <td>0</td>\n",
       "      <td>0</td>\n",
       "      <td>0.860144</td>\n",
       "      <td>-1.0</td>\n",
       "      <td>-1</td>\n",
       "      <td>-23.59</td>\n",
       "      <td>-46.68</td>\n",
       "    </tr>\n",
       "    <tr>\n",
       "      <th>29</th>\n",
       "      <td>Sao Paulo</td>\n",
       "      <td>2018-11-28</td>\n",
       "      <td>2018-11-30</td>\n",
       "      <td>1</td>\n",
       "      <td>0</td>\n",
       "      <td>0</td>\n",
       "      <td>0.860144</td>\n",
       "      <td>-1.0</td>\n",
       "      <td>-1</td>\n",
       "      <td>-23.59</td>\n",
       "      <td>-46.68</td>\n",
       "    </tr>\n",
       "  </tbody>\n",
       "</table>\n",
       "</div>"
      ],
      "text/plain": [
       "   query_market query_checkin query_checkout  query_num_guests  \\\n",
       "25    Sao Paulo    2018-11-27     2018-11-30                 1   \n",
       "26    Sao Paulo    2018-11-28     2018-11-30                 1   \n",
       "27    Sao Paulo    2018-11-27     2018-11-30                 1   \n",
       "28    Sao Paulo    2018-11-27     2018-11-30                 1   \n",
       "29    Sao Paulo    2018-11-28     2018-11-30                 1   \n",
       "\n",
       "    query_num_children  query_num_infants  query_radius  query_price_max  \\\n",
       "25                   0                  0      0.860144             -1.0   \n",
       "26                   0                  0      0.479950            220.0   \n",
       "27                   0                  0      0.729681            140.0   \n",
       "28                   0                  0      0.860144             -1.0   \n",
       "29                   0                  0      0.860144             -1.0   \n",
       "\n",
       "    query_price_min  query_center_lat  query_center_lng  \n",
       "25               -1            -23.59            -46.68  \n",
       "26                0            -23.59            -46.68  \n",
       "27                0            -23.59            -46.68  \n",
       "28               -1            -23.59            -46.68  \n",
       "29               -1            -23.59            -46.68  "
      ]
     },
     "execution_count": 38,
     "metadata": {},
     "output_type": "execute_result"
    }
   ],
   "source": [
    "df[[i for i in df if i.startswith('query_')]].head()"
   ]
  },
  {
   "cell_type": "markdown",
   "metadata": {},
   "source": [
    "Assuming price cannot be negative we'll assume `-1` in the query conveys no bound. While the existance of 0 and -1 in the min field potenitally refutes this in the future we can compare the impact of this transformation in isolation on our system performance. To transform this data I'll map -1 in max to the max of the column in the training set and -1 in the min to 0.\n",
    "\n",
    "Location - with only two signifigant figures per degree in lat and long this data gives us slightly more information than the market field. What is relevant about these fields is the relation to what experiences / amenities lay in the area surrounding the target as well as the distance to listing. Evaluating the expected price for a listing given it's locaiton is an interesting and important area to look at in the future when other data sources can be integrated (public transit access, safety, amenity density / quality) we get some of that data from `listing_location_rating` but providing a collection values instead of a single scalar should benefit the model.\n",
    "\n",
    "Date ranges - we can convert check in - checkout bounds into a length to convey the impact on length of the stay. (do longer stays, which cost more lead to longer searches that the user weighs more heavily?)\n",
    "\n",
    "Distance - while distance calculations are negatively impacted by the number of signifigant digits in the lat/lon columns, I'll calculate a haversine distance in km between the query center and the listing locations. \n"
   ]
  },
  {
   "cell_type": "code",
   "execution_count": 39,
   "metadata": {
    "collapsed": false
   },
   "outputs": [
    {
     "data": {
      "text/plain": [
       "array(['Sao Paulo', 'Rio de Janeiro'], dtype=object)"
      ]
     },
     "execution_count": 39,
     "metadata": {},
     "output_type": "execute_result"
    }
   ],
   "source": [
    "df.query_market.unique()"
   ]
  },
  {
   "cell_type": "markdown",
   "metadata": {},
   "source": [
    "#### Transforms\n",
    "\n"
   ]
  },
  {
   "cell_type": "code",
   "execution_count": 40,
   "metadata": {
    "collapsed": true
   },
   "outputs": [],
   "source": [
    "def udf_stateless(dataset):\n",
    "    df = dataset.designData\n",
    "    df['distance_km'] = df.apply(lambda x: haversine((x['query_center_lat'], x['query_center_lng']),\n",
    "                                         (x['listing_lat'], x['listing_lng'])\n",
    "                                         ), axis=1\n",
    "                     ).round(0) #distance in km\n",
    "\n",
    "\n",
    "    df['duration_days'] = (df.query_checkout.astype(int) - df.query_checkin.astype(int))\\\n",
    "                           / (1e9 * 3600 * 24) #nsec -> days\n",
    "   \n",
    "    df['amortized_costs'] = df.listing_total_price / (df.duration_days * df.query_num_guests)\n",
    "    \n",
    "    price_max = df['query_price_max']\n",
    "    price_min = df['query_price_min']\n",
    "    price_max = price_max.apply(lambda x: x if x>= 0 else pd.np.nan)\n",
    "    price_min = price_min.apply(lambda x: x if x>= 0 else pd.np.nan)\n",
    "    df['query_price_max'] = price_max\n",
    "    df['query_price_min'] = price_min\n",
    "    \n",
    "    return dataset.with_params(X=df, y=dataset.targetData)"
   ]
  },
  {
   "cell_type": "code",
   "execution_count": 41,
   "metadata": {
    "collapsed": false
   },
   "outputs": [],
   "source": [
    "def load_model_full(model=LogisticRegression(C=.5), dropOne=True):\n",
    "\n",
    "    graph = transformers.ModelDAG(set([]), {}, graphKwargs={'name': 'airbnb_recommendation'})\n",
    "\n",
    "    n00 = transformers.Node('stateless', transformers.Apply(func=udf_stateless))\n",
    "    \n",
    "    n10 = transformers.Node('ohe', transformers.OneHotEncoder(dropOne=dropOne))\n",
    "    \n",
    "    # adds a boolean encoded column for each column with a fraction of nulls > tolerance\n",
    "    # stores min/max from specified fields in training set and fills nulls in columns during transform\n",
    "    n20 = transformers.Node('existance', transformer=transformers.Exists(tolerance=.2,\n",
    "                                                                      minFields=['query_price_min'],\n",
    "                                                                      maxFields=['query_price_max']))\n",
    "    \n",
    "    n21 = transformers.Node('mean_impute', transformer=transformers.Imputer(), enforceTarget=True)\n",
    "\n",
    "    \n",
    "    n22 = transformers.Node('scale', transformer=transformers.StandardScaler(), enforceTarget=True)\n",
    "\n",
    "    n03 = transformers.Node('ml', transformer=model)\n",
    "\n",
    "           \n",
    "    \n",
    "    graph.add_edge_flow(n00, n10, passTarget=False, selectValue=['listing_room_type','listing_has_pro_pictures'], invert=False)\n",
    "    graph.add_edge_flow(n10, n03, passTarget=False)\n",
    "    \n",
    "    \n",
    "    graph.add_edge_flow(n00, n20, selectValue={'include': ['number']}, selectMethod='data_type', invert=False)\n",
    "    graph.add_edge_flow(n20, n21)    \n",
    "    graph.add_edge_flow(n21, n22)    \n",
    "    graph.add_edge_flow(n22, n03)\n",
    "\n",
    "    return graph\n"
   ]
  },
  {
   "cell_type": "code",
   "execution_count": 44,
   "metadata": {
    "collapsed": false
   },
   "outputs": [],
   "source": [
    "logit = load_sculpture(df, outsideDf=validation_df, \n",
    "                       model=load_model_full(), \n",
    "                       validation='search', holdout=None, entire='search')"
   ]
  },
  {
   "cell_type": "code",
   "execution_count": 46,
   "metadata": {
    "collapsed": false
   },
   "outputs": [
    {
     "name": "stdout",
     "output_type": "stream",
     "text": [
      "Cross Validation\n",
      "grid searching\n",
      "grid searching\n",
      "grid searching\n",
      "grid searching\n",
      "grid searching\n",
      "Entire Dataset\n",
      "grid searching\n"
     ]
    },
    {
     "data": {
      "text/plain": [
       "Sculpture_2019_05_28_08_21"
      ]
     },
     "execution_count": 46,
     "metadata": {},
     "output_type": "execute_result"
    }
   ],
   "source": [
    "logit.fit()"
   ]
  },
  {
   "cell_type": "code",
   "execution_count": null,
   "metadata": {
    "collapsed": false
   },
   "outputs": [],
   "source": []
  },
  {
   "cell_type": "code",
   "execution_count": 47,
   "metadata": {
    "collapsed": false
   },
   "outputs": [
    {
     "data": {
      "text/plain": [
       "{'model__ml__C': 10.0}"
      ]
     },
     "execution_count": 47,
     "metadata": {},
     "output_type": "execute_result"
    }
   ],
   "source": [
    "logit.estimator.gridSearch.best_params_"
   ]
  },
  {
   "cell_type": "code",
   "execution_count": 48,
   "metadata": {
    "collapsed": false
   },
   "outputs": [
    {
     "data": {
      "text/html": [
       "<div>\n",
       "<style scoped>\n",
       "    .dataframe tbody tr th:only-of-type {\n",
       "        vertical-align: middle;\n",
       "    }\n",
       "\n",
       "    .dataframe tbody tr th {\n",
       "        vertical-align: top;\n",
       "    }\n",
       "\n",
       "    .dataframe thead th {\n",
       "        text-align: right;\n",
       "    }\n",
       "</style>\n",
       "<table border=\"1\" class=\"dataframe\">\n",
       "  <thead>\n",
       "    <tr style=\"text-align: right;\">\n",
       "      <th></th>\n",
       "      <th>score_validation</th>\n",
       "      <th>score_outside</th>\n",
       "    </tr>\n",
       "  </thead>\n",
       "  <tbody>\n",
       "    <tr>\n",
       "      <th>mean</th>\n",
       "      <td>0.657442</td>\n",
       "      <td>0.654058</td>\n",
       "    </tr>\n",
       "    <tr>\n",
       "      <th>std</th>\n",
       "      <td>0.015299</td>\n",
       "      <td>NaN</td>\n",
       "    </tr>\n",
       "  </tbody>\n",
       "</table>\n",
       "</div>"
      ],
      "text/plain": [
       "      score_validation  score_outside\n",
       "mean          0.657442       0.654058\n",
       "std           0.015299            NaN"
      ]
     },
     "execution_count": 48,
     "metadata": {},
     "output_type": "execute_result"
    }
   ],
   "source": [
    "cat([helpers.view_sk_metric(logit.measurements.crossValidation.roc_auc_score),\n",
    "    helpers.view_sk_metric(logit.measurements.outside.roc_auc_score)], ['validation', 'outside'])"
   ]
  },
  {
   "cell_type": "code",
   "execution_count": 49,
   "metadata": {
    "collapsed": false
   },
   "outputs": [
    {
     "data": {
      "text/html": [
       "<div>\n",
       "<style scoped>\n",
       "    .dataframe tbody tr th:only-of-type {\n",
       "        vertical-align: middle;\n",
       "    }\n",
       "\n",
       "    .dataframe tbody tr th {\n",
       "        vertical-align: top;\n",
       "    }\n",
       "\n",
       "    .dataframe thead th {\n",
       "        text-align: right;\n",
       "    }\n",
       "</style>\n",
       "<table border=\"1\" class=\"dataframe\">\n",
       "  <thead>\n",
       "    <tr style=\"text-align: right;\">\n",
       "      <th></th>\n",
       "      <th>score_validation</th>\n",
       "      <th>score_outside</th>\n",
       "    </tr>\n",
       "  </thead>\n",
       "  <tbody>\n",
       "    <tr>\n",
       "      <th>mean</th>\n",
       "      <td>0.021029</td>\n",
       "      <td>0.021257</td>\n",
       "    </tr>\n",
       "    <tr>\n",
       "      <th>std</th>\n",
       "      <td>0.001902</td>\n",
       "      <td>NaN</td>\n",
       "    </tr>\n",
       "  </tbody>\n",
       "</table>\n",
       "</div>"
      ],
      "text/plain": [
       "      score_validation  score_outside\n",
       "mean          0.021029       0.021257\n",
       "std           0.001902            NaN"
      ]
     },
     "execution_count": 49,
     "metadata": {},
     "output_type": "execute_result"
    }
   ],
   "source": [
    "cat([helpers.view_sk_metric(logit.measurements.crossValidation.average_precision_score),\n",
    "    helpers.view_sk_metric(logit.measurements.outside.average_precision_score)], ['validation', 'outside'])"
   ]
  },
  {
   "cell_type": "code",
   "execution_count": 50,
   "metadata": {
    "collapsed": false
   },
   "outputs": [
    {
     "data": {
      "text/html": [
       "<div>\n",
       "<style scoped>\n",
       "    .dataframe tbody tr th:only-of-type {\n",
       "        vertical-align: middle;\n",
       "    }\n",
       "\n",
       "    .dataframe tbody tr th {\n",
       "        vertical-align: top;\n",
       "    }\n",
       "\n",
       "    .dataframe thead th {\n",
       "        text-align: right;\n",
       "    }\n",
       "</style>\n",
       "<table border=\"1\" class=\"dataframe\">\n",
       "  <thead>\n",
       "    <tr style=\"text-align: right;\">\n",
       "      <th></th>\n",
       "      <th>coefficients</th>\n",
       "    </tr>\n",
       "    <tr>\n",
       "      <th>names</th>\n",
       "      <th></th>\n",
       "    </tr>\n",
       "  </thead>\n",
       "  <tbody>\n",
       "    <tr>\n",
       "      <th>intercept_</th>\n",
       "      <td>-4.861454</td>\n",
       "    </tr>\n",
       "    <tr>\n",
       "      <th>distance_km</th>\n",
       "      <td>-3.987347</td>\n",
       "    </tr>\n",
       "    <tr>\n",
       "      <th>listing_lat</th>\n",
       "      <td>-3.059293</td>\n",
       "    </tr>\n",
       "    <tr>\n",
       "      <th>amortized_costs</th>\n",
       "      <td>-1.617258</td>\n",
       "    </tr>\n",
       "    <tr>\n",
       "      <th>listing_total_price</th>\n",
       "      <td>-0.667950</td>\n",
       "    </tr>\n",
       "    <tr>\n",
       "      <th>listing_room_type_Shared Room</th>\n",
       "      <td>-0.575123</td>\n",
       "    </tr>\n",
       "    <tr>\n",
       "      <th>listing_cleanliness_rating</th>\n",
       "      <td>-0.318860</td>\n",
       "    </tr>\n",
       "    <tr>\n",
       "      <th>query_price_max</th>\n",
       "      <td>-0.270403</td>\n",
       "    </tr>\n",
       "    <tr>\n",
       "      <th>listing_communication_rating</th>\n",
       "      <td>-0.238746</td>\n",
       "    </tr>\n",
       "    <tr>\n",
       "      <th>listing_maximum_nights</th>\n",
       "      <td>-0.226304</td>\n",
       "    </tr>\n",
       "    <tr>\n",
       "      <th>query_radius</th>\n",
       "      <td>-0.222698</td>\n",
       "    </tr>\n",
       "    <tr>\n",
       "      <th>listing_checkin_rating</th>\n",
       "      <td>-0.221558</td>\n",
       "    </tr>\n",
       "    <tr>\n",
       "      <th>query_price_min_exists</th>\n",
       "      <td>-0.124241</td>\n",
       "    </tr>\n",
       "    <tr>\n",
       "      <th>query_price_max_exists</th>\n",
       "      <td>-0.124241</td>\n",
       "    </tr>\n",
       "    <tr>\n",
       "      <th>listing_has_pro_pictures_True</th>\n",
       "      <td>-0.107204</td>\n",
       "    </tr>\n",
       "    <tr>\n",
       "      <th>listing_weekly_discount</th>\n",
       "      <td>-0.100857</td>\n",
       "    </tr>\n",
       "    <tr>\n",
       "      <th>listing_person_capacity</th>\n",
       "      <td>-0.079969</td>\n",
       "    </tr>\n",
       "    <tr>\n",
       "      <th>listing_monthly_price_factor</th>\n",
       "      <td>-0.055693</td>\n",
       "    </tr>\n",
       "    <tr>\n",
       "      <th>listing_lng</th>\n",
       "      <td>-0.052008</td>\n",
       "    </tr>\n",
       "    <tr>\n",
       "      <th>listing_weekly_price_factor</th>\n",
       "      <td>-0.045963</td>\n",
       "    </tr>\n",
       "    <tr>\n",
       "      <th>listing_num_beds</th>\n",
       "      <td>-0.045772</td>\n",
       "    </tr>\n",
       "    <tr>\n",
       "      <th>listing_location_rating</th>\n",
       "      <td>-0.037893</td>\n",
       "    </tr>\n",
       "    <tr>\n",
       "      <th>listing_has_pro_pictures_False</th>\n",
       "      <td>-0.025316</td>\n",
       "    </tr>\n",
       "    <tr>\n",
       "      <th>listing_num_recent_reservations</th>\n",
       "      <td>-0.015481</td>\n",
       "    </tr>\n",
       "    <tr>\n",
       "      <th>listing_monthly_discount</th>\n",
       "      <td>0.001912</td>\n",
       "    </tr>\n",
       "    <tr>\n",
       "      <th>listing_cleaning_fee</th>\n",
       "      <td>0.002524</td>\n",
       "    </tr>\n",
       "    <tr>\n",
       "      <th>listing_is_new</th>\n",
       "      <td>0.004898</td>\n",
       "    </tr>\n",
       "    <tr>\n",
       "      <th>duration_days</th>\n",
       "      <td>0.005007</td>\n",
       "    </tr>\n",
       "    <tr>\n",
       "      <th>listing_minimum_nights</th>\n",
       "      <td>0.017783</td>\n",
       "    </tr>\n",
       "    <tr>\n",
       "      <th>listing_monthly_price_factor_exists</th>\n",
       "      <td>0.022196</td>\n",
       "    </tr>\n",
       "    <tr>\n",
       "      <th>query_num_guests</th>\n",
       "      <td>0.024142</td>\n",
       "    </tr>\n",
       "    <tr>\n",
       "      <th>query_num_infants</th>\n",
       "      <td>0.030965</td>\n",
       "    </tr>\n",
       "    <tr>\n",
       "      <th>query_num_children</th>\n",
       "      <td>0.031777</td>\n",
       "    </tr>\n",
       "    <tr>\n",
       "      <th>listing_review_count</th>\n",
       "      <td>0.035969</td>\n",
       "    </tr>\n",
       "    <tr>\n",
       "      <th>listing_cleaning_fee_exists</th>\n",
       "      <td>0.039572</td>\n",
       "    </tr>\n",
       "    <tr>\n",
       "      <th>listing_property_type</th>\n",
       "      <td>0.041340</td>\n",
       "    </tr>\n",
       "    <tr>\n",
       "      <th>listing_review_rating</th>\n",
       "      <td>0.041723</td>\n",
       "    </tr>\n",
       "    <tr>\n",
       "      <th>listing_room_type_Entire Home</th>\n",
       "      <td>0.056368</td>\n",
       "    </tr>\n",
       "    <tr>\n",
       "      <th>listing_weekly_price_factor_exists</th>\n",
       "      <td>0.059205</td>\n",
       "    </tr>\n",
       "    <tr>\n",
       "      <th>listing_num_bedrooms</th>\n",
       "      <td>0.074299</td>\n",
       "    </tr>\n",
       "    <tr>\n",
       "      <th>ts_search</th>\n",
       "      <td>0.079526</td>\n",
       "    </tr>\n",
       "    <tr>\n",
       "      <th>query_price_min</th>\n",
       "      <td>0.079901</td>\n",
       "    </tr>\n",
       "    <tr>\n",
       "      <th>listing_num_books_90day</th>\n",
       "      <td>0.106744</td>\n",
       "    </tr>\n",
       "    <tr>\n",
       "      <th>listing_num_bathrooms</th>\n",
       "      <td>0.112561</td>\n",
       "    </tr>\n",
       "    <tr>\n",
       "      <th>listing_occupancy_rate</th>\n",
       "      <td>0.280967</td>\n",
       "    </tr>\n",
       "    <tr>\n",
       "      <th>listing_value_rating</th>\n",
       "      <td>0.287678</td>\n",
       "    </tr>\n",
       "    <tr>\n",
       "      <th>query_center_lng</th>\n",
       "      <td>0.360087</td>\n",
       "    </tr>\n",
       "    <tr>\n",
       "      <th>listing_accuracy_rating</th>\n",
       "      <td>0.567824</td>\n",
       "    </tr>\n",
       "    <tr>\n",
       "      <th>query_center_lat</th>\n",
       "      <td>1.058829</td>\n",
       "    </tr>\n",
       "  </tbody>\n",
       "</table>\n",
       "</div>"
      ],
      "text/plain": [
       "                                     coefficients\n",
       "names                                            \n",
       "intercept_                              -4.861454\n",
       "distance_km                             -3.987347\n",
       "listing_lat                             -3.059293\n",
       "amortized_costs                         -1.617258\n",
       "listing_total_price                     -0.667950\n",
       "listing_room_type_Shared Room           -0.575123\n",
       "listing_cleanliness_rating              -0.318860\n",
       "query_price_max                         -0.270403\n",
       "listing_communication_rating            -0.238746\n",
       "listing_maximum_nights                  -0.226304\n",
       "query_radius                            -0.222698\n",
       "listing_checkin_rating                  -0.221558\n",
       "query_price_min_exists                  -0.124241\n",
       "query_price_max_exists                  -0.124241\n",
       "listing_has_pro_pictures_True           -0.107204\n",
       "listing_weekly_discount                 -0.100857\n",
       "listing_person_capacity                 -0.079969\n",
       "listing_monthly_price_factor            -0.055693\n",
       "listing_lng                             -0.052008\n",
       "listing_weekly_price_factor             -0.045963\n",
       "listing_num_beds                        -0.045772\n",
       "listing_location_rating                 -0.037893\n",
       "listing_has_pro_pictures_False          -0.025316\n",
       "listing_num_recent_reservations         -0.015481\n",
       "listing_monthly_discount                 0.001912\n",
       "listing_cleaning_fee                     0.002524\n",
       "listing_is_new                           0.004898\n",
       "duration_days                            0.005007\n",
       "listing_minimum_nights                   0.017783\n",
       "listing_monthly_price_factor_exists      0.022196\n",
       "query_num_guests                         0.024142\n",
       "query_num_infants                        0.030965\n",
       "query_num_children                       0.031777\n",
       "listing_review_count                     0.035969\n",
       "listing_cleaning_fee_exists              0.039572\n",
       "listing_property_type                    0.041340\n",
       "listing_review_rating                    0.041723\n",
       "listing_room_type_Entire Home            0.056368\n",
       "listing_weekly_price_factor_exists       0.059205\n",
       "listing_num_bedrooms                     0.074299\n",
       "ts_search                                0.079526\n",
       "query_price_min                          0.079901\n",
       "listing_num_books_90day                  0.106744\n",
       "listing_num_bathrooms                    0.112561\n",
       "listing_occupancy_rate                   0.280967\n",
       "listing_value_rating                     0.287678\n",
       "query_center_lng                         0.360087\n",
       "listing_accuracy_rating                  0.567824\n",
       "query_center_lat                         1.058829"
      ]
     },
     "execution_count": 50,
     "metadata": {},
     "output_type": "execute_result"
    }
   ],
   "source": [
    "logit.measurements.outside.feature_weights.mean"
   ]
  },
  {
   "cell_type": "code",
   "execution_count": null,
   "metadata": {
    "collapsed": true
   },
   "outputs": [],
   "source": []
  },
  {
   "cell_type": "markdown",
   "metadata": {},
   "source": [
    "Two important area that I haven't looked at yet is nonlinear transform of the feature data to transfrom it into a linear space and the interactions between the features themselves. Rather than building these by hand I'll look to a non parametric model to give the same information with less effort to classify bookings. \n"
   ]
  },
  {
   "cell_type": "code",
   "execution_count": 69,
   "metadata": {
    "collapsed": false
   },
   "outputs": [],
   "source": [
    "from sklearn.ensemble import RandomForestClassifier\n",
    "\n",
    "rf = load_sculpture(df, outsideDf=validation_df, \n",
    "                   weights='feature_importances',\n",
    "                   model=load_model_full(RandomForestClassifier(n_estimators=500, min_samples_split=250)), \n",
    "                   paramGrid={'model__ml__max_depth': range(6, 12, 2)}, \n",
    "                   entire='search', validation=False)"
   ]
  },
  {
   "cell_type": "code",
   "execution_count": 70,
   "metadata": {
    "collapsed": false
   },
   "outputs": [
    {
     "name": "stdout",
     "output_type": "stream",
     "text": [
      "Entire Dataset\n",
      "grid searching\n"
     ]
    },
    {
     "data": {
      "text/plain": [
       "Sculpture_2019_05_28_16_59"
      ]
     },
     "execution_count": 70,
     "metadata": {},
     "output_type": "execute_result"
    }
   ],
   "source": [
    "rf.fit()"
   ]
  },
  {
   "cell_type": "code",
   "execution_count": 71,
   "metadata": {
    "collapsed": false
   },
   "outputs": [
    {
     "data": {
      "text/plain": [
       "{'model__ml__max_depth': 8}"
      ]
     },
     "execution_count": 71,
     "metadata": {},
     "output_type": "execute_result"
    }
   ],
   "source": [
    "rf.estimator.gridSearch.best_params_"
   ]
  },
  {
   "cell_type": "code",
   "execution_count": 72,
   "metadata": {
    "collapsed": false
   },
   "outputs": [
    {
     "data": {
      "text/html": [
       "<div>\n",
       "<style scoped>\n",
       "    .dataframe tbody tr th:only-of-type {\n",
       "        vertical-align: middle;\n",
       "    }\n",
       "\n",
       "    .dataframe tbody tr th {\n",
       "        vertical-align: top;\n",
       "    }\n",
       "\n",
       "    .dataframe thead th {\n",
       "        text-align: right;\n",
       "    }\n",
       "</style>\n",
       "<table border=\"1\" class=\"dataframe\">\n",
       "  <thead>\n",
       "    <tr style=\"text-align: right;\">\n",
       "      <th></th>\n",
       "      <th>score</th>\n",
       "    </tr>\n",
       "  </thead>\n",
       "  <tbody>\n",
       "    <tr>\n",
       "      <th>mean</th>\n",
       "      <td>0.628002</td>\n",
       "    </tr>\n",
       "    <tr>\n",
       "      <th>std</th>\n",
       "      <td>NaN</td>\n",
       "    </tr>\n",
       "  </tbody>\n",
       "</table>\n",
       "</div>"
      ],
      "text/plain": [
       "         score\n",
       "mean  0.628002\n",
       "std        NaN"
      ]
     },
     "execution_count": 72,
     "metadata": {},
     "output_type": "execute_result"
    }
   ],
   "source": [
    "helpers.view_sk_metric(rf.measurements.outside.roc_auc_score)"
   ]
  },
  {
   "cell_type": "code",
   "execution_count": 74,
   "metadata": {
    "collapsed": false
   },
   "outputs": [
    {
     "data": {
      "text/html": [
       "<div>\n",
       "<style scoped>\n",
       "    .dataframe tbody tr th:only-of-type {\n",
       "        vertical-align: middle;\n",
       "    }\n",
       "\n",
       "    .dataframe tbody tr th {\n",
       "        vertical-align: top;\n",
       "    }\n",
       "\n",
       "    .dataframe thead th {\n",
       "        text-align: right;\n",
       "    }\n",
       "</style>\n",
       "<table border=\"1\" class=\"dataframe\">\n",
       "  <thead>\n",
       "    <tr style=\"text-align: right;\">\n",
       "      <th></th>\n",
       "      <th>score</th>\n",
       "    </tr>\n",
       "  </thead>\n",
       "  <tbody>\n",
       "    <tr>\n",
       "      <th>mean</th>\n",
       "      <td>0.019321</td>\n",
       "    </tr>\n",
       "    <tr>\n",
       "      <th>std</th>\n",
       "      <td>NaN</td>\n",
       "    </tr>\n",
       "  </tbody>\n",
       "</table>\n",
       "</div>"
      ],
      "text/plain": [
       "         score\n",
       "mean  0.019321\n",
       "std        NaN"
      ]
     },
     "execution_count": 74,
     "metadata": {},
     "output_type": "execute_result"
    }
   ],
   "source": [
    "helpers.view_sk_metric(rf.measurements.outside.average_precision_score)"
   ]
  },
  {
   "cell_type": "code",
   "execution_count": 75,
   "metadata": {
    "collapsed": false
   },
   "outputs": [
    {
     "data": {
      "text/html": [
       "<div>\n",
       "<style scoped>\n",
       "    .dataframe tbody tr th:only-of-type {\n",
       "        vertical-align: middle;\n",
       "    }\n",
       "\n",
       "    .dataframe tbody tr th {\n",
       "        vertical-align: top;\n",
       "    }\n",
       "\n",
       "    .dataframe thead th {\n",
       "        text-align: right;\n",
       "    }\n",
       "</style>\n",
       "<table border=\"1\" class=\"dataframe\">\n",
       "  <thead>\n",
       "    <tr style=\"text-align: right;\">\n",
       "      <th></th>\n",
       "      <th>feature_importances</th>\n",
       "    </tr>\n",
       "    <tr>\n",
       "      <th>names</th>\n",
       "      <th></th>\n",
       "    </tr>\n",
       "  </thead>\n",
       "  <tbody>\n",
       "    <tr>\n",
       "      <th>listing_room_type_Shared Room</th>\n",
       "      <td>0.000887</td>\n",
       "    </tr>\n",
       "    <tr>\n",
       "      <th>listing_num_recent_reservations</th>\n",
       "      <td>0.000931</td>\n",
       "    </tr>\n",
       "    <tr>\n",
       "      <th>listing_weekly_discount</th>\n",
       "      <td>0.001039</td>\n",
       "    </tr>\n",
       "    <tr>\n",
       "      <th>listing_monthly_discount</th>\n",
       "      <td>0.001068</td>\n",
       "    </tr>\n",
       "    <tr>\n",
       "      <th>listing_weekly_price_factor_exists</th>\n",
       "      <td>0.001114</td>\n",
       "    </tr>\n",
       "    <tr>\n",
       "      <th>listing_room_type_Entire Home</th>\n",
       "      <td>0.001137</td>\n",
       "    </tr>\n",
       "    <tr>\n",
       "      <th>listing_has_pro_pictures_True</th>\n",
       "      <td>0.001138</td>\n",
       "    </tr>\n",
       "    <tr>\n",
       "      <th>query_price_min_exists</th>\n",
       "      <td>0.001167</td>\n",
       "    </tr>\n",
       "    <tr>\n",
       "      <th>listing_monthly_price_factor_exists</th>\n",
       "      <td>0.001215</td>\n",
       "    </tr>\n",
       "    <tr>\n",
       "      <th>query_price_max_exists</th>\n",
       "      <td>0.001218</td>\n",
       "    </tr>\n",
       "    <tr>\n",
       "      <th>listing_cleaning_fee_exists</th>\n",
       "      <td>0.001306</td>\n",
       "    </tr>\n",
       "    <tr>\n",
       "      <th>listing_has_pro_pictures_False</th>\n",
       "      <td>0.001538</td>\n",
       "    </tr>\n",
       "    <tr>\n",
       "      <th>query_price_max</th>\n",
       "      <td>0.001699</td>\n",
       "    </tr>\n",
       "    <tr>\n",
       "      <th>listing_is_new</th>\n",
       "      <td>0.003268</td>\n",
       "    </tr>\n",
       "    <tr>\n",
       "      <th>query_num_infants</th>\n",
       "      <td>0.007566</td>\n",
       "    </tr>\n",
       "    <tr>\n",
       "      <th>listing_property_type</th>\n",
       "      <td>0.010703</td>\n",
       "    </tr>\n",
       "    <tr>\n",
       "      <th>listing_minimum_nights</th>\n",
       "      <td>0.011393</td>\n",
       "    </tr>\n",
       "    <tr>\n",
       "      <th>query_num_children</th>\n",
       "      <td>0.011618</td>\n",
       "    </tr>\n",
       "    <tr>\n",
       "      <th>listing_num_bathrooms</th>\n",
       "      <td>0.012660</td>\n",
       "    </tr>\n",
       "    <tr>\n",
       "      <th>listing_num_beds</th>\n",
       "      <td>0.012786</td>\n",
       "    </tr>\n",
       "    <tr>\n",
       "      <th>listing_person_capacity</th>\n",
       "      <td>0.012918</td>\n",
       "    </tr>\n",
       "    <tr>\n",
       "      <th>listing_num_bedrooms</th>\n",
       "      <td>0.013840</td>\n",
       "    </tr>\n",
       "    <tr>\n",
       "      <th>listing_review_rating</th>\n",
       "      <td>0.015105</td>\n",
       "    </tr>\n",
       "    <tr>\n",
       "      <th>listing_monthly_price_factor</th>\n",
       "      <td>0.016882</td>\n",
       "    </tr>\n",
       "    <tr>\n",
       "      <th>query_center_lat</th>\n",
       "      <td>0.017172</td>\n",
       "    </tr>\n",
       "    <tr>\n",
       "      <th>query_price_min</th>\n",
       "      <td>0.017585</td>\n",
       "    </tr>\n",
       "    <tr>\n",
       "      <th>listing_weekly_price_factor</th>\n",
       "      <td>0.017951</td>\n",
       "    </tr>\n",
       "    <tr>\n",
       "      <th>duration_days</th>\n",
       "      <td>0.018724</td>\n",
       "    </tr>\n",
       "    <tr>\n",
       "      <th>listing_lat</th>\n",
       "      <td>0.019262</td>\n",
       "    </tr>\n",
       "    <tr>\n",
       "      <th>listing_accuracy_rating</th>\n",
       "      <td>0.019871</td>\n",
       "    </tr>\n",
       "    <tr>\n",
       "      <th>listing_communication_rating</th>\n",
       "      <td>0.020330</td>\n",
       "    </tr>\n",
       "    <tr>\n",
       "      <th>listing_cleaning_fee</th>\n",
       "      <td>0.020799</td>\n",
       "    </tr>\n",
       "    <tr>\n",
       "      <th>query_num_guests</th>\n",
       "      <td>0.021733</td>\n",
       "    </tr>\n",
       "    <tr>\n",
       "      <th>listing_checkin_rating</th>\n",
       "      <td>0.023073</td>\n",
       "    </tr>\n",
       "    <tr>\n",
       "      <th>listing_value_rating</th>\n",
       "      <td>0.024907</td>\n",
       "    </tr>\n",
       "    <tr>\n",
       "      <th>listing_location_rating</th>\n",
       "      <td>0.025013</td>\n",
       "    </tr>\n",
       "    <tr>\n",
       "      <th>listing_cleanliness_rating</th>\n",
       "      <td>0.025212</td>\n",
       "    </tr>\n",
       "    <tr>\n",
       "      <th>distance_km</th>\n",
       "      <td>0.026818</td>\n",
       "    </tr>\n",
       "    <tr>\n",
       "      <th>listing_lng</th>\n",
       "      <td>0.027505</td>\n",
       "    </tr>\n",
       "    <tr>\n",
       "      <th>query_center_lng</th>\n",
       "      <td>0.033619</td>\n",
       "    </tr>\n",
       "    <tr>\n",
       "      <th>listing_maximum_nights</th>\n",
       "      <td>0.034212</td>\n",
       "    </tr>\n",
       "    <tr>\n",
       "      <th>listing_review_count</th>\n",
       "      <td>0.038879</td>\n",
       "    </tr>\n",
       "    <tr>\n",
       "      <th>listing_num_books_90day</th>\n",
       "      <td>0.052470</td>\n",
       "    </tr>\n",
       "    <tr>\n",
       "      <th>ts_search</th>\n",
       "      <td>0.060408</td>\n",
       "    </tr>\n",
       "    <tr>\n",
       "      <th>query_radius</th>\n",
       "      <td>0.067424</td>\n",
       "    </tr>\n",
       "    <tr>\n",
       "      <th>listing_total_price</th>\n",
       "      <td>0.071978</td>\n",
       "    </tr>\n",
       "    <tr>\n",
       "      <th>amortized_costs</th>\n",
       "      <td>0.073792</td>\n",
       "    </tr>\n",
       "    <tr>\n",
       "      <th>listing_occupancy_rate</th>\n",
       "      <td>0.097069</td>\n",
       "    </tr>\n",
       "  </tbody>\n",
       "</table>\n",
       "</div>"
      ],
      "text/plain": [
       "                                     feature_importances\n",
       "names                                                   \n",
       "listing_room_type_Shared Room                   0.000887\n",
       "listing_num_recent_reservations                 0.000931\n",
       "listing_weekly_discount                         0.001039\n",
       "listing_monthly_discount                        0.001068\n",
       "listing_weekly_price_factor_exists              0.001114\n",
       "listing_room_type_Entire Home                   0.001137\n",
       "listing_has_pro_pictures_True                   0.001138\n",
       "query_price_min_exists                          0.001167\n",
       "listing_monthly_price_factor_exists             0.001215\n",
       "query_price_max_exists                          0.001218\n",
       "listing_cleaning_fee_exists                     0.001306\n",
       "listing_has_pro_pictures_False                  0.001538\n",
       "query_price_max                                 0.001699\n",
       "listing_is_new                                  0.003268\n",
       "query_num_infants                               0.007566\n",
       "listing_property_type                           0.010703\n",
       "listing_minimum_nights                          0.011393\n",
       "query_num_children                              0.011618\n",
       "listing_num_bathrooms                           0.012660\n",
       "listing_num_beds                                0.012786\n",
       "listing_person_capacity                         0.012918\n",
       "listing_num_bedrooms                            0.013840\n",
       "listing_review_rating                           0.015105\n",
       "listing_monthly_price_factor                    0.016882\n",
       "query_center_lat                                0.017172\n",
       "query_price_min                                 0.017585\n",
       "listing_weekly_price_factor                     0.017951\n",
       "duration_days                                   0.018724\n",
       "listing_lat                                     0.019262\n",
       "listing_accuracy_rating                         0.019871\n",
       "listing_communication_rating                    0.020330\n",
       "listing_cleaning_fee                            0.020799\n",
       "query_num_guests                                0.021733\n",
       "listing_checkin_rating                          0.023073\n",
       "listing_value_rating                            0.024907\n",
       "listing_location_rating                         0.025013\n",
       "listing_cleanliness_rating                      0.025212\n",
       "distance_km                                     0.026818\n",
       "listing_lng                                     0.027505\n",
       "query_center_lng                                0.033619\n",
       "listing_maximum_nights                          0.034212\n",
       "listing_review_count                            0.038879\n",
       "listing_num_books_90day                         0.052470\n",
       "ts_search                                       0.060408\n",
       "query_radius                                    0.067424\n",
       "listing_total_price                             0.071978\n",
       "amortized_costs                                 0.073792\n",
       "listing_occupancy_rate                          0.097069"
      ]
     },
     "execution_count": 75,
     "metadata": {},
     "output_type": "execute_result"
    }
   ],
   "source": [
    "rf.measurements.outside.feature_weights.mean"
   ]
  },
  {
   "cell_type": "code",
   "execution_count": null,
   "metadata": {
    "collapsed": false
   },
   "outputs": [],
   "source": []
  },
  {
   "cell_type": "markdown",
   "metadata": {
    "collapsed": false
   },
   "source": [
    "While I could spend more time developing this model, given model performance and time constraints I'll move forward\n",
    "with the logistic regression on the full transformation graph to test the performance on the validation set against the hold out set. "
   ]
  },
  {
   "cell_type": "code",
   "execution_count": 76,
   "metadata": {
    "collapsed": false
   },
   "outputs": [
    {
     "name": "stderr",
     "output_type": "stream",
     "text": [
      "/anaconda/lib/python2.7/site-packages/ipykernel_launcher.py:12: RuntimeWarning: invalid value encountered in double_scalars\n",
      "  if sys.path[0] == '':\n"
     ]
    },
    {
     "data": {
      "text/plain": [
       "0.8035700967257815"
      ]
     },
     "execution_count": 76,
     "metadata": {},
     "output_type": "execute_result"
    },
    {
     "data": {
      "image/png": "[encoded data removed]",
      "text/plain": [
       "<Figure size 432x288 with 1 Axes>"
      ]
     },
     "metadata": {
      "needs_background": "light"
     },
     "output_type": "display_data"
    }
   ],
   "source": [
    "gains_validation = ndcg_score(logit)\n",
    "gains_validation.rename('gain').to_frame().reset_index(drop=True).dropna().hist(bins=100)\n",
    "gains_validation.mean()"
   ]
  },
  {
   "cell_type": "code",
   "execution_count": 77,
   "metadata": {
    "collapsed": false
   },
   "outputs": [
    {
     "name": "stderr",
     "output_type": "stream",
     "text": [
      "/anaconda/lib/python2.7/site-packages/ipykernel_launcher.py:12: RuntimeWarning: invalid value encountered in double_scalars\n",
      "  if sys.path[0] == '':\n"
     ]
    }
   ],
   "source": [
    "gains = ndcg_score(logit, df=holdout_df)"
   ]
  },
  {
   "cell_type": "code",
   "execution_count": 78,
   "metadata": {
    "collapsed": false
   },
   "outputs": [
    {
     "name": "stdout",
     "output_type": "stream",
     "text": [
      "0.801363668521\n"
     ]
    },
    {
     "data": {
      "text/plain": [
       "array([[<matplotlib.axes._subplots.AxesSubplot object at 0x12b390e10>]],\n",
       "      dtype=object)"
      ]
     },
     "execution_count": 78,
     "metadata": {},
     "output_type": "execute_result"
    },
    {
     "data": {
      "image/png": "[encoded data removed]",
      "text/plain": [
       "<Figure size 432x288 with 1 Axes>"
      ]
     },
     "metadata": {
      "needs_background": "light"
     },
     "output_type": "display_data"
    }
   ],
   "source": [
    "print(gains.mean())\n",
    "gains.rename('gain').to_frame().reset_index(drop=True).dropna().hist(bins=100)"
   ]
  },
  {
   "cell_type": "code",
   "execution_count": 79,
   "metadata": {
    "collapsed": false
   },
   "outputs": [
    {
     "data": {
      "text/plain": [
       "<matplotlib.axes._subplots.AxesSubplot at 0x1083a6650>"
      ]
     },
     "execution_count": 79,
     "metadata": {},
     "output_type": "execute_result"
    },
    {
     "data": {
      "image/png": "[encoded data removed]",
      "text/plain": [
       "<Figure size 432x288 with 1 Axes>"
      ]
     },
     "metadata": {
      "needs_background": "light"
     },
     "output_type": "display_data"
    }
   ],
   "source": [
    "gains_validation.plot(kind='kde')\n",
    "gains.plot(kind='kde')"
   ]
  },
  {
   "cell_type": "code",
   "execution_count": 80,
   "metadata": {
    "collapsed": false
   },
   "outputs": [
    {
     "data": {
      "text/plain": [
       "Ttest_indResult(statistic=-0.4238713631004248, pvalue=0.6716737145685947)"
      ]
     },
     "execution_count": 80,
     "metadata": {},
     "output_type": "execute_result"
    }
   ],
   "source": [
    "from scipy.stats import ttest_ind\n",
    "ttest_ind(gains.dropna().values, gains_validation.dropna().values, equal_var=False)"
   ]
  },
  {
   "cell_type": "markdown",
   "metadata": {},
   "source": [
    "The gains associated with the validation and holdout sets are statistically similar!"
   ]
  },
  {
   "cell_type": "markdown",
   "metadata": {},
   "source": [
    "### Model Development: future work\n",
    "\n",
    "For the scoring component of the model, depending on the available data and infrastucture, I'd next look to a feed forward neural network after limited gains were made with Logistic Regression and the Random Forest. I've perturbed the hyperparameters and seen no substantial changes in scores (not shown fully) and I do not believe it would be worthwhile from a cost benefit perspective to spend resources finely grid searching the hyperparameter space for either of those two models.\n",
    "\n",
    "More important to the model's ability to learn, and assuming a larger time window, developing more features about user preferences, via aggregations or personas through clustering could be a great next step. This work could be approached by classical clustering techniques as well as generating embeddings with auto-encoders in addition to identifying anomalies with isolation forests. While more nuanced than other two sided marketplaces because of uniqueness of supply and the phasing in and out of listings as available, one of the important areas not explored here yet is leveraging the suite of matrix factorization techniques to enable the model to share information between users. \n",
    "\n",
    "Last, our current framework suffers from a large (almost 1:100) class imbalance. Leveraging a synthetic technique like SMOTE (or even oversampling) to attempt to gain a better understanding of the dividing surface between bookings and not booking could be impactful.  "
   ]
  },
  {
   "cell_type": "markdown",
   "metadata": {},
   "source": [
    "## New Listings: UX, dispersion, and ML scoring"
   ]
  },
  {
   "cell_type": "markdown",
   "metadata": {},
   "source": [
    "One nice attribtue of 'clear' box models is we can see clearly why they made the decisions they made. Here we can see from our logit that having positive reviews, and simply having guests stay promotes booking. Not surprisingly, people prefer pre-vetted experiences. As a result, the scoring model promotes listing with strong reputations, an artifact of having had guests stay. New listings then suffer from having no reviews. \n",
    "\n",
    "If this system launched as is the long term health of AirBnB would be negatively affected because new listings would struggle to surface. This spiral phenomena would in turn impede the listings chance to surface in the future and of gaining reviews. Frustrated owners would stop listing or be discouraged from listing homes. \n",
    "\n",
    "A well designed ML system should augment and guide a product, not expect the product to follow it blindly (save the rare case where the system and the product are in fact 100% aligned). To acheive this our system needs to actively promote new listings. We can have a meta-model on our system that is trained to evaluate the bias against new listing through the viewing newness as the `treatment` and the model predicts that impact. We can then adjust the scores of the new listings upward by the predicted amount. If there's a strong incentive from AirBnB's perspective to promote new listings we can enforce additional policy such as one or more of the top-k is a new listing or 2x the treatment from the bias adjustment. All of these approaches would yield an effective decrease in the ndcg of the system but lead to a healthier marketplace. \n",
    "\n",
    "Dispersion is imperative in serving content. The manner in which listings are served can impact the trust a user has in the platform. In a hypothetical limiting case, consider an apartment building with several (say 20) nearly idential apartments. That apartment archetype's score is the most bookable for a user, but serving all 20 of those listing as the first 20 listings would not be a good user experience.\n",
    "\n",
    "I've already talked about integrating with the existing search infrastructure so I'll conclude by mentioning an idea to leverage these scores in a completely different way. Typically search is thought as a stream from top to bottom, but being a web based application provides more interesting opportunity. This style of scoring system can help understand the value of \"real estate\" on the screen and the different techniques available to visually serve listings. Helping answer questions like where should the top ranked listing be placed on the screen as well as supporting other design choices not just with data, but with the ability to support inference on those techniques."
   ]
  },
  {
   "cell_type": "markdown",
   "metadata": {},
   "source": [
    "### Unused Transformers\n",
    "These two transformers had negative impacts on model performance, but I think could merit further investigation \n",
    "with a larger window of time => larger volume of a user's history"
   ]
  },
  {
   "cell_type": "code",
   "execution_count": 81,
   "metadata": {
    "collapsed": true
   },
   "outputs": [],
   "source": [
    "class Pricepoint(transformers.DatasetTransformer):\n",
    "    \"\"\"\n",
    "    Augment with difference of mean of amortized costs over user's cumalitve previous interactions\n",
    "    and current listsings costs\n",
    "    \"\"\"\n",
    "    @data.package_dataset\n",
    "    @data.extract_fields\n",
    "    def fit(self, X=None, y=None, dataset=None):\n",
    "        df = dataset.designData\n",
    "        collection = []\n",
    "        interactions = df.loc[df.label != 'impression']\n",
    "\n",
    "        for user, subset in interactions.groupby('id_user'):\n",
    "            subset = subset.sort_values('ts_search')\n",
    "            if len(subset):\n",
    "                avg_cost_per_search = subset.groupby('ts_search').amortized_costs.mean().reset_index().sort_values(by='ts_search')\n",
    "                avg_cost_per_search['prior_mean_avg_cost'] = avg_cost_per_search.amortized_costs.expanding().mean()\n",
    "                avg_cost_per_search['id_user'] = user\n",
    "                collection.append(avg_cost_per_search[['id_user', 'prior_mean_avg_cost', 'ts_search']])\n",
    "\n",
    "        lookup = pd.concat(collection).sort_values('ts_search')\n",
    "        lookup['ts_search'] = lookup.ts_search.astype(int)\n",
    "        self.lookup = lookup.sort_values('ts_search')\n",
    "        return self\n",
    "\n",
    "    @data.extract_features\n",
    "    @data.enforce_dataset\n",
    "    def transform(self, X=None, y=None, dataset=None):\n",
    "        df = dataset.designData\n",
    "        df = df.sort_values('ts_search')\n",
    "        df['ts_search'] = df.ts_search.astype(int)\n",
    "\n",
    "        df_t = pd.merge_asof(df.reset_index(), self.lookup, on='ts_search', by='id_user',\n",
    "                direction='backward', allow_exact_matches=False).set_index('index')\n",
    "\n",
    "        df_t['prior_mean_avg_cost_delta'] = df_t.amortized_costs - df_t.prior_mean_avg_cost\n",
    "        df_t = df_t.drop('prior_mean_avg_cost', axis=1)\n",
    "\n",
    "        return dataset.with_params(X=df_t, y=dataset.targetData)\n",
    "\n",
    "\n",
    "class DaysSearches(transformers.DatasetTransformer):\n",
    "    \"\"\"\n",
    "    Count of user's searches executed previously that day\n",
    "    \"\"\"\n",
    "    @data.package_dataset\n",
    "    @data.extract_features\n",
    "    @data.enforce_dataset\n",
    "    def transform(self, X=None, y=None, dataset=None):\n",
    "        df = dataset.designData\n",
    "        collection = []\n",
    "        interactions = df.loc[df.label != 'impression']\n",
    "\n",
    "        for (user, day), subset in interactions.groupby(['id_user', 'ds_search']):\n",
    "            subset = subset.drop_duplicates().sort_values('ts_search')\n",
    "            if len(subset):\n",
    "                num_searches = subset[['id_user', 'ts_search']]\n",
    "                num_searches['prior_searches'] = subset.id_search.expanding().count()\n",
    "                num_searches['id_user'] = user\n",
    "                num_searches['id_user'] = user\n",
    "                collection.append(num_searches)\n",
    "\n",
    "        lookup = pd.concat(collection).sort_values('ts_search')\n",
    "        lookup['ts_search'] = lookup.ts_search.astype(int)\n",
    "        df = df.sort_values('ts_search')\n",
    "        df['ts_search'] = df.ts_search.astype(int)\n",
    "\n",
    "        df_t = pd.merge_asof(df.reset_index(), lookup, on='ts_search', by='id_user',\n",
    "                direction='backward', allow_exact_matches=False).set_index('index')\n",
    "\n",
    "        return dataset.with_params(X=df_t, y=dataset.targetData)\n"
   ]
  },
  {
   "cell_type": "code",
   "execution_count": null,
   "metadata": {
    "collapsed": true
   },
   "outputs": [],
   "source": []
  }
 ],
 "metadata": {
  "kernelspec": {
   "display_name": "Python 2",
   "language": "python",
   "name": "python2"
  },
  "language_info": {
   "codemirror_mode": {
    "name": "ipython",
    "version": 2
   },
   "file_extension": ".py",
   "mimetype": "text/x-python",
   "name": "python",
   "nbconvert_exporter": "python",
   "pygments_lexer": "ipython2",
   "version": "2.7.12"
  }
 },
 "nbformat": 4,
 "nbformat_minor": 0
}
