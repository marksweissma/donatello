{
 "cells": [
  {
   "cell_type": "code",
   "execution_count": 27,
   "metadata": {
    "collapsed": false
   },
   "outputs": [],
   "source": [
    "import pandas as pd\n",
    "from matplotlib import pyplot as plt\n",
    "\n",
    "from sklearn.preprocessing import scale\n",
    "from sklearn.metrics import r2_score, explained_variance_score, median_absolute_error\n",
    "from sklearn.linear_model import LinearRegression\n",
    "from sklearn.ensemble import RandomForestRegressor\n",
    "\n",
    "from statsmodels.api import OLS\n",
    "\n",
    "from donatello.components import core, data, transformers, estimator, measure"
   ]
  },
  {
   "cell_type": "code",
   "execution_count": 5,
   "metadata": {
    "collapsed": false
   },
   "outputs": [
    {
     "data": {
      "text/html": [
       "<div>\n",
       "<style scoped>\n",
       "    .dataframe tbody tr th:only-of-type {\n",
       "        vertical-align: middle;\n",
       "    }\n",
       "\n",
       "    .dataframe tbody tr th {\n",
       "        vertical-align: top;\n",
       "    }\n",
       "\n",
       "    .dataframe thead th {\n",
       "        text-align: right;\n",
       "    }\n",
       "</style>\n",
       "<table border=\"1\" class=\"dataframe\">\n",
       "  <thead>\n",
       "    <tr style=\"text-align: right;\">\n",
       "      <th></th>\n",
       "      <th>address</th>\n",
       "      <th>city</th>\n",
       "      <th>state</th>\n",
       "      <th>zipcode</th>\n",
       "      <th>property_type</th>\n",
       "      <th>square_footage</th>\n",
       "      <th>lot_size</th>\n",
       "      <th>num_rooms</th>\n",
       "      <th>num_bedrooms</th>\n",
       "      <th>num_baths</th>\n",
       "      <th>year_built</th>\n",
       "      <th>last_sale_amount</th>\n",
       "      <th>last_sale_date</th>\n",
       "      <th>estimated_value</th>\n",
       "    </tr>\n",
       "  </thead>\n",
       "  <tbody>\n",
       "    <tr>\n",
       "      <th>0</th>\n",
       "      <td>2495 S Milwaukee St</td>\n",
       "      <td>Denver</td>\n",
       "      <td>CO</td>\n",
       "      <td>80210</td>\n",
       "      <td>Single Family Residence</td>\n",
       "      <td>3885</td>\n",
       "      <td>7500.0</td>\n",
       "      <td>13</td>\n",
       "      <td>4</td>\n",
       "      <td>5.0</td>\n",
       "      <td>2010</td>\n",
       "      <td>350000</td>\n",
       "      <td>2010-06-07</td>\n",
       "      <td>1684147</td>\n",
       "    </tr>\n",
       "    <tr>\n",
       "      <th>1</th>\n",
       "      <td>2690 Niagara St</td>\n",
       "      <td>Denver</td>\n",
       "      <td>CO</td>\n",
       "      <td>80207</td>\n",
       "      <td>Single Family Residence</td>\n",
       "      <td>1343</td>\n",
       "      <td>7500.0</td>\n",
       "      <td>6</td>\n",
       "      <td>3</td>\n",
       "      <td>1.0</td>\n",
       "      <td>1948</td>\n",
       "      <td>31500</td>\n",
       "      <td>1978-02-01</td>\n",
       "      <td>343104</td>\n",
       "    </tr>\n",
       "    <tr>\n",
       "      <th>2</th>\n",
       "      <td>3425 Grove St</td>\n",
       "      <td>Denver</td>\n",
       "      <td>CO</td>\n",
       "      <td>80211</td>\n",
       "      <td>Single Family Residence</td>\n",
       "      <td>992</td>\n",
       "      <td>6250.0</td>\n",
       "      <td>5</td>\n",
       "      <td>2</td>\n",
       "      <td>2.0</td>\n",
       "      <td>1921</td>\n",
       "      <td>258000</td>\n",
       "      <td>2002-02-19</td>\n",
       "      <td>510436</td>\n",
       "    </tr>\n",
       "    <tr>\n",
       "      <th>3</th>\n",
       "      <td>4794 Claude Ct</td>\n",
       "      <td>Denver</td>\n",
       "      <td>CO</td>\n",
       "      <td>80216</td>\n",
       "      <td>Single Family Residence</td>\n",
       "      <td>491</td>\n",
       "      <td>2990.0</td>\n",
       "      <td>3</td>\n",
       "      <td>1</td>\n",
       "      <td>1.0</td>\n",
       "      <td>1891</td>\n",
       "      <td>0</td>\n",
       "      <td>2011-04-27</td>\n",
       "      <td>184105</td>\n",
       "    </tr>\n",
       "    <tr>\n",
       "      <th>4</th>\n",
       "      <td>3640 N Gaylord St</td>\n",
       "      <td>Denver</td>\n",
       "      <td>CO</td>\n",
       "      <td>80205</td>\n",
       "      <td>Single Family Residence</td>\n",
       "      <td>1365</td>\n",
       "      <td>4690.0</td>\n",
       "      <td>6</td>\n",
       "      <td>3</td>\n",
       "      <td>1.0</td>\n",
       "      <td>1912</td>\n",
       "      <td>52600</td>\n",
       "      <td>1980-09-01</td>\n",
       "      <td>390055</td>\n",
       "    </tr>\n",
       "  </tbody>\n",
       "</table>\n",
       "</div>"
      ],
      "text/plain": [
       "               address    city state  zipcode            property_type  \\\n",
       "0  2495 S Milwaukee St  Denver    CO    80210  Single Family Residence   \n",
       "1      2690 Niagara St  Denver    CO    80207  Single Family Residence   \n",
       "2        3425 Grove St  Denver    CO    80211  Single Family Residence   \n",
       "3       4794 Claude Ct  Denver    CO    80216  Single Family Residence   \n",
       "4    3640 N Gaylord St  Denver    CO    80205  Single Family Residence   \n",
       "\n",
       "   square_footage  lot_size  num_rooms  num_bedrooms  num_baths  year_built  \\\n",
       "0            3885    7500.0         13             4        5.0        2010   \n",
       "1            1343    7500.0          6             3        1.0        1948   \n",
       "2             992    6250.0          5             2        2.0        1921   \n",
       "3             491    2990.0          3             1        1.0        1891   \n",
       "4            1365    4690.0          6             3        1.0        1912   \n",
       "\n",
       "   last_sale_amount last_sale_date  estimated_value  \n",
       "0            350000     2010-06-07          1684147  \n",
       "1             31500     1978-02-01           343104  \n",
       "2            258000     2002-02-19           510436  \n",
       "3                 0     2011-04-27           184105  \n",
       "4             52600     1980-09-01           390055  "
      ]
     },
     "execution_count": 5,
     "metadata": {},
     "output_type": "execute_result"
    }
   ],
   "source": [
    "prices = pd.read_csv('data/single_family_home_values.csv')\n",
    "prices['last_sale_date'] = pd.to_datetime(prices['last_sale_date'])\n",
    "prices.head()"
   ]
  },
  {
   "cell_type": "code",
   "execution_count": 6,
   "metadata": {
    "collapsed": false
   },
   "outputs": [
    {
     "data": {
      "text/html": [
       "<div>\n",
       "<style scoped>\n",
       "    .dataframe tbody tr th:only-of-type {\n",
       "        vertical-align: middle;\n",
       "    }\n",
       "\n",
       "    .dataframe tbody tr th {\n",
       "        vertical-align: top;\n",
       "    }\n",
       "\n",
       "    .dataframe thead th {\n",
       "        text-align: right;\n",
       "    }\n",
       "</style>\n",
       "<table border=\"1\" class=\"dataframe\">\n",
       "  <thead>\n",
       "    <tr style=\"text-align: right;\">\n",
       "      <th></th>\n",
       "      <th>DATE</th>\n",
       "      <th>CUUSA433SAH</th>\n",
       "    </tr>\n",
       "  </thead>\n",
       "  <tbody>\n",
       "    <tr>\n",
       "      <th>0</th>\n",
       "      <td>1984-01-01</td>\n",
       "      <td>104.1</td>\n",
       "    </tr>\n",
       "    <tr>\n",
       "      <th>1</th>\n",
       "      <td>1985-01-01</td>\n",
       "      <td>106.8</td>\n",
       "    </tr>\n",
       "    <tr>\n",
       "      <th>2</th>\n",
       "      <td>1986-01-01</td>\n",
       "      <td>108.2</td>\n",
       "    </tr>\n",
       "    <tr>\n",
       "      <th>3</th>\n",
       "      <td>1987-01-01</td>\n",
       "      <td>109.6</td>\n",
       "    </tr>\n",
       "    <tr>\n",
       "      <th>4</th>\n",
       "      <td>1988-01-01</td>\n",
       "      <td>110.0</td>\n",
       "    </tr>\n",
       "  </tbody>\n",
       "</table>\n",
       "</div>"
      ],
      "text/plain": [
       "        DATE  CUUSA433SAH\n",
       "0 1984-01-01        104.1\n",
       "1 1985-01-01        106.8\n",
       "2 1986-01-01        108.2\n",
       "3 1987-01-01        109.6\n",
       "4 1988-01-01        110.0"
      ]
     },
     "execution_count": 6,
     "metadata": {},
     "output_type": "execute_result"
    }
   ],
   "source": [
    "cpi = pd.read_csv('data/denver_cpi.csv')\n",
    "cpi['DATE'] = pd.to_datetime(cpi['DATE'])\n",
    "cpi.head()"
   ]
  },
  {
   "cell_type": "code",
   "execution_count": 7,
   "metadata": {
    "collapsed": false
   },
   "outputs": [
    {
     "data": {
      "text/html": [
       "<div>\n",
       "<style scoped>\n",
       "    .dataframe tbody tr th:only-of-type {\n",
       "        vertical-align: middle;\n",
       "    }\n",
       "\n",
       "    .dataframe tbody tr th {\n",
       "        vertical-align: top;\n",
       "    }\n",
       "\n",
       "    .dataframe thead th {\n",
       "        text-align: right;\n",
       "    }\n",
       "</style>\n",
       "<table border=\"1\" class=\"dataframe\">\n",
       "  <thead>\n",
       "    <tr style=\"text-align: right;\">\n",
       "      <th></th>\n",
       "      <th>address</th>\n",
       "      <th>city</th>\n",
       "      <th>state</th>\n",
       "      <th>zipcode</th>\n",
       "      <th>property_type</th>\n",
       "      <th>square_footage</th>\n",
       "      <th>lot_size</th>\n",
       "      <th>num_rooms</th>\n",
       "      <th>num_bedrooms</th>\n",
       "      <th>num_baths</th>\n",
       "      <th>year_built</th>\n",
       "      <th>last_sale_amount</th>\n",
       "      <th>last_sale_date</th>\n",
       "      <th>estimated_value</th>\n",
       "      <th>DATE</th>\n",
       "      <th>CUUSA433SAH</th>\n",
       "    </tr>\n",
       "  </thead>\n",
       "  <tbody>\n",
       "    <tr>\n",
       "      <th>0</th>\n",
       "      <td>3564 Kearney St</td>\n",
       "      <td>Denver</td>\n",
       "      <td>CO</td>\n",
       "      <td>80207</td>\n",
       "      <td>Single Family Residence</td>\n",
       "      <td>1008</td>\n",
       "      <td>6410.0</td>\n",
       "      <td>6</td>\n",
       "      <td>3</td>\n",
       "      <td>1.0</td>\n",
       "      <td>1954</td>\n",
       "      <td>50600</td>\n",
       "      <td>1966-04-14</td>\n",
       "      <td>340952</td>\n",
       "      <td>1984-01-01</td>\n",
       "      <td>104.1</td>\n",
       "    </tr>\n",
       "    <tr>\n",
       "      <th>1</th>\n",
       "      <td>1585 S Meade St</td>\n",
       "      <td>Denver</td>\n",
       "      <td>CO</td>\n",
       "      <td>80219</td>\n",
       "      <td>Single Family Residence</td>\n",
       "      <td>947</td>\n",
       "      <td>6010.0</td>\n",
       "      <td>5</td>\n",
       "      <td>3</td>\n",
       "      <td>1.0</td>\n",
       "      <td>1952</td>\n",
       "      <td>21500</td>\n",
       "      <td>1975-02-01</td>\n",
       "      <td>257016</td>\n",
       "      <td>1984-01-01</td>\n",
       "      <td>104.1</td>\n",
       "    </tr>\n",
       "    <tr>\n",
       "      <th>2</th>\n",
       "      <td>63 Yates St</td>\n",
       "      <td>Denver</td>\n",
       "      <td>CO</td>\n",
       "      <td>80219</td>\n",
       "      <td>Single Family Residence</td>\n",
       "      <td>803</td>\n",
       "      <td>6250.0</td>\n",
       "      <td>4</td>\n",
       "      <td>2</td>\n",
       "      <td>1.0</td>\n",
       "      <td>1955</td>\n",
       "      <td>25000</td>\n",
       "      <td>1975-03-01</td>\n",
       "      <td>241671</td>\n",
       "      <td>1984-01-01</td>\n",
       "      <td>104.1</td>\n",
       "    </tr>\n",
       "    <tr>\n",
       "      <th>3</th>\n",
       "      <td>3020 Newton St</td>\n",
       "      <td>Denver</td>\n",
       "      <td>CO</td>\n",
       "      <td>80211</td>\n",
       "      <td>Single Family Residence</td>\n",
       "      <td>2000</td>\n",
       "      <td>6350.0</td>\n",
       "      <td>9</td>\n",
       "      <td>4</td>\n",
       "      <td>3.0</td>\n",
       "      <td>1909</td>\n",
       "      <td>15000</td>\n",
       "      <td>1975-03-01</td>\n",
       "      <td>762124</td>\n",
       "      <td>1984-01-01</td>\n",
       "      <td>104.1</td>\n",
       "    </tr>\n",
       "    <tr>\n",
       "      <th>4</th>\n",
       "      <td>2481 S Holly Pl</td>\n",
       "      <td>Denver</td>\n",
       "      <td>CO</td>\n",
       "      <td>80222</td>\n",
       "      <td>Single Family Residence</td>\n",
       "      <td>2398</td>\n",
       "      <td>13024.0</td>\n",
       "      <td>0</td>\n",
       "      <td>4</td>\n",
       "      <td>3.0</td>\n",
       "      <td>1957</td>\n",
       "      <td>45000</td>\n",
       "      <td>1975-03-01</td>\n",
       "      <td>554375</td>\n",
       "      <td>1984-01-01</td>\n",
       "      <td>104.1</td>\n",
       "    </tr>\n",
       "  </tbody>\n",
       "</table>\n",
       "</div>"
      ],
      "text/plain": [
       "           address    city state  zipcode            property_type  \\\n",
       "0  3564 Kearney St  Denver    CO    80207  Single Family Residence   \n",
       "1  1585 S Meade St  Denver    CO    80219  Single Family Residence   \n",
       "2      63 Yates St  Denver    CO    80219  Single Family Residence   \n",
       "3   3020 Newton St  Denver    CO    80211  Single Family Residence   \n",
       "4  2481 S Holly Pl  Denver    CO    80222  Single Family Residence   \n",
       "\n",
       "   square_footage  lot_size  num_rooms  num_bedrooms  num_baths  year_built  \\\n",
       "0            1008    6410.0          6             3        1.0        1954   \n",
       "1             947    6010.0          5             3        1.0        1952   \n",
       "2             803    6250.0          4             2        1.0        1955   \n",
       "3            2000    6350.0          9             4        3.0        1909   \n",
       "4            2398   13024.0          0             4        3.0        1957   \n",
       "\n",
       "   last_sale_amount last_sale_date  estimated_value       DATE  CUUSA433SAH  \n",
       "0             50600     1966-04-14           340952 1984-01-01        104.1  \n",
       "1             21500     1975-02-01           257016 1984-01-01        104.1  \n",
       "2             25000     1975-03-01           241671 1984-01-01        104.1  \n",
       "3             15000     1975-03-01           762124 1984-01-01        104.1  \n",
       "4             45000     1975-03-01           554375 1984-01-01        104.1  "
      ]
     },
     "execution_count": 7,
     "metadata": {},
     "output_type": "execute_result"
    }
   ],
   "source": [
    "df = pd.merge_asof(prices.sort_values(by='last_sale_date'), cpi, \n",
    "                   left_on='last_sale_date', right_on='DATE', direction='nearest')\n",
    "df.head()"
   ]
  },
  {
   "cell_type": "code",
   "execution_count": 43,
   "metadata": {
    "collapsed": false
   },
   "outputs": [],
   "source": [
    "def load_scuplture(df):\n",
    "    \"\"\"\n",
    "    Helper to load sculpture\n",
    "    \"\"\"\n",
    "    d = data.Dataset(raw=df, target='estimated_value')\n",
    "    \n",
    "    e = estimator.Estimator(model=LinearRegression())\n",
    "\n",
    "    m = [measure.Metric(metric) for metric in (r2_score, explained_variance_score, median_absolute_error)]\n",
    "    m.append(measure.FeatureWeights())\n",
    "    scuplture = core.Sculpture(dataset=d, estimator=e, metrics=m)\n",
    "\n",
    "    return scuplture\n"
   ]
  },
  {
   "cell_type": "code",
   "execution_count": 51,
   "metadata": {
    "collapsed": false
   },
   "outputs": [
    {
     "data": {
      "text/plain": [
       "['zipcode',\n",
       " 'square_footage',\n",
       " 'lot_size',\n",
       " 'num_rooms',\n",
       " 'num_bedrooms',\n",
       " 'num_baths',\n",
       " 'year_built',\n",
       " 'last_sale_amount',\n",
       " 'estimated_value',\n",
       " 'CUUSA433SAH']"
      ]
     },
     "execution_count": 51,
     "metadata": {},
     "output_type": "execute_result"
    }
   ],
   "source": [
    "list(df.select_dtypes(include=pd.np.number))"
   ]
  },
  {
   "cell_type": "code",
   "execution_count": 52,
   "metadata": {
    "collapsed": false
   },
   "outputs": [
    {
     "data": {
      "text/plain": [
       "address                     object\n",
       "city                        object\n",
       "state                       object\n",
       "zipcode                      int64\n",
       "property_type               object\n",
       "square_footage               int64\n",
       "lot_size                   float64\n",
       "num_rooms                    int64\n",
       "num_bedrooms                 int64\n",
       "num_baths                  float64\n",
       "year_built                   int64\n",
       "last_sale_amount             int64\n",
       "last_sale_date      datetime64[ns]\n",
       "estimated_value              int64\n",
       "DATE                datetime64[ns]\n",
       "CUUSA433SAH                float64\n",
       "dtype: object"
      ]
     },
     "execution_count": 52,
     "metadata": {},
     "output_type": "execute_result"
    }
   ],
   "source": [
    "df.dtypes"
   ]
  },
  {
   "cell_type": "code",
   "execution_count": 44,
   "metadata": {
    "collapsed": false
   },
   "outputs": [],
   "source": [
    "sculpture = load_scuplture()"
   ]
  },
  {
   "cell_type": "code",
   "execution_count": 45,
   "metadata": {
    "collapsed": false
   },
   "outputs": [
    {
     "name": "stdout",
     "output_type": "stream",
     "text": [
      "Cross Validation\n"
     ]
    },
    {
     "data": {
      "text/plain": [
       "Sculpture_2019_04_03_21_22"
      ]
     },
     "execution_count": 45,
     "metadata": {},
     "output_type": "execute_result"
    }
   ],
   "source": [
    "sculpture.fit()"
   ]
  },
  {
   "cell_type": "code",
   "execution_count": 48,
   "metadata": {
    "collapsed": false
   },
   "outputs": [
    {
     "data": {
      "text/html": [
       "<div>\n",
       "<style scoped>\n",
       "    .dataframe tbody tr th:only-of-type {\n",
       "        vertical-align: middle;\n",
       "    }\n",
       "\n",
       "    .dataframe tbody tr th {\n",
       "        vertical-align: top;\n",
       "    }\n",
       "\n",
       "    .dataframe thead th {\n",
       "        text-align: right;\n",
       "    }\n",
       "</style>\n",
       "<table border=\"1\" class=\"dataframe\">\n",
       "  <thead>\n",
       "    <tr style=\"text-align: right;\">\n",
       "      <th></th>\n",
       "      <th>explained_variance_score</th>\n",
       "    </tr>\n",
       "  </thead>\n",
       "  <tbody>\n",
       "    <tr>\n",
       "      <th>mean</th>\n",
       "      <td>0.563548</td>\n",
       "    </tr>\n",
       "    <tr>\n",
       "      <th>std</th>\n",
       "      <td>0.110797</td>\n",
       "    </tr>\n",
       "  </tbody>\n",
       "</table>\n",
       "</div>"
      ],
      "text/plain": [
       "      explained_variance_score\n",
       "mean                  0.563548\n",
       "std                   0.110797"
      ]
     },
     "metadata": {},
     "output_type": "display_data"
    },
    {
     "data": {
      "text/html": [
       "<div>\n",
       "<style scoped>\n",
       "    .dataframe tbody tr th:only-of-type {\n",
       "        vertical-align: middle;\n",
       "    }\n",
       "\n",
       "    .dataframe tbody tr th {\n",
       "        vertical-align: top;\n",
       "    }\n",
       "\n",
       "    .dataframe thead th {\n",
       "        text-align: right;\n",
       "    }\n",
       "</style>\n",
       "<table border=\"1\" class=\"dataframe\">\n",
       "  <thead>\n",
       "    <tr style=\"text-align: right;\">\n",
       "      <th></th>\n",
       "      <th>median_absolute_error</th>\n",
       "    </tr>\n",
       "  </thead>\n",
       "  <tbody>\n",
       "    <tr>\n",
       "      <th>mean</th>\n",
       "      <td>0.563548</td>\n",
       "    </tr>\n",
       "    <tr>\n",
       "      <th>std</th>\n",
       "      <td>0.110797</td>\n",
       "    </tr>\n",
       "  </tbody>\n",
       "</table>\n",
       "</div>"
      ],
      "text/plain": [
       "      median_absolute_error\n",
       "mean               0.563548\n",
       "std                0.110797"
      ]
     },
     "metadata": {},
     "output_type": "display_data"
    },
    {
     "data": {
      "text/html": [
       "<div>\n",
       "<style scoped>\n",
       "    .dataframe tbody tr th:only-of-type {\n",
       "        vertical-align: middle;\n",
       "    }\n",
       "\n",
       "    .dataframe tbody tr th {\n",
       "        vertical-align: top;\n",
       "    }\n",
       "\n",
       "    .dataframe thead th {\n",
       "        text-align: right;\n",
       "    }\n",
       "</style>\n",
       "<table border=\"1\" class=\"dataframe\">\n",
       "  <thead>\n",
       "    <tr style=\"text-align: right;\">\n",
       "      <th></th>\n",
       "      <th>r2_score</th>\n",
       "    </tr>\n",
       "  </thead>\n",
       "  <tbody>\n",
       "    <tr>\n",
       "      <th>mean</th>\n",
       "      <td>0.563548</td>\n",
       "    </tr>\n",
       "    <tr>\n",
       "      <th>std</th>\n",
       "      <td>0.110797</td>\n",
       "    </tr>\n",
       "  </tbody>\n",
       "</table>\n",
       "</div>"
      ],
      "text/plain": [
       "      r2_score\n",
       "mean  0.563548\n",
       "std   0.110797"
      ]
     },
     "metadata": {},
     "output_type": "display_data"
    },
    {
     "data": {
      "text/html": [
       "<div>\n",
       "<style scoped>\n",
       "    .dataframe tbody tr th:only-of-type {\n",
       "        vertical-align: middle;\n",
       "    }\n",
       "\n",
       "    .dataframe tbody tr th {\n",
       "        vertical-align: top;\n",
       "    }\n",
       "\n",
       "    .dataframe thead th {\n",
       "        text-align: right;\n",
       "    }\n",
       "</style>\n",
       "<table border=\"1\" class=\"dataframe\">\n",
       "  <thead>\n",
       "    <tr style=\"text-align: right;\">\n",
       "      <th></th>\n",
       "      <th>coefficients</th>\n",
       "    </tr>\n",
       "    <tr>\n",
       "      <th>names</th>\n",
       "      <th></th>\n",
       "    </tr>\n",
       "  </thead>\n",
       "  <tbody>\n",
       "    <tr>\n",
       "      <th>CUUSA433SAH</th>\n",
       "      <td>NaN</td>\n",
       "    </tr>\n",
       "    <tr>\n",
       "      <th>intercept_</th>\n",
       "      <td>NaN</td>\n",
       "    </tr>\n",
       "    <tr>\n",
       "      <th>last_sale_amount</th>\n",
       "      <td>NaN</td>\n",
       "    </tr>\n",
       "    <tr>\n",
       "      <th>lot_size</th>\n",
       "      <td>NaN</td>\n",
       "    </tr>\n",
       "    <tr>\n",
       "      <th>num_baths</th>\n",
       "      <td>NaN</td>\n",
       "    </tr>\n",
       "    <tr>\n",
       "      <th>num_bedrooms</th>\n",
       "      <td>NaN</td>\n",
       "    </tr>\n",
       "    <tr>\n",
       "      <th>num_rooms</th>\n",
       "      <td>NaN</td>\n",
       "    </tr>\n",
       "    <tr>\n",
       "      <th>square_footage</th>\n",
       "      <td>-72180.146197</td>\n",
       "    </tr>\n",
       "    <tr>\n",
       "      <th>year_built</th>\n",
       "      <td>NaN</td>\n",
       "    </tr>\n",
       "    <tr>\n",
       "      <th>zipcode</th>\n",
       "      <td>10.606661</td>\n",
       "    </tr>\n",
       "  </tbody>\n",
       "</table>\n",
       "</div>"
      ],
      "text/plain": [
       "                  coefficients\n",
       "names                         \n",
       "CUUSA433SAH                NaN\n",
       "intercept_                 NaN\n",
       "last_sale_amount           NaN\n",
       "lot_size                   NaN\n",
       "num_baths                  NaN\n",
       "num_bedrooms               NaN\n",
       "num_rooms                  NaN\n",
       "square_footage   -72180.146197\n",
       "year_built                 NaN\n",
       "zipcode              10.606661"
      ]
     },
     "metadata": {},
     "output_type": "display_data"
    },
    {
     "data": {
      "text/html": [
       "<div>\n",
       "<style scoped>\n",
       "    .dataframe tbody tr th:only-of-type {\n",
       "        vertical-align: middle;\n",
       "    }\n",
       "\n",
       "    .dataframe tbody tr th {\n",
       "        vertical-align: top;\n",
       "    }\n",
       "\n",
       "    .dataframe thead th {\n",
       "        text-align: right;\n",
       "    }\n",
       "</style>\n",
       "<table border=\"1\" class=\"dataframe\">\n",
       "  <thead>\n",
       "    <tr style=\"text-align: right;\">\n",
       "      <th></th>\n",
       "      <th>coefficients</th>\n",
       "    </tr>\n",
       "    <tr>\n",
       "      <th>names</th>\n",
       "      <th></th>\n",
       "    </tr>\n",
       "  </thead>\n",
       "  <tbody>\n",
       "    <tr>\n",
       "      <th>CUUSA433SAH</th>\n",
       "      <td>NaN</td>\n",
       "    </tr>\n",
       "    <tr>\n",
       "      <th>intercept_</th>\n",
       "      <td>NaN</td>\n",
       "    </tr>\n",
       "    <tr>\n",
       "      <th>last_sale_amount</th>\n",
       "      <td>NaN</td>\n",
       "    </tr>\n",
       "    <tr>\n",
       "      <th>lot_size</th>\n",
       "      <td>NaN</td>\n",
       "    </tr>\n",
       "    <tr>\n",
       "      <th>num_baths</th>\n",
       "      <td>NaN</td>\n",
       "    </tr>\n",
       "    <tr>\n",
       "      <th>num_bedrooms</th>\n",
       "      <td>NaN</td>\n",
       "    </tr>\n",
       "    <tr>\n",
       "      <th>num_rooms</th>\n",
       "      <td>NaN</td>\n",
       "    </tr>\n",
       "    <tr>\n",
       "      <th>square_footage</th>\n",
       "      <td>145542.516661</td>\n",
       "    </tr>\n",
       "    <tr>\n",
       "      <th>year_built</th>\n",
       "      <td>NaN</td>\n",
       "    </tr>\n",
       "    <tr>\n",
       "      <th>zipcode</th>\n",
       "      <td>0.864797</td>\n",
       "    </tr>\n",
       "  </tbody>\n",
       "</table>\n",
       "</div>"
      ],
      "text/plain": [
       "                   coefficients\n",
       "names                          \n",
       "CUUSA433SAH                 NaN\n",
       "intercept_                  NaN\n",
       "last_sale_amount            NaN\n",
       "lot_size                    NaN\n",
       "num_baths                   NaN\n",
       "num_bedrooms                NaN\n",
       "num_rooms                   NaN\n",
       "square_footage    145542.516661\n",
       "year_built                  NaN\n",
       "zipcode                0.864797"
      ]
     },
     "metadata": {},
     "output_type": "display_data"
    }
   ],
   "source": [
    "from donatello.utils.helpers import view_sk_metric\n",
    "\n",
    "for name, scores in sculpture.measurements.crossValidation.items():\n",
    "    if name != 'feature_weights':\n",
    "        display(view_sk_metric(i).rename(columns={'score': name}))\n",
    "    else:\n",
    "        display(scores.mean)\n",
    "        display(scores.std)"
   ]
  },
  {
   "cell_type": "code",
   "execution_count": null,
   "metadata": {
    "collapsed": false
   },
   "outputs": [],
   "source": []
  },
  {
   "cell_type": "code",
   "execution_count": 8,
   "metadata": {
    "collapsed": true
   },
   "outputs": [],
   "source": [
    "d = data.Dataset(raw=df, target='estimated_value')"
   ]
  },
  {
   "cell_type": "code",
   "execution_count": 9,
   "metadata": {
    "collapsed": false
   },
   "outputs": [
    {
     "data": {
      "image/png": "[encoded data removed]",
      "text/plain": [
       "<Figure size 432x288 with 1 Axes>"
      ]
     },
     "metadata": {
      "needs_background": "light"
     },
     "output_type": "display_data"
    }
   ],
   "source": [
    "d.targetTrain.plot(kind='kde', xlim=(0,1000000))\n",
    "plt.show()"
   ]
  },
  {
   "cell_type": "code",
   "execution_count": 10,
   "metadata": {
    "collapsed": false
   },
   "outputs": [],
   "source": [
    "def build_mask(dataset, columns, threshold):\n",
    "    X = scale(dataset.designData[columns])\n",
    "    y = dataset.targetData.values\n",
    "    model = OLS(y, X)\n",
    "    mask = pd.np.abs((model.fit().outlier_test()[:, 0]) < threshold)\n",
    "    return mask\n",
    "\n",
    "def transform(dataset, columns=('square_footage',), threshold=2):\n",
    "    columns = list(columns) if columns else list(dataset.designData)\n",
    "    mask = build_mask(dataset, columns, threshold)\n",
    "    X = dataset.designData.loc[mask]\n",
    "    y = dataset.targetData.loc[mask]\n",
    "    return X, y\n",
    "\n",
    "def plot():\n",
    "    mask = build_mask(d.subset('train'), ['square_footage'], 2)\n",
    "    plt.figure(figsize=(20,10))\n",
    "    plt.xlim(0, d.designTrain['square_footage'].max() * 1.01) \n",
    "    plt.ylim(0, d.targetTrain.max() * 1.01) \n",
    "    plt.plot(d.designTrain.loc[mask, 'square_footage'].values, d.targetData.loc[mask].values, 'b.', alpha=.1)\n",
    "    plt.plot(d.designData.loc[~mask, 'square_footage'].values, d.targetData.loc[~mask].values, 'r*', alpha=.75)\n",
    "    plt.legend(['inliers', 'outliers'])\n",
    "    plt.xlabel('square footage')\n",
    "    plt.ylabel('price in current USD')\n",
    "    plt.show()"
   ]
  },
  {
   "cell_type": "code",
   "execution_count": 8,
   "metadata": {
    "collapsed": false
   },
   "outputs": [],
   "source": [
    "outlier_removal = transformers.AccessTransformer(datasetDap={'cb': transform})"
   ]
  },
  {
   "cell_type": "code",
   "execution_count": 9,
   "metadata": {
    "collapsed": false
   },
   "outputs": [
    {
     "name": "stderr",
     "output_type": "stream",
     "text": [
      "/anaconda/lib/python2.7/site-packages/ipykernel_launcher.py:2: DataConversionWarning: Data with input dtype int64 were all converted to float64 by the scale function.\n",
      "  \n"
     ]
    }
   ],
   "source": [
    "d_t = outlier_removal.fit_transform(dataset=d.subset('train'))"
   ]
  },
  {
   "cell_type": "code",
   "execution_count": 10,
   "metadata": {
    "collapsed": false
   },
   "outputs": [
    {
     "data": {
      "text/plain": [
       "(3417, 2733, 2680, 2144)"
      ]
     },
     "execution_count": 10,
     "metadata": {},
     "output_type": "execute_result"
    }
   ],
   "source": [
    "len(d), len(d.subset('train')), len(d_t), len(d_t.designTrain)"
   ]
  },
  {
   "cell_type": "code",
   "execution_count": 14,
   "metadata": {
    "collapsed": false
   },
   "outputs": [
    {
     "name": "stderr",
     "output_type": "stream",
     "text": [
      "/anaconda/lib/python2.7/site-packages/ipykernel_launcher.py:2: DataConversionWarning: Data with input dtype int64 were all converted to float64 by the scale function.\n",
      "  \n"
     ]
    },
    {
     "data": {
      "image/png": "[encoded data removed]",
      "text/plain": [
       "<Figure size 1440x720 with 1 Axes>"
      ]
     },
     "metadata": {
      "needs_background": "light"
     },
     "output_type": "display_data"
    }
   ],
   "source": [
    "plot()"
   ]
  }
 ],
 "metadata": {
  "kernelspec": {
   "display_name": "Python 2",
   "language": "python",
   "name": "python2"
  },
  "language_info": {
   "codemirror_mode": {
    "name": "ipython",
    "version": 2
   },
   "file_extension": ".py",
   "mimetype": "text/x-python",
   "name": "python",
   "nbconvert_exporter": "python",
   "pygments_lexer": "ipython2",
   "version": "2.7.12"
  }
 },
 "nbformat": 4,
 "nbformat_minor": 0
}
