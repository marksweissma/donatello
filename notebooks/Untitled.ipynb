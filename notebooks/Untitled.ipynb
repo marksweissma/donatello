{
 "cells": [
  {
   "cell_type": "code",
   "execution_count": 1,
   "metadata": {
    "collapsed": true
   },
   "outputs": [],
   "source": [
    "def sync_clocks(local, remote)\n",
    "    # ignore execution latency also must assume t(go) + t(back) are governed\n",
    "    # (for an interview question I don't particularly like this level assumptions without test cases available\n",
    "    # though I skew pretty hard on that, so take it with a grain of salt)\n",
    "    t0 = local.now() # t0\n",
    "    t1 = remote.now() # t0 + t(go) + offset\n",
    "    t2 = local.now() # t0 + t(go) + t(back)\n",
    "    \n",
    "    traversal = t2 - t0 # t(go) + t(back)\n",
    "    offset = t0 - (t1 - traversal / 2.) # t0 - (t0 + t(go) + offset - t(g0)) \n",
    "    # note signs ^ if remote is ahead, value is negative, flipping and -1 in shift could be better, not sure\n",
    "    remote.shift(offset)\n",
    "    return local, remote"
   ]
  },
  {
   "cell_type": "markdown",
   "metadata": {},
   "source": []
  },
  {
   "cell_type": "code",
   "execution_count": null,
   "metadata": {
    "collapsed": true
   },
   "outputs": [],
   "source": []
  }
 ],
 "metadata": {
  "kernelspec": {
   "display_name": "Python 2",
   "language": "python",
   "name": "python2"
  },
  "language_info": {
   "codemirror_mode": {
    "name": "ipython",
    "version": 2
   },
   "file_extension": ".py",
   "mimetype": "text/x-python",
   "name": "python",
   "nbconvert_exporter": "python",
   "pygments_lexer": "ipython2",
   "version": "2.7.12"
  }
 },
 "nbformat": 4,
 "nbformat_minor": 0
}
