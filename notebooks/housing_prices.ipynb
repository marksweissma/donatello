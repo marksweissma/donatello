{
 "cells": [
  {
   "cell_type": "code",
   "execution_count": 1,
   "metadata": {
    "collapsed": false
   },
   "outputs": [],
   "source": [
    "import warnings\n",
    "warnings.filterwarnings('ignore') # for pandas <> scikit-learn warnings about ints -> floats\n",
    "\n",
    "import pandas as pd\n",
    "from matplotlib import pyplot as plt\n",
    "\n",
    "from sklearn.preprocessing import scale\n",
    "from sklearn.metrics import r2_score, explained_variance_score, median_absolute_error\n",
    "from sklearn.linear_model import LinearRegression\n",
    "from sklearn.ensemble import RandomForestRegressor\n",
    "\n",
    "from statsmodels.api import OLS\n",
    "\n",
    "from donatello.components import core, data, transformers, estimator, measure"
   ]
  },
  {
   "cell_type": "markdown",
   "metadata": {},
   "source": [
    "## Initial dataset\n",
    "Housing price data from single family homes in Denver CO"
   ]
  },
  {
   "cell_type": "code",
   "execution_count": 2,
   "metadata": {
    "collapsed": false
   },
   "outputs": [
    {
     "data": {
      "text/plain": [
       "(3417, 14)"
      ]
     },
     "metadata": {},
     "output_type": "display_data"
    },
    {
     "data": {
      "text/html": [
       "<div>\n",
       "<style scoped>\n",
       "    .dataframe tbody tr th:only-of-type {\n",
       "        vertical-align: middle;\n",
       "    }\n",
       "\n",
       "    .dataframe tbody tr th {\n",
       "        vertical-align: top;\n",
       "    }\n",
       "\n",
       "    .dataframe thead th {\n",
       "        text-align: right;\n",
       "    }\n",
       "</style>\n",
       "<table border=\"1\" class=\"dataframe\">\n",
       "  <thead>\n",
       "    <tr style=\"text-align: right;\">\n",
       "      <th></th>\n",
       "      <th>address</th>\n",
       "      <th>city</th>\n",
       "      <th>state</th>\n",
       "      <th>zipcode</th>\n",
       "      <th>property_type</th>\n",
       "      <th>square_footage</th>\n",
       "      <th>lot_size</th>\n",
       "      <th>num_rooms</th>\n",
       "      <th>num_bedrooms</th>\n",
       "      <th>num_baths</th>\n",
       "      <th>year_built</th>\n",
       "      <th>last_sale_amount</th>\n",
       "      <th>last_sale_date</th>\n",
       "      <th>estimated_value</th>\n",
       "    </tr>\n",
       "  </thead>\n",
       "  <tbody>\n",
       "    <tr>\n",
       "      <th>0</th>\n",
       "      <td>2495 S Milwaukee St</td>\n",
       "      <td>Denver</td>\n",
       "      <td>CO</td>\n",
       "      <td>80210</td>\n",
       "      <td>Single Family Residence</td>\n",
       "      <td>3885</td>\n",
       "      <td>7500.0</td>\n",
       "      <td>13</td>\n",
       "      <td>4</td>\n",
       "      <td>5.0</td>\n",
       "      <td>2010</td>\n",
       "      <td>350000</td>\n",
       "      <td>2010-06-07</td>\n",
       "      <td>1684147</td>\n",
       "    </tr>\n",
       "    <tr>\n",
       "      <th>1</th>\n",
       "      <td>2690 Niagara St</td>\n",
       "      <td>Denver</td>\n",
       "      <td>CO</td>\n",
       "      <td>80207</td>\n",
       "      <td>Single Family Residence</td>\n",
       "      <td>1343</td>\n",
       "      <td>7500.0</td>\n",
       "      <td>6</td>\n",
       "      <td>3</td>\n",
       "      <td>1.0</td>\n",
       "      <td>1948</td>\n",
       "      <td>31500</td>\n",
       "      <td>1978-02-01</td>\n",
       "      <td>343104</td>\n",
       "    </tr>\n",
       "    <tr>\n",
       "      <th>2</th>\n",
       "      <td>3425 Grove St</td>\n",
       "      <td>Denver</td>\n",
       "      <td>CO</td>\n",
       "      <td>80211</td>\n",
       "      <td>Single Family Residence</td>\n",
       "      <td>992</td>\n",
       "      <td>6250.0</td>\n",
       "      <td>5</td>\n",
       "      <td>2</td>\n",
       "      <td>2.0</td>\n",
       "      <td>1921</td>\n",
       "      <td>258000</td>\n",
       "      <td>2002-02-19</td>\n",
       "      <td>510436</td>\n",
       "    </tr>\n",
       "    <tr>\n",
       "      <th>3</th>\n",
       "      <td>4794 Claude Ct</td>\n",
       "      <td>Denver</td>\n",
       "      <td>CO</td>\n",
       "      <td>80216</td>\n",
       "      <td>Single Family Residence</td>\n",
       "      <td>491</td>\n",
       "      <td>2990.0</td>\n",
       "      <td>3</td>\n",
       "      <td>1</td>\n",
       "      <td>1.0</td>\n",
       "      <td>1891</td>\n",
       "      <td>0</td>\n",
       "      <td>2011-04-27</td>\n",
       "      <td>184105</td>\n",
       "    </tr>\n",
       "    <tr>\n",
       "      <th>4</th>\n",
       "      <td>3640 N Gaylord St</td>\n",
       "      <td>Denver</td>\n",
       "      <td>CO</td>\n",
       "      <td>80205</td>\n",
       "      <td>Single Family Residence</td>\n",
       "      <td>1365</td>\n",
       "      <td>4690.0</td>\n",
       "      <td>6</td>\n",
       "      <td>3</td>\n",
       "      <td>1.0</td>\n",
       "      <td>1912</td>\n",
       "      <td>52600</td>\n",
       "      <td>1980-09-01</td>\n",
       "      <td>390055</td>\n",
       "    </tr>\n",
       "  </tbody>\n",
       "</table>\n",
       "</div>"
      ],
      "text/plain": [
       "               address    city state  zipcode            property_type  \\\n",
       "0  2495 S Milwaukee St  Denver    CO    80210  Single Family Residence   \n",
       "1      2690 Niagara St  Denver    CO    80207  Single Family Residence   \n",
       "2        3425 Grove St  Denver    CO    80211  Single Family Residence   \n",
       "3       4794 Claude Ct  Denver    CO    80216  Single Family Residence   \n",
       "4    3640 N Gaylord St  Denver    CO    80205  Single Family Residence   \n",
       "\n",
       "   square_footage  lot_size  num_rooms  num_bedrooms  num_baths  year_built  \\\n",
       "0            3885    7500.0         13             4        5.0        2010   \n",
       "1            1343    7500.0          6             3        1.0        1948   \n",
       "2             992    6250.0          5             2        2.0        1921   \n",
       "3             491    2990.0          3             1        1.0        1891   \n",
       "4            1365    4690.0          6             3        1.0        1912   \n",
       "\n",
       "   last_sale_amount last_sale_date  estimated_value  \n",
       "0            350000     2010-06-07          1684147  \n",
       "1             31500     1978-02-01           343104  \n",
       "2            258000     2002-02-19           510436  \n",
       "3                 0     2011-04-27           184105  \n",
       "4             52600     1980-09-01           390055  "
      ]
     },
     "execution_count": 2,
     "metadata": {},
     "output_type": "execute_result"
    }
   ],
   "source": [
    "prices = pd.read_csv('data/single_family_home_values.csv')\n",
    "prices['last_sale_date'] = pd.to_datetime(prices['last_sale_date'])\n",
    "display(prices.shape)\n",
    "prices.head()"
   ]
  },
  {
   "cell_type": "markdown",
   "metadata": {},
   "source": [
    "### Augementation\n",
    "With a larger dataet a model could learn to relate the sale date and sale amount, but if we had an existing measure for this it'd be helpful. Fortunately consumer price index is readily available in csvs! If this wasn't a indepedent measure\n",
    "and we needed to control for leakage we could embed the merging in donatello's ModelDAG (a lightweight execution graph) but since it's not pernicious we can do it up front for simplicity."
   ]
  },
  {
   "cell_type": "code",
   "execution_count": 3,
   "metadata": {
    "collapsed": false
   },
   "outputs": [
    {
     "data": {
      "text/html": [
       "<div>\n",
       "<style scoped>\n",
       "    .dataframe tbody tr th:only-of-type {\n",
       "        vertical-align: middle;\n",
       "    }\n",
       "\n",
       "    .dataframe tbody tr th {\n",
       "        vertical-align: top;\n",
       "    }\n",
       "\n",
       "    .dataframe thead th {\n",
       "        text-align: right;\n",
       "    }\n",
       "</style>\n",
       "<table border=\"1\" class=\"dataframe\">\n",
       "  <thead>\n",
       "    <tr style=\"text-align: right;\">\n",
       "      <th></th>\n",
       "      <th>DATE</th>\n",
       "      <th>CUUSA433SAH</th>\n",
       "    </tr>\n",
       "  </thead>\n",
       "  <tbody>\n",
       "    <tr>\n",
       "      <th>0</th>\n",
       "      <td>1984-01-01</td>\n",
       "      <td>104.1</td>\n",
       "    </tr>\n",
       "    <tr>\n",
       "      <th>1</th>\n",
       "      <td>1985-01-01</td>\n",
       "      <td>106.8</td>\n",
       "    </tr>\n",
       "    <tr>\n",
       "      <th>2</th>\n",
       "      <td>1986-01-01</td>\n",
       "      <td>108.2</td>\n",
       "    </tr>\n",
       "    <tr>\n",
       "      <th>3</th>\n",
       "      <td>1987-01-01</td>\n",
       "      <td>109.6</td>\n",
       "    </tr>\n",
       "    <tr>\n",
       "      <th>4</th>\n",
       "      <td>1988-01-01</td>\n",
       "      <td>110.0</td>\n",
       "    </tr>\n",
       "  </tbody>\n",
       "</table>\n",
       "</div>"
      ],
      "text/plain": [
       "        DATE  CUUSA433SAH\n",
       "0 1984-01-01        104.1\n",
       "1 1985-01-01        106.8\n",
       "2 1986-01-01        108.2\n",
       "3 1987-01-01        109.6\n",
       "4 1988-01-01        110.0"
      ]
     },
     "execution_count": 3,
     "metadata": {},
     "output_type": "execute_result"
    }
   ],
   "source": [
    "cpi = pd.read_csv('data/denver_cpi.csv')\n",
    "cpi['DATE'] = pd.to_datetime(cpi['DATE'])\n",
    "cpi.head()"
   ]
  },
  {
   "cell_type": "code",
   "execution_count": 4,
   "metadata": {
    "collapsed": false
   },
   "outputs": [
    {
     "data": {
      "text/html": [
       "<div>\n",
       "<style scoped>\n",
       "    .dataframe tbody tr th:only-of-type {\n",
       "        vertical-align: middle;\n",
       "    }\n",
       "\n",
       "    .dataframe tbody tr th {\n",
       "        vertical-align: top;\n",
       "    }\n",
       "\n",
       "    .dataframe thead th {\n",
       "        text-align: right;\n",
       "    }\n",
       "</style>\n",
       "<table border=\"1\" class=\"dataframe\">\n",
       "  <thead>\n",
       "    <tr style=\"text-align: right;\">\n",
       "      <th></th>\n",
       "      <th>address</th>\n",
       "      <th>city</th>\n",
       "      <th>state</th>\n",
       "      <th>zipcode</th>\n",
       "      <th>property_type</th>\n",
       "      <th>square_footage</th>\n",
       "      <th>lot_size</th>\n",
       "      <th>num_rooms</th>\n",
       "      <th>num_bedrooms</th>\n",
       "      <th>num_baths</th>\n",
       "      <th>year_built</th>\n",
       "      <th>last_sale_amount</th>\n",
       "      <th>last_sale_date</th>\n",
       "      <th>estimated_value</th>\n",
       "      <th>DATE</th>\n",
       "      <th>CUUSA433SAH</th>\n",
       "    </tr>\n",
       "  </thead>\n",
       "  <tbody>\n",
       "    <tr>\n",
       "      <th>0</th>\n",
       "      <td>3564 Kearney St</td>\n",
       "      <td>Denver</td>\n",
       "      <td>CO</td>\n",
       "      <td>80207</td>\n",
       "      <td>Single Family Residence</td>\n",
       "      <td>1008</td>\n",
       "      <td>6410.0</td>\n",
       "      <td>6</td>\n",
       "      <td>3</td>\n",
       "      <td>1.0</td>\n",
       "      <td>1954</td>\n",
       "      <td>50600</td>\n",
       "      <td>1966-04-14</td>\n",
       "      <td>340952</td>\n",
       "      <td>1984-01-01</td>\n",
       "      <td>104.1</td>\n",
       "    </tr>\n",
       "    <tr>\n",
       "      <th>1</th>\n",
       "      <td>1585 S Meade St</td>\n",
       "      <td>Denver</td>\n",
       "      <td>CO</td>\n",
       "      <td>80219</td>\n",
       "      <td>Single Family Residence</td>\n",
       "      <td>947</td>\n",
       "      <td>6010.0</td>\n",
       "      <td>5</td>\n",
       "      <td>3</td>\n",
       "      <td>1.0</td>\n",
       "      <td>1952</td>\n",
       "      <td>21500</td>\n",
       "      <td>1975-02-01</td>\n",
       "      <td>257016</td>\n",
       "      <td>1984-01-01</td>\n",
       "      <td>104.1</td>\n",
       "    </tr>\n",
       "    <tr>\n",
       "      <th>2</th>\n",
       "      <td>63 Yates St</td>\n",
       "      <td>Denver</td>\n",
       "      <td>CO</td>\n",
       "      <td>80219</td>\n",
       "      <td>Single Family Residence</td>\n",
       "      <td>803</td>\n",
       "      <td>6250.0</td>\n",
       "      <td>4</td>\n",
       "      <td>2</td>\n",
       "      <td>1.0</td>\n",
       "      <td>1955</td>\n",
       "      <td>25000</td>\n",
       "      <td>1975-03-01</td>\n",
       "      <td>241671</td>\n",
       "      <td>1984-01-01</td>\n",
       "      <td>104.1</td>\n",
       "    </tr>\n",
       "    <tr>\n",
       "      <th>3</th>\n",
       "      <td>3020 Newton St</td>\n",
       "      <td>Denver</td>\n",
       "      <td>CO</td>\n",
       "      <td>80211</td>\n",
       "      <td>Single Family Residence</td>\n",
       "      <td>2000</td>\n",
       "      <td>6350.0</td>\n",
       "      <td>9</td>\n",
       "      <td>4</td>\n",
       "      <td>3.0</td>\n",
       "      <td>1909</td>\n",
       "      <td>15000</td>\n",
       "      <td>1975-03-01</td>\n",
       "      <td>762124</td>\n",
       "      <td>1984-01-01</td>\n",
       "      <td>104.1</td>\n",
       "    </tr>\n",
       "    <tr>\n",
       "      <th>4</th>\n",
       "      <td>2481 S Holly Pl</td>\n",
       "      <td>Denver</td>\n",
       "      <td>CO</td>\n",
       "      <td>80222</td>\n",
       "      <td>Single Family Residence</td>\n",
       "      <td>2398</td>\n",
       "      <td>13024.0</td>\n",
       "      <td>0</td>\n",
       "      <td>4</td>\n",
       "      <td>3.0</td>\n",
       "      <td>1957</td>\n",
       "      <td>45000</td>\n",
       "      <td>1975-03-01</td>\n",
       "      <td>554375</td>\n",
       "      <td>1984-01-01</td>\n",
       "      <td>104.1</td>\n",
       "    </tr>\n",
       "  </tbody>\n",
       "</table>\n",
       "</div>"
      ],
      "text/plain": [
       "           address    city state  zipcode            property_type  \\\n",
       "0  3564 Kearney St  Denver    CO    80207  Single Family Residence   \n",
       "1  1585 S Meade St  Denver    CO    80219  Single Family Residence   \n",
       "2      63 Yates St  Denver    CO    80219  Single Family Residence   \n",
       "3   3020 Newton St  Denver    CO    80211  Single Family Residence   \n",
       "4  2481 S Holly Pl  Denver    CO    80222  Single Family Residence   \n",
       "\n",
       "   square_footage  lot_size  num_rooms  num_bedrooms  num_baths  year_built  \\\n",
       "0            1008    6410.0          6             3        1.0        1954   \n",
       "1             947    6010.0          5             3        1.0        1952   \n",
       "2             803    6250.0          4             2        1.0        1955   \n",
       "3            2000    6350.0          9             4        3.0        1909   \n",
       "4            2398   13024.0          0             4        3.0        1957   \n",
       "\n",
       "   last_sale_amount last_sale_date  estimated_value       DATE  CUUSA433SAH  \n",
       "0             50600     1966-04-14           340952 1984-01-01        104.1  \n",
       "1             21500     1975-02-01           257016 1984-01-01        104.1  \n",
       "2             25000     1975-03-01           241671 1984-01-01        104.1  \n",
       "3             15000     1975-03-01           762124 1984-01-01        104.1  \n",
       "4             45000     1975-03-01           554375 1984-01-01        104.1  "
      ]
     },
     "execution_count": 4,
     "metadata": {},
     "output_type": "execute_result"
    }
   ],
   "source": [
    "df = pd.merge_asof(prices.sort_values(by='last_sale_date'), cpi, \n",
    "                   left_on='last_sale_date', right_on='DATE', direction='nearest')\n",
    "df.head()"
   ]
  },
  {
   "cell_type": "code",
   "execution_count": 5,
   "metadata": {
    "collapsed": false
   },
   "outputs": [],
   "source": [
    "def load_scuplture(df, \n",
    "                   model=LinearRegression(), \n",
    "                   paramGrid=None,\n",
    "                   searchKwargs=None):\n",
    "\n",
    "    \"\"\"\n",
    "    Helper to load sculpture\n",
    "    \"\"\"\n",
    "    d = data.Dataset(raw=df, target='estimated_value')\n",
    "    \n",
    "    e = estimator.Estimator(model=model, paramGrid=paramGrid, searchKwargs=searchKwargs)\n",
    "    \n",
    "    # sklearn metrics\n",
    "    m = [measure.Metric(metric) for metric in (r2_score, explained_variance_score, median_absolute_error)]\n",
    "    # donatello custom metric\n",
    "    m.append(measure.FeatureWeights())\n",
    "    \n",
    "    scuplture = core.Sculpture(dataset=d, estimator=e, metrics=m,\n",
    "                               validation=True, holdout=True)\n",
    "\n",
    "    return scuplture\n"
   ]
  },
  {
   "cell_type": "code",
   "execution_count": 6,
   "metadata": {
    "collapsed": false
   },
   "outputs": [
    {
     "data": {
      "text/html": [
       "<div>\n",
       "<style scoped>\n",
       "    .dataframe tbody tr th:only-of-type {\n",
       "        vertical-align: middle;\n",
       "    }\n",
       "\n",
       "    .dataframe tbody tr th {\n",
       "        vertical-align: top;\n",
       "    }\n",
       "\n",
       "    .dataframe thead th {\n",
       "        text-align: right;\n",
       "    }\n",
       "</style>\n",
       "<table border=\"1\" class=\"dataframe\">\n",
       "  <thead>\n",
       "    <tr style=\"text-align: right;\">\n",
       "      <th></th>\n",
       "      <th>square_footage</th>\n",
       "      <th>lot_size</th>\n",
       "      <th>num_rooms</th>\n",
       "      <th>num_bedrooms</th>\n",
       "      <th>num_baths</th>\n",
       "      <th>year_built</th>\n",
       "      <th>last_sale_amount</th>\n",
       "      <th>estimated_value</th>\n",
       "      <th>CUUSA433SAH</th>\n",
       "    </tr>\n",
       "  </thead>\n",
       "  <tbody>\n",
       "    <tr>\n",
       "      <th>0</th>\n",
       "      <td>1008</td>\n",
       "      <td>6410.0</td>\n",
       "      <td>6</td>\n",
       "      <td>3</td>\n",
       "      <td>1.0</td>\n",
       "      <td>1954</td>\n",
       "      <td>50600</td>\n",
       "      <td>340952</td>\n",
       "      <td>104.1</td>\n",
       "    </tr>\n",
       "    <tr>\n",
       "      <th>1</th>\n",
       "      <td>947</td>\n",
       "      <td>6010.0</td>\n",
       "      <td>5</td>\n",
       "      <td>3</td>\n",
       "      <td>1.0</td>\n",
       "      <td>1952</td>\n",
       "      <td>21500</td>\n",
       "      <td>257016</td>\n",
       "      <td>104.1</td>\n",
       "    </tr>\n",
       "    <tr>\n",
       "      <th>2</th>\n",
       "      <td>803</td>\n",
       "      <td>6250.0</td>\n",
       "      <td>4</td>\n",
       "      <td>2</td>\n",
       "      <td>1.0</td>\n",
       "      <td>1955</td>\n",
       "      <td>25000</td>\n",
       "      <td>241671</td>\n",
       "      <td>104.1</td>\n",
       "    </tr>\n",
       "    <tr>\n",
       "      <th>3</th>\n",
       "      <td>2000</td>\n",
       "      <td>6350.0</td>\n",
       "      <td>9</td>\n",
       "      <td>4</td>\n",
       "      <td>3.0</td>\n",
       "      <td>1909</td>\n",
       "      <td>15000</td>\n",
       "      <td>762124</td>\n",
       "      <td>104.1</td>\n",
       "    </tr>\n",
       "    <tr>\n",
       "      <th>4</th>\n",
       "      <td>2398</td>\n",
       "      <td>13024.0</td>\n",
       "      <td>0</td>\n",
       "      <td>4</td>\n",
       "      <td>3.0</td>\n",
       "      <td>1957</td>\n",
       "      <td>45000</td>\n",
       "      <td>554375</td>\n",
       "      <td>104.1</td>\n",
       "    </tr>\n",
       "  </tbody>\n",
       "</table>\n",
       "</div>"
      ],
      "text/plain": [
       "   square_footage  lot_size  num_rooms  num_bedrooms  num_baths  year_built  \\\n",
       "0            1008    6410.0          6             3        1.0        1954   \n",
       "1             947    6010.0          5             3        1.0        1952   \n",
       "2             803    6250.0          4             2        1.0        1955   \n",
       "3            2000    6350.0          9             4        3.0        1909   \n",
       "4            2398   13024.0          0             4        3.0        1957   \n",
       "\n",
       "   last_sale_amount  estimated_value  CUUSA433SAH  \n",
       "0             50600           340952        104.1  \n",
       "1             21500           257016        104.1  \n",
       "2             25000           241671        104.1  \n",
       "3             15000           762124        104.1  \n",
       "4             45000           554375        104.1  "
      ]
     },
     "execution_count": 6,
     "metadata": {},
     "output_type": "execute_result"
    }
   ],
   "source": [
    "df.select_dtypes(pd.np.number).drop('zipcode', axis=1).head()"
   ]
  },
  {
   "cell_type": "code",
   "execution_count": 7,
   "metadata": {
    "collapsed": false
   },
   "outputs": [],
   "source": [
    "sculpture = load_scuplture(df.select_dtypes(pd.np.number).drop('zipcode', axis=1))"
   ]
  },
  {
   "cell_type": "code",
   "execution_count": 8,
   "metadata": {
    "collapsed": false
   },
   "outputs": [
    {
     "name": "stdout",
     "output_type": "stream",
     "text": [
      "Cross Validation\n",
      "Holdout\n"
     ]
    },
    {
     "data": {
      "text/plain": [
       "Sculpture_2019_04_10_23_47"
      ]
     },
     "execution_count": 8,
     "metadata": {},
     "output_type": "execute_result"
    }
   ],
   "source": [
    "sculpture.fit()"
   ]
  },
  {
   "cell_type": "code",
   "execution_count": 9,
   "metadata": {
    "collapsed": false
   },
   "outputs": [
    {
     "data": {
      "text/html": [
       "<div>\n",
       "<style scoped>\n",
       "    .dataframe tbody tr th:only-of-type {\n",
       "        vertical-align: middle;\n",
       "    }\n",
       "\n",
       "    .dataframe tbody tr th {\n",
       "        vertical-align: top;\n",
       "    }\n",
       "\n",
       "    .dataframe thead th {\n",
       "        text-align: right;\n",
       "    }\n",
       "</style>\n",
       "<table border=\"1\" class=\"dataframe\">\n",
       "  <thead>\n",
       "    <tr style=\"text-align: right;\">\n",
       "      <th></th>\n",
       "      <th>explained_variance_score</th>\n",
       "    </tr>\n",
       "  </thead>\n",
       "  <tbody>\n",
       "    <tr>\n",
       "      <th>mean</th>\n",
       "      <td>0.554218</td>\n",
       "    </tr>\n",
       "    <tr>\n",
       "      <th>std</th>\n",
       "      <td>0.110623</td>\n",
       "    </tr>\n",
       "  </tbody>\n",
       "</table>\n",
       "</div>"
      ],
      "text/plain": [
       "      explained_variance_score\n",
       "mean                  0.554218\n",
       "std                   0.110623"
      ]
     },
     "metadata": {},
     "output_type": "display_data"
    },
    {
     "data": {
      "text/html": [
       "<div>\n",
       "<style scoped>\n",
       "    .dataframe tbody tr th:only-of-type {\n",
       "        vertical-align: middle;\n",
       "    }\n",
       "\n",
       "    .dataframe tbody tr th {\n",
       "        vertical-align: top;\n",
       "    }\n",
       "\n",
       "    .dataframe thead th {\n",
       "        text-align: right;\n",
       "    }\n",
       "</style>\n",
       "<table border=\"1\" class=\"dataframe\">\n",
       "  <thead>\n",
       "    <tr style=\"text-align: right;\">\n",
       "      <th></th>\n",
       "      <th>median_absolute_error</th>\n",
       "    </tr>\n",
       "  </thead>\n",
       "  <tbody>\n",
       "    <tr>\n",
       "      <th>mean</th>\n",
       "      <td>100567.159569</td>\n",
       "    </tr>\n",
       "    <tr>\n",
       "      <th>std</th>\n",
       "      <td>3823.070881</td>\n",
       "    </tr>\n",
       "  </tbody>\n",
       "</table>\n",
       "</div>"
      ],
      "text/plain": [
       "      median_absolute_error\n",
       "mean          100567.159569\n",
       "std             3823.070881"
      ]
     },
     "metadata": {},
     "output_type": "display_data"
    },
    {
     "data": {
      "text/html": [
       "<div>\n",
       "<style scoped>\n",
       "    .dataframe tbody tr th:only-of-type {\n",
       "        vertical-align: middle;\n",
       "    }\n",
       "\n",
       "    .dataframe tbody tr th {\n",
       "        vertical-align: top;\n",
       "    }\n",
       "\n",
       "    .dataframe thead th {\n",
       "        text-align: right;\n",
       "    }\n",
       "</style>\n",
       "<table border=\"1\" class=\"dataframe\">\n",
       "  <thead>\n",
       "    <tr style=\"text-align: right;\">\n",
       "      <th></th>\n",
       "      <th>r2_score</th>\n",
       "    </tr>\n",
       "  </thead>\n",
       "  <tbody>\n",
       "    <tr>\n",
       "      <th>mean</th>\n",
       "      <td>0.55326</td>\n",
       "    </tr>\n",
       "    <tr>\n",
       "      <th>std</th>\n",
       "      <td>0.11104</td>\n",
       "    </tr>\n",
       "  </tbody>\n",
       "</table>\n",
       "</div>"
      ],
      "text/plain": [
       "      r2_score\n",
       "mean   0.55326\n",
       "std    0.11104"
      ]
     },
     "metadata": {},
     "output_type": "display_data"
    },
    {
     "data": {
      "text/html": [
       "<div>\n",
       "<style scoped>\n",
       "    .dataframe tbody tr th:only-of-type {\n",
       "        vertical-align: middle;\n",
       "    }\n",
       "\n",
       "    .dataframe tbody tr th {\n",
       "        vertical-align: top;\n",
       "    }\n",
       "\n",
       "    .dataframe thead th {\n",
       "        text-align: right;\n",
       "    }\n",
       "</style>\n",
       "<table border=\"1\" class=\"dataframe\">\n",
       "  <thead>\n",
       "    <tr style=\"text-align: right;\">\n",
       "      <th></th>\n",
       "      <th>coefficients_mean</th>\n",
       "      <th>coefficients_std</th>\n",
       "    </tr>\n",
       "    <tr>\n",
       "      <th>names</th>\n",
       "      <th></th>\n",
       "      <th></th>\n",
       "    </tr>\n",
       "  </thead>\n",
       "  <tbody>\n",
       "    <tr>\n",
       "      <th>num_bedrooms</th>\n",
       "      <td>-91304.582962</td>\n",
       "      <td>4951.036085</td>\n",
       "    </tr>\n",
       "    <tr>\n",
       "      <th>year_built</th>\n",
       "      <td>-361.945991</td>\n",
       "      <td>68.452083</td>\n",
       "    </tr>\n",
       "    <tr>\n",
       "      <th>lot_size</th>\n",
       "      <td>-0.794809</td>\n",
       "      <td>0.477008</td>\n",
       "    </tr>\n",
       "    <tr>\n",
       "      <th>last_sale_amount</th>\n",
       "      <td>0.036801</td>\n",
       "      <td>0.037641</td>\n",
       "    </tr>\n",
       "    <tr>\n",
       "      <th>CUUSA433SAH</th>\n",
       "      <td>30.684390</td>\n",
       "      <td>97.998081</td>\n",
       "    </tr>\n",
       "    <tr>\n",
       "      <th>square_footage</th>\n",
       "      <td>343.798942</td>\n",
       "      <td>12.476631</td>\n",
       "    </tr>\n",
       "    <tr>\n",
       "      <th>num_rooms</th>\n",
       "      <td>12599.464578</td>\n",
       "      <td>2297.284636</td>\n",
       "    </tr>\n",
       "    <tr>\n",
       "      <th>num_baths</th>\n",
       "      <td>30469.476263</td>\n",
       "      <td>10992.537817</td>\n",
       "    </tr>\n",
       "    <tr>\n",
       "      <th>intercept_</th>\n",
       "      <td>778380.066873</td>\n",
       "      <td>127041.245944</td>\n",
       "    </tr>\n",
       "  </tbody>\n",
       "</table>\n",
       "</div>"
      ],
      "text/plain": [
       "                  coefficients_mean  coefficients_std\n",
       "names                                                \n",
       "num_bedrooms          -91304.582962       4951.036085\n",
       "year_built              -361.945991         68.452083\n",
       "lot_size                  -0.794809          0.477008\n",
       "last_sale_amount           0.036801          0.037641\n",
       "CUUSA433SAH               30.684390         97.998081\n",
       "square_footage           343.798942         12.476631\n",
       "num_rooms              12599.464578       2297.284636\n",
       "num_baths              30469.476263      10992.537817\n",
       "intercept_            778380.066873     127041.245944"
      ]
     },
     "metadata": {},
     "output_type": "display_data"
    }
   ],
   "source": [
    "from donatello.utils.helpers import view_sk_metric\n",
    "\n",
    "for name, scores in sculpture.measurements.crossValidation.items():\n",
    "    if name != 'feature_weights':\n",
    "        display(view_sk_metric(scores).rename(columns={'score': name}))\n",
    "    else:\n",
    "        display(pd.concat([scores.mean.rename(columns={i: '{}_mean'.format(i) for i in scores.mean}), \n",
    "                           scores.std.rename(columns={i: '{}_std'.format(i) for i in scores.std})],\n",
    "                           axis=1).sort_values('coefficients_mean')\n",
    "               )\n"
   ]
  },
  {
   "cell_type": "markdown",
   "metadata": {
    "collapsed": false
   },
   "source": [
    "## target transforms on an execution graph\n",
    "\n",
    "Scikit-learn currently doesn't support y transforms or record number modify transform (imblearn does, but places\n",
    "restrictions on what types of transformers can be embedded in Pipelines)\n",
    "\n",
    "Donatello has you covered.\n",
    "\n",
    "The ApplyTransformer and AccessTransformer allows you to inject a transform function that modifes the design, the target, or both and can be applied only during fit or "
   ]
  },
  {
   "cell_type": "code",
   "execution_count": 10,
   "metadata": {
    "collapsed": false
   },
   "outputs": [],
   "source": [
    "def build_mask(dataset, columns, threshold):\n",
    "    X = scale(dataset.designData[columns])\n",
    "    y = dataset.targetData.values\n",
    "    model = OLS(y, X)\n",
    "    mask = pd.np.abs((model.fit().outlier_test()[:, 0]) < threshold)\n",
    "    return mask\n",
    "\n",
    "def transform(dataset, columns=('square_footage', 'num_bedrooms', 'last_sale_amount'), threshold=2):\n",
    "    columns = list(columns) if columns else list(dataset.designData)\n",
    "    mask = build_mask(dataset, columns, threshold)\n",
    "    X = dataset.designData.loc[mask]\n",
    "    y = dataset.targetData.loc[mask]\n",
    "    return X, y"
   ]
  },
  {
   "cell_type": "markdown",
   "metadata": {},
   "source": [
    "Here we use the fitOnly option to apply this transformation on fitting pipeline but not the scoring pipeline. "
   ]
  },
  {
   "cell_type": "code",
   "execution_count": 11,
   "metadata": {
    "collapsed": false
   },
   "outputs": [],
   "source": [
    "outlier_removal = transformers.ApplyTransformer(func=transform, fitOnly=True)"
   ]
  },
  {
   "cell_type": "code",
   "execution_count": 12,
   "metadata": {
    "collapsed": false
   },
   "outputs": [
    {
     "name": "stderr",
     "output_type": "stream",
     "text": [
      "/anaconda/lib/python2.7/site-packages/ipykernel_launcher.py:2: DataConversionWarning: Data with input dtype int64 were all converted to float64 by the scale function.\n",
      "  \n"
     ]
    }
   ],
   "source": [
    "d = sculpture.dataset\n",
    "d_t = outlier_removal.fit_transform(dataset=d.subset('train'))"
   ]
  },
  {
   "cell_type": "markdown",
   "metadata": {},
   "source": [
    "QA dataset sizes for a given response (also note the subet method if you're not familiar with it). The last member demonstrates the already fit transformer not altering the dataset"
   ]
  },
  {
   "cell_type": "code",
   "execution_count": 13,
   "metadata": {
    "collapsed": false
   },
   "outputs": [
    {
     "name": "stdout",
     "output_type": "stream",
     "text": [
      "fitOnly transformer - passing through\n"
     ]
    },
    {
     "data": {
      "text/plain": [
       "(3417, 2733, 2686, 2148, 2148)"
      ]
     },
     "execution_count": 13,
     "metadata": {},
     "output_type": "execute_result"
    }
   ],
   "source": [
    "len(d), len(d.subset('train')), len(d_t), len(d_t.designTrain), len(outlier_removal.transform(dataset=d_t.subset('train')))"
   ]
  },
  {
   "cell_type": "code",
   "execution_count": 14,
   "metadata": {
    "collapsed": true
   },
   "outputs": [],
   "source": [
    "def plot(columns=['square_footage', 'num_bedrooms']):\n",
    "    mask = build_mask(d.subset('train'), columns, 2)\n",
    "    \n",
    "    for column in columns:\n",
    "        plt.figure(figsize=(18,8))\n",
    "        plt.xlim(0, d.designTrain[column].quantile(.98) * 1.05) \n",
    "        plt.ylim(0, d.targetTrain.max() * 1.01) \n",
    "        plt.plot(d.designTrain.loc[mask, column].values, d.targetData.loc[mask].values, 'b.', alpha=.1)\n",
    "        plt.plot(d.designData.loc[~mask, column].values, d.targetData.loc[~mask].values, 'r*', alpha=.75)\n",
    "        plt.legend(['inliers', 'outliers'])\n",
    "        plt.xlabel(column)\n",
    "        plt.ylabel('expected price in current USD')\n",
    "        plt.show()"
   ]
  },
  {
   "cell_type": "code",
   "execution_count": 15,
   "metadata": {
    "collapsed": false
   },
   "outputs": [
    {
     "name": "stderr",
     "output_type": "stream",
     "text": [
      "/anaconda/lib/python2.7/site-packages/ipykernel_launcher.py:2: DataConversionWarning: Data with input dtype int64 were all converted to float64 by the scale function.\n",
      "  \n"
     ]
    },
    {
     "data": {
      "image/png": "[encoded data removed]",
      "text/plain": [
       "<Figure size 1296x576 with 1 Axes>"
      ]
     },
     "metadata": {
      "needs_background": "light"
     },
     "output_type": "display_data"
    },
    {
     "data": {
      "image/png": "[encoded data removed]",
      "text/plain": [
       "<Figure size 1296x576 with 1 Axes>"
      ]
     },
     "metadata": {
      "needs_background": "light"
     },
     "output_type": "display_data"
    }
   ],
   "source": [
    "plot()"
   ]
  },
  {
   "cell_type": "markdown",
   "metadata": {},
   "source": [
    "Donatello's execution graph is built on top of networkx and scikit-learn. To ensure parameters are passed through, and estimator clones are performed properly, the ModelDAG requires a set of nodes and a dict of edges. The graph can be intialized with these but  it's typically easier to use the helper methods to build the graph.\n",
    "\n",
    "Scikit-learn transformers do not natively enable passing the target through, "
   ]
  },
  {
   "cell_type": "code",
   "execution_count": 16,
   "metadata": {
    "collapsed": false
   },
   "outputs": [],
   "source": [
    "model = transformers.ModelDAG(set([]), {})\n",
    "n1 = transformers.Node('scale', transformers.StandardScaler(), enforceTarget=True)\n",
    "n2 = transformers.Node('rm_outliers', transformers.ApplyTransformer(func=transform, fitOnly=True))\n",
    "n3 = transformers.Node('ml', LinearRegression())"
   ]
  },
  {
   "cell_type": "code",
   "execution_count": 17,
   "metadata": {
    "collapsed": false
   },
   "outputs": [],
   "source": [
    "model.add_edge_flow(n1, n2)\n",
    "model.add_edge_flow(n2, n3)"
   ]
  },
  {
   "cell_type": "code",
   "execution_count": 18,
   "metadata": {
    "collapsed": true
   },
   "outputs": [],
   "source": [
    "sculpture = load_scuplture(df.select_dtypes(pd.np.number).drop('zipcode', axis=1), model=model)"
   ]
  },
  {
   "cell_type": "code",
   "execution_count": 19,
   "metadata": {
    "collapsed": false
   },
   "outputs": [
    {
     "name": "stdout",
     "output_type": "stream",
     "text": [
      "Cross Validation\n"
     ]
    },
    {
     "name": "stderr",
     "output_type": "stream",
     "text": [
      "//anaconda/lib/python2.7/site-packages/sklearn/preprocessing/data.py:645: DataConversionWarning: Data with input dtype int64, float64 were all converted to float64 by StandardScaler.\n",
      "  return self.partial_fit(X, y)\n",
      "donatello/components/transformers.py:33: DataConversionWarning: Data with input dtype int64, float64 were all converted to float64 by StandardScaler.\n",
      "  return super(PandasMixin, self).transform(X=dataset.designData, *args, **kwargs)\n",
      "donatello/components/transformers.py:33: DataConversionWarning: Data with input dtype int64, float64 were all converted to float64 by StandardScaler.\n",
      "  return super(PandasMixin, self).transform(X=dataset.designData, *args, **kwargs)\n"
     ]
    },
    {
     "name": "stdout",
     "output_type": "stream",
     "text": [
      "fitOnly transformer - passing through\n"
     ]
    },
    {
     "name": "stderr",
     "output_type": "stream",
     "text": [
      "//anaconda/lib/python2.7/site-packages/sklearn/preprocessing/data.py:645: DataConversionWarning: Data with input dtype int64, float64 were all converted to float64 by StandardScaler.\n",
      "  return self.partial_fit(X, y)\n",
      "donatello/components/transformers.py:33: DataConversionWarning: Data with input dtype int64, float64 were all converted to float64 by StandardScaler.\n",
      "  return super(PandasMixin, self).transform(X=dataset.designData, *args, **kwargs)\n",
      "donatello/components/transformers.py:33: DataConversionWarning: Data with input dtype int64, float64 were all converted to float64 by StandardScaler.\n",
      "  return super(PandasMixin, self).transform(X=dataset.designData, *args, **kwargs)\n"
     ]
    },
    {
     "name": "stdout",
     "output_type": "stream",
     "text": [
      "fitOnly transformer - passing through\n"
     ]
    },
    {
     "name": "stderr",
     "output_type": "stream",
     "text": [
      "//anaconda/lib/python2.7/site-packages/sklearn/preprocessing/data.py:645: DataConversionWarning: Data with input dtype int64, float64 were all converted to float64 by StandardScaler.\n",
      "  return self.partial_fit(X, y)\n",
      "donatello/components/transformers.py:33: DataConversionWarning: Data with input dtype int64, float64 were all converted to float64 by StandardScaler.\n",
      "  return super(PandasMixin, self).transform(X=dataset.designData, *args, **kwargs)\n",
      "donatello/components/transformers.py:33: DataConversionWarning: Data with input dtype int64, float64 were all converted to float64 by StandardScaler.\n",
      "  return super(PandasMixin, self).transform(X=dataset.designData, *args, **kwargs)\n"
     ]
    },
    {
     "name": "stdout",
     "output_type": "stream",
     "text": [
      "fitOnly transformer - passing through\n"
     ]
    },
    {
     "name": "stderr",
     "output_type": "stream",
     "text": [
      "//anaconda/lib/python2.7/site-packages/sklearn/preprocessing/data.py:645: DataConversionWarning: Data with input dtype int64, float64 were all converted to float64 by StandardScaler.\n",
      "  return self.partial_fit(X, y)\n",
      "donatello/components/transformers.py:33: DataConversionWarning: Data with input dtype int64, float64 were all converted to float64 by StandardScaler.\n",
      "  return super(PandasMixin, self).transform(X=dataset.designData, *args, **kwargs)\n",
      "donatello/components/transformers.py:33: DataConversionWarning: Data with input dtype int64, float64 were all converted to float64 by StandardScaler.\n",
      "  return super(PandasMixin, self).transform(X=dataset.designData, *args, **kwargs)\n"
     ]
    },
    {
     "name": "stdout",
     "output_type": "stream",
     "text": [
      "fitOnly transformer - passing through\n"
     ]
    },
    {
     "name": "stderr",
     "output_type": "stream",
     "text": [
      "//anaconda/lib/python2.7/site-packages/sklearn/preprocessing/data.py:645: DataConversionWarning: Data with input dtype int64, float64 were all converted to float64 by StandardScaler.\n",
      "  return self.partial_fit(X, y)\n",
      "donatello/components/transformers.py:33: DataConversionWarning: Data with input dtype int64, float64 were all converted to float64 by StandardScaler.\n",
      "  return super(PandasMixin, self).transform(X=dataset.designData, *args, **kwargs)\n",
      "donatello/components/transformers.py:33: DataConversionWarning: Data with input dtype int64, float64 were all converted to float64 by StandardScaler.\n",
      "  return super(PandasMixin, self).transform(X=dataset.designData, *args, **kwargs)\n"
     ]
    },
    {
     "name": "stdout",
     "output_type": "stream",
     "text": [
      "fitOnly transformer - passing through\n",
      "Holdout\n"
     ]
    },
    {
     "name": "stderr",
     "output_type": "stream",
     "text": [
      "//anaconda/lib/python2.7/site-packages/sklearn/preprocessing/data.py:645: DataConversionWarning: Data with input dtype int64, float64 were all converted to float64 by StandardScaler.\n",
      "  return self.partial_fit(X, y)\n",
      "donatello/components/transformers.py:33: DataConversionWarning: Data with input dtype int64, float64 were all converted to float64 by StandardScaler.\n",
      "  return super(PandasMixin, self).transform(X=dataset.designData, *args, **kwargs)\n",
      "donatello/components/transformers.py:33: DataConversionWarning: Data with input dtype int64, float64 were all converted to float64 by StandardScaler.\n",
      "  return super(PandasMixin, self).transform(X=dataset.designData, *args, **kwargs)\n"
     ]
    },
    {
     "name": "stdout",
     "output_type": "stream",
     "text": [
      "fitOnly transformer - passing through\n"
     ]
    },
    {
     "data": {
      "text/plain": [
       "Sculpture_2019_04_10_23_48"
      ]
     },
     "execution_count": 19,
     "metadata": {},
     "output_type": "execute_result"
    }
   ],
   "source": [
    "sculpture.fit()"
   ]
  },
  {
   "cell_type": "code",
   "execution_count": 20,
   "metadata": {
    "collapsed": false
   },
   "outputs": [
    {
     "data": {
      "text/html": [
       "<div>\n",
       "<style scoped>\n",
       "    .dataframe tbody tr th:only-of-type {\n",
       "        vertical-align: middle;\n",
       "    }\n",
       "\n",
       "    .dataframe tbody tr th {\n",
       "        vertical-align: top;\n",
       "    }\n",
       "\n",
       "    .dataframe thead th {\n",
       "        text-align: right;\n",
       "    }\n",
       "</style>\n",
       "<table border=\"1\" class=\"dataframe\">\n",
       "  <thead>\n",
       "    <tr style=\"text-align: right;\">\n",
       "      <th></th>\n",
       "      <th>explained_variance_score</th>\n",
       "    </tr>\n",
       "  </thead>\n",
       "  <tbody>\n",
       "    <tr>\n",
       "      <th>mean</th>\n",
       "      <td>0.558581</td>\n",
       "    </tr>\n",
       "    <tr>\n",
       "      <th>std</th>\n",
       "      <td>0.061935</td>\n",
       "    </tr>\n",
       "  </tbody>\n",
       "</table>\n",
       "</div>"
      ],
      "text/plain": [
       "      explained_variance_score\n",
       "mean                  0.558581\n",
       "std                   0.061935"
      ]
     },
     "metadata": {},
     "output_type": "display_data"
    },
    {
     "data": {
      "text/html": [
       "<div>\n",
       "<style scoped>\n",
       "    .dataframe tbody tr th:only-of-type {\n",
       "        vertical-align: middle;\n",
       "    }\n",
       "\n",
       "    .dataframe tbody tr th {\n",
       "        vertical-align: top;\n",
       "    }\n",
       "\n",
       "    .dataframe thead th {\n",
       "        text-align: right;\n",
       "    }\n",
       "</style>\n",
       "<table border=\"1\" class=\"dataframe\">\n",
       "  <thead>\n",
       "    <tr style=\"text-align: right;\">\n",
       "      <th></th>\n",
       "      <th>median_absolute_error</th>\n",
       "    </tr>\n",
       "  </thead>\n",
       "  <tbody>\n",
       "    <tr>\n",
       "      <th>mean</th>\n",
       "      <td>94755.617899</td>\n",
       "    </tr>\n",
       "    <tr>\n",
       "      <th>std</th>\n",
       "      <td>5280.675622</td>\n",
       "    </tr>\n",
       "  </tbody>\n",
       "</table>\n",
       "</div>"
      ],
      "text/plain": [
       "      median_absolute_error\n",
       "mean           94755.617899\n",
       "std             5280.675622"
      ]
     },
     "metadata": {},
     "output_type": "display_data"
    },
    {
     "data": {
      "text/html": [
       "<div>\n",
       "<style scoped>\n",
       "    .dataframe tbody tr th:only-of-type {\n",
       "        vertical-align: middle;\n",
       "    }\n",
       "\n",
       "    .dataframe tbody tr th {\n",
       "        vertical-align: top;\n",
       "    }\n",
       "\n",
       "    .dataframe thead th {\n",
       "        text-align: right;\n",
       "    }\n",
       "</style>\n",
       "<table border=\"1\" class=\"dataframe\">\n",
       "  <thead>\n",
       "    <tr style=\"text-align: right;\">\n",
       "      <th></th>\n",
       "      <th>r2_score</th>\n",
       "    </tr>\n",
       "  </thead>\n",
       "  <tbody>\n",
       "    <tr>\n",
       "      <th>mean</th>\n",
       "      <td>0.556026</td>\n",
       "    </tr>\n",
       "    <tr>\n",
       "      <th>std</th>\n",
       "      <td>0.062935</td>\n",
       "    </tr>\n",
       "  </tbody>\n",
       "</table>\n",
       "</div>"
      ],
      "text/plain": [
       "      r2_score\n",
       "mean  0.556026\n",
       "std   0.062935"
      ]
     },
     "metadata": {},
     "output_type": "display_data"
    },
    {
     "data": {
      "text/html": [
       "<div>\n",
       "<style scoped>\n",
       "    .dataframe tbody tr th:only-of-type {\n",
       "        vertical-align: middle;\n",
       "    }\n",
       "\n",
       "    .dataframe tbody tr th {\n",
       "        vertical-align: top;\n",
       "    }\n",
       "\n",
       "    .dataframe thead th {\n",
       "        text-align: right;\n",
       "    }\n",
       "</style>\n",
       "<table border=\"1\" class=\"dataframe\">\n",
       "  <thead>\n",
       "    <tr style=\"text-align: right;\">\n",
       "      <th></th>\n",
       "      <th>coefficients_mean</th>\n",
       "      <th>coefficients_std</th>\n",
       "    </tr>\n",
       "    <tr>\n",
       "      <th>names</th>\n",
       "      <th></th>\n",
       "      <th></th>\n",
       "    </tr>\n",
       "  </thead>\n",
       "  <tbody>\n",
       "    <tr>\n",
       "      <th>num_bedrooms</th>\n",
       "      <td>-64693.487437</td>\n",
       "      <td>2570.268460</td>\n",
       "    </tr>\n",
       "    <tr>\n",
       "      <th>year_built</th>\n",
       "      <td>-41758.995713</td>\n",
       "      <td>6855.093092</td>\n",
       "    </tr>\n",
       "    <tr>\n",
       "      <th>lot_size</th>\n",
       "      <td>-13700.718409</td>\n",
       "      <td>3702.407919</td>\n",
       "    </tr>\n",
       "    <tr>\n",
       "      <th>CUUSA433SAH</th>\n",
       "      <td>5194.435849</td>\n",
       "      <td>2684.496007</td>\n",
       "    </tr>\n",
       "    <tr>\n",
       "      <th>last_sale_amount</th>\n",
       "      <td>17017.633934</td>\n",
       "      <td>9878.614885</td>\n",
       "    </tr>\n",
       "    <tr>\n",
       "      <th>num_rooms</th>\n",
       "      <td>20235.015009</td>\n",
       "      <td>3802.519509</td>\n",
       "    </tr>\n",
       "    <tr>\n",
       "      <th>num_baths</th>\n",
       "      <td>31537.118397</td>\n",
       "      <td>9999.725428</td>\n",
       "    </tr>\n",
       "    <tr>\n",
       "      <th>square_footage</th>\n",
       "      <td>220052.808761</td>\n",
       "      <td>6828.259413</td>\n",
       "    </tr>\n",
       "    <tr>\n",
       "      <th>intercept_</th>\n",
       "      <td>477679.716399</td>\n",
       "      <td>2645.771120</td>\n",
       "    </tr>\n",
       "  </tbody>\n",
       "</table>\n",
       "</div>"
      ],
      "text/plain": [
       "                  coefficients_mean  coefficients_std\n",
       "names                                                \n",
       "num_bedrooms          -64693.487437       2570.268460\n",
       "year_built            -41758.995713       6855.093092\n",
       "lot_size              -13700.718409       3702.407919\n",
       "CUUSA433SAH             5194.435849       2684.496007\n",
       "last_sale_amount       17017.633934       9878.614885\n",
       "num_rooms              20235.015009       3802.519509\n",
       "num_baths              31537.118397       9999.725428\n",
       "square_footage        220052.808761       6828.259413\n",
       "intercept_            477679.716399       2645.771120"
      ]
     },
     "metadata": {},
     "output_type": "display_data"
    }
   ],
   "source": [
    "for name, scores in sculpture.measurements.crossValidation.items():\n",
    "    if name != 'feature_weights':\n",
    "        display(view_sk_metric(scores).rename(columns={'score': name}))\n",
    "    else:\n",
    "        display(pd.concat([scores.mean.rename(columns={i: '{}_mean'.format(i) for i in scores.mean}), \n",
    "                           scores.std.rename(columns={i: '{}_std'.format(i) for i in scores.std})],\n",
    "                           axis=1).sort_values('coefficients_mean')\n",
    "               )\n"
   ]
  },
  {
   "cell_type": "code",
   "execution_count": null,
   "metadata": {
    "collapsed": true
   },
   "outputs": [],
   "source": []
  },
  {
   "cell_type": "markdown",
   "metadata": {},
   "source": [
    "## Branching\n",
    "Scikit-learn enables branching feature engineering by nesting FeatureUnions and Pipelines. While servicable, this interface can be hard to manage and makes it more difficult to share transformers and components between problems.\n",
    "\n",
    "To support this feature, the edges of donatello's ModelDAG are actually transformers themselves with the sole task of passing (conducting) data through them. Conduction transformers follow a pattern. By default all columns/keys found during fitting will be passed along but the ModelDAG's add_edge_conductor method makes it easy to modify these options but selecting or inverting (selecting all but) the columns seen during fit by name, a regex match, or dtype.  "
   ]
  },
  {
   "cell_type": "code",
   "execution_count": 21,
   "metadata": {
    "collapsed": false
   },
   "outputs": [],
   "source": [
    "model = transformers.ModelDAG(set([]), {})\n",
    "# intitate branching by selecting all\n",
    "n0 = transformers.Node('select', transformers.DatasetFlow(invert=True)) \n",
    "\n",
    "# first branch\n",
    "n11 = transformers.Node('ohe', transformers.OneHotEncoder(dropOne=True))\n",
    "\n",
    "# second branch\n",
    "n21 = transformers.Node('scale', transformers.StandardScaler(), enforceTarget=True)\n",
    "n22 = transformers.Node('rm_outliers', transformers.ApplyTransformer(func=transform, fitOnly=True))\n",
    "\n",
    "# terminal node\n",
    "n3 = transformers.Node('ml', LinearRegression())"
   ]
  },
  {
   "cell_type": "code",
   "execution_count": 22,
   "metadata": {
    "collapsed": true
   },
   "outputs": [],
   "source": [
    "# send zipcode data only to OHE and don't pass target through first branch\n",
    "model.add_edge_flow(n0, n11, passTarget=False, selectValue=['zipcode'], invert=False)\n",
    "# send output of ohe to Linear Regression \n",
    "model.add_edge_flow(n11, n3)\n",
    "\n",
    "# send all other design data and the target through second branch\n",
    "model.add_edge_flow(n0, n21, selectValue=['zipcode'], invert=True)\n",
    "model.add_edge_flow(n21, n22)\n",
    "model.add_edge_flow(n22, n3)"
   ]
  },
  {
   "cell_type": "code",
   "execution_count": null,
   "metadata": {
    "collapsed": false
   },
   "outputs": [],
   "source": []
  },
  {
   "cell_type": "code",
   "execution_count": 23,
   "metadata": {
    "collapsed": true
   },
   "outputs": [],
   "source": [
    "sculpture = load_scuplture(df.select_dtypes(pd.np.number), model=model)"
   ]
  },
  {
   "cell_type": "code",
   "execution_count": 24,
   "metadata": {
    "collapsed": false
   },
   "outputs": [
    {
     "name": "stdout",
     "output_type": "stream",
     "text": [
      "Cross Validation\n"
     ]
    },
    {
     "name": "stderr",
     "output_type": "stream",
     "text": [
      "//anaconda/lib/python2.7/site-packages/sklearn/preprocessing/data.py:645: DataConversionWarning: Data with input dtype int64, float64 were all converted to float64 by StandardScaler.\n",
      "  return self.partial_fit(X, y)\n",
      "donatello/components/transformers.py:33: DataConversionWarning: Data with input dtype int64, float64 were all converted to float64 by StandardScaler.\n",
      "  return super(PandasMixin, self).transform(X=dataset.designData, *args, **kwargs)\n",
      "donatello/components/transformers.py:33: DataConversionWarning: Data with input dtype int64, float64 were all converted to float64 by StandardScaler.\n",
      "  return super(PandasMixin, self).transform(X=dataset.designData, *args, **kwargs)\n"
     ]
    },
    {
     "name": "stdout",
     "output_type": "stream",
     "text": [
      "fitOnly transformer - passing through\n"
     ]
    },
    {
     "name": "stderr",
     "output_type": "stream",
     "text": [
      "//anaconda/lib/python2.7/site-packages/sklearn/preprocessing/data.py:645: DataConversionWarning: Data with input dtype int64, float64 were all converted to float64 by StandardScaler.\n",
      "  return self.partial_fit(X, y)\n",
      "donatello/components/transformers.py:33: DataConversionWarning: Data with input dtype int64, float64 were all converted to float64 by StandardScaler.\n",
      "  return super(PandasMixin, self).transform(X=dataset.designData, *args, **kwargs)\n",
      "donatello/components/transformers.py:33: DataConversionWarning: Data with input dtype int64, float64 were all converted to float64 by StandardScaler.\n",
      "  return super(PandasMixin, self).transform(X=dataset.designData, *args, **kwargs)\n"
     ]
    },
    {
     "name": "stdout",
     "output_type": "stream",
     "text": [
      "fitOnly transformer - passing through\n"
     ]
    },
    {
     "name": "stderr",
     "output_type": "stream",
     "text": [
      "//anaconda/lib/python2.7/site-packages/sklearn/preprocessing/data.py:645: DataConversionWarning: Data with input dtype int64, float64 were all converted to float64 by StandardScaler.\n",
      "  return self.partial_fit(X, y)\n",
      "donatello/components/transformers.py:33: DataConversionWarning: Data with input dtype int64, float64 were all converted to float64 by StandardScaler.\n",
      "  return super(PandasMixin, self).transform(X=dataset.designData, *args, **kwargs)\n",
      "donatello/components/transformers.py:33: DataConversionWarning: Data with input dtype int64, float64 were all converted to float64 by StandardScaler.\n",
      "  return super(PandasMixin, self).transform(X=dataset.designData, *args, **kwargs)\n"
     ]
    },
    {
     "name": "stdout",
     "output_type": "stream",
     "text": [
      "fitOnly transformer - passing through\n"
     ]
    },
    {
     "name": "stderr",
     "output_type": "stream",
     "text": [
      "//anaconda/lib/python2.7/site-packages/sklearn/preprocessing/data.py:645: DataConversionWarning: Data with input dtype int64, float64 were all converted to float64 by StandardScaler.\n",
      "  return self.partial_fit(X, y)\n",
      "donatello/components/transformers.py:33: DataConversionWarning: Data with input dtype int64, float64 were all converted to float64 by StandardScaler.\n",
      "  return super(PandasMixin, self).transform(X=dataset.designData, *args, **kwargs)\n",
      "donatello/components/transformers.py:33: DataConversionWarning: Data with input dtype int64, float64 were all converted to float64 by StandardScaler.\n",
      "  return super(PandasMixin, self).transform(X=dataset.designData, *args, **kwargs)\n"
     ]
    },
    {
     "name": "stdout",
     "output_type": "stream",
     "text": [
      "fitOnly transformer - passing through\n"
     ]
    },
    {
     "name": "stderr",
     "output_type": "stream",
     "text": [
      "//anaconda/lib/python2.7/site-packages/sklearn/preprocessing/data.py:645: DataConversionWarning: Data with input dtype int64, float64 were all converted to float64 by StandardScaler.\n",
      "  return self.partial_fit(X, y)\n",
      "donatello/components/transformers.py:33: DataConversionWarning: Data with input dtype int64, float64 were all converted to float64 by StandardScaler.\n",
      "  return super(PandasMixin, self).transform(X=dataset.designData, *args, **kwargs)\n",
      "donatello/components/transformers.py:33: DataConversionWarning: Data with input dtype int64, float64 were all converted to float64 by StandardScaler.\n",
      "  return super(PandasMixin, self).transform(X=dataset.designData, *args, **kwargs)\n"
     ]
    },
    {
     "name": "stdout",
     "output_type": "stream",
     "text": [
      "fitOnly transformer - passing through\n",
      "Holdout\n"
     ]
    },
    {
     "name": "stderr",
     "output_type": "stream",
     "text": [
      "//anaconda/lib/python2.7/site-packages/sklearn/preprocessing/data.py:645: DataConversionWarning: Data with input dtype int64, float64 were all converted to float64 by StandardScaler.\n",
      "  return self.partial_fit(X, y)\n",
      "donatello/components/transformers.py:33: DataConversionWarning: Data with input dtype int64, float64 were all converted to float64 by StandardScaler.\n",
      "  return super(PandasMixin, self).transform(X=dataset.designData, *args, **kwargs)\n",
      "donatello/components/transformers.py:33: DataConversionWarning: Data with input dtype int64, float64 were all converted to float64 by StandardScaler.\n",
      "  return super(PandasMixin, self).transform(X=dataset.designData, *args, **kwargs)\n"
     ]
    },
    {
     "name": "stdout",
     "output_type": "stream",
     "text": [
      "fitOnly transformer - passing through\n"
     ]
    },
    {
     "data": {
      "text/plain": [
       "Sculpture_2019_04_10_23_48"
      ]
     },
     "execution_count": 24,
     "metadata": {},
     "output_type": "execute_result"
    }
   ],
   "source": [
    "sculpture.fit()"
   ]
  },
  {
   "cell_type": "code",
   "execution_count": 25,
   "metadata": {
    "collapsed": false
   },
   "outputs": [
    {
     "name": "stdout",
     "output_type": "stream",
     "text": [
      "5 fold validation\n"
     ]
    },
    {
     "data": {
      "text/html": [
       "<div>\n",
       "<style scoped>\n",
       "    .dataframe tbody tr th:only-of-type {\n",
       "        vertical-align: middle;\n",
       "    }\n",
       "\n",
       "    .dataframe tbody tr th {\n",
       "        vertical-align: top;\n",
       "    }\n",
       "\n",
       "    .dataframe thead th {\n",
       "        text-align: right;\n",
       "    }\n",
       "</style>\n",
       "<table border=\"1\" class=\"dataframe\">\n",
       "  <thead>\n",
       "    <tr style=\"text-align: right;\">\n",
       "      <th></th>\n",
       "      <th>explained_variance_score</th>\n",
       "    </tr>\n",
       "  </thead>\n",
       "  <tbody>\n",
       "    <tr>\n",
       "      <th>mean</th>\n",
       "      <td>0.749091</td>\n",
       "    </tr>\n",
       "    <tr>\n",
       "      <th>std</th>\n",
       "      <td>0.044543</td>\n",
       "    </tr>\n",
       "  </tbody>\n",
       "</table>\n",
       "</div>"
      ],
      "text/plain": [
       "      explained_variance_score\n",
       "mean                  0.749091\n",
       "std                   0.044543"
      ]
     },
     "metadata": {},
     "output_type": "display_data"
    },
    {
     "data": {
      "text/html": [
       "<div>\n",
       "<style scoped>\n",
       "    .dataframe tbody tr th:only-of-type {\n",
       "        vertical-align: middle;\n",
       "    }\n",
       "\n",
       "    .dataframe tbody tr th {\n",
       "        vertical-align: top;\n",
       "    }\n",
       "\n",
       "    .dataframe thead th {\n",
       "        text-align: right;\n",
       "    }\n",
       "</style>\n",
       "<table border=\"1\" class=\"dataframe\">\n",
       "  <thead>\n",
       "    <tr style=\"text-align: right;\">\n",
       "      <th></th>\n",
       "      <th>median_absolute_error</th>\n",
       "    </tr>\n",
       "  </thead>\n",
       "  <tbody>\n",
       "    <tr>\n",
       "      <th>mean</th>\n",
       "      <td>61437.632107</td>\n",
       "    </tr>\n",
       "    <tr>\n",
       "      <th>std</th>\n",
       "      <td>4506.724301</td>\n",
       "    </tr>\n",
       "  </tbody>\n",
       "</table>\n",
       "</div>"
      ],
      "text/plain": [
       "      median_absolute_error\n",
       "mean           61437.632107\n",
       "std             4506.724301"
      ]
     },
     "metadata": {},
     "output_type": "display_data"
    },
    {
     "data": {
      "text/html": [
       "<div>\n",
       "<style scoped>\n",
       "    .dataframe tbody tr th:only-of-type {\n",
       "        vertical-align: middle;\n",
       "    }\n",
       "\n",
       "    .dataframe tbody tr th {\n",
       "        vertical-align: top;\n",
       "    }\n",
       "\n",
       "    .dataframe thead th {\n",
       "        text-align: right;\n",
       "    }\n",
       "</style>\n",
       "<table border=\"1\" class=\"dataframe\">\n",
       "  <thead>\n",
       "    <tr style=\"text-align: right;\">\n",
       "      <th></th>\n",
       "      <th>r2_score</th>\n",
       "    </tr>\n",
       "  </thead>\n",
       "  <tbody>\n",
       "    <tr>\n",
       "      <th>mean</th>\n",
       "      <td>0.747221</td>\n",
       "    </tr>\n",
       "    <tr>\n",
       "      <th>std</th>\n",
       "      <td>0.044210</td>\n",
       "    </tr>\n",
       "  </tbody>\n",
       "</table>\n",
       "</div>"
      ],
      "text/plain": [
       "      r2_score\n",
       "mean  0.747221\n",
       "std   0.044210"
      ]
     },
     "metadata": {},
     "output_type": "display_data"
    },
    {
     "data": {
      "text/html": [
       "<div>\n",
       "<style scoped>\n",
       "    .dataframe tbody tr th:only-of-type {\n",
       "        vertical-align: middle;\n",
       "    }\n",
       "\n",
       "    .dataframe tbody tr th {\n",
       "        vertical-align: top;\n",
       "    }\n",
       "\n",
       "    .dataframe thead th {\n",
       "        text-align: right;\n",
       "    }\n",
       "</style>\n",
       "<table border=\"1\" class=\"dataframe\">\n",
       "  <thead>\n",
       "    <tr style=\"text-align: right;\">\n",
       "      <th></th>\n",
       "      <th>coefficients_mean</th>\n",
       "      <th>coefficients_std</th>\n",
       "    </tr>\n",
       "    <tr>\n",
       "      <th>names</th>\n",
       "      <th></th>\n",
       "      <th></th>\n",
       "    </tr>\n",
       "  </thead>\n",
       "  <tbody>\n",
       "    <tr>\n",
       "      <th>zipcode_46926</th>\n",
       "      <td>-3.497458e+05</td>\n",
       "      <td>9.342515e+04</td>\n",
       "    </tr>\n",
       "    <tr>\n",
       "      <th>zipcode_37134</th>\n",
       "      <td>-2.576103e+05</td>\n",
       "      <td>8.583484e+04</td>\n",
       "    </tr>\n",
       "    <tr>\n",
       "      <th>zipcode_80249</th>\n",
       "      <td>-2.528603e+05</td>\n",
       "      <td>8.174263e+04</td>\n",
       "    </tr>\n",
       "    <tr>\n",
       "      <th>zipcode_80219</th>\n",
       "      <td>-1.859698e+05</td>\n",
       "      <td>NaN</td>\n",
       "    </tr>\n",
       "    <tr>\n",
       "      <th>zipcode_80239</th>\n",
       "      <td>-1.427271e+05</td>\n",
       "      <td>8.110450e+04</td>\n",
       "    </tr>\n",
       "    <tr>\n",
       "      <th>zipcode_80247</th>\n",
       "      <td>-1.334592e+05</td>\n",
       "      <td>8.993306e+04</td>\n",
       "    </tr>\n",
       "    <tr>\n",
       "      <th>zipcode_80235</th>\n",
       "      <td>-1.210530e+05</td>\n",
       "      <td>8.912922e+04</td>\n",
       "    </tr>\n",
       "    <tr>\n",
       "      <th>zipcode_80227</th>\n",
       "      <td>-1.198548e+05</td>\n",
       "      <td>8.882648e+04</td>\n",
       "    </tr>\n",
       "    <tr>\n",
       "      <th>zipcode_80234</th>\n",
       "      <td>-9.058705e+04</td>\n",
       "      <td>9.318180e+04</td>\n",
       "    </tr>\n",
       "    <tr>\n",
       "      <th>zipcode_80236</th>\n",
       "      <td>-8.268968e+04</td>\n",
       "      <td>7.530384e+04</td>\n",
       "    </tr>\n",
       "    <tr>\n",
       "      <th>zipcode_80231</th>\n",
       "      <td>-7.234041e+04</td>\n",
       "      <td>9.055022e+04</td>\n",
       "    </tr>\n",
       "    <tr>\n",
       "      <th>zipcode_80229</th>\n",
       "      <td>-7.053978e+04</td>\n",
       "      <td>8.345132e+04</td>\n",
       "    </tr>\n",
       "    <tr>\n",
       "      <th>zipcode_80216</th>\n",
       "      <td>-5.947857e+04</td>\n",
       "      <td>8.323959e+04</td>\n",
       "    </tr>\n",
       "    <tr>\n",
       "      <th>zipcode_80237</th>\n",
       "      <td>-5.080427e+04</td>\n",
       "      <td>8.115128e+04</td>\n",
       "    </tr>\n",
       "    <tr>\n",
       "      <th>zipcode_80123</th>\n",
       "      <td>-4.871960e+04</td>\n",
       "      <td>8.283967e+04</td>\n",
       "    </tr>\n",
       "    <tr>\n",
       "      <th>zipcode_80221</th>\n",
       "      <td>-3.734875e+04</td>\n",
       "      <td>8.365931e+04</td>\n",
       "    </tr>\n",
       "    <tr>\n",
       "      <th>num_bedrooms</th>\n",
       "      <td>-2.913625e+04</td>\n",
       "      <td>1.594907e+03</td>\n",
       "    </tr>\n",
       "    <tr>\n",
       "      <th>zipcode_80238</th>\n",
       "      <td>-1.594640e+04</td>\n",
       "      <td>8.421631e+04</td>\n",
       "    </tr>\n",
       "    <tr>\n",
       "      <th>num_rooms</th>\n",
       "      <td>-8.833781e+03</td>\n",
       "      <td>2.873768e+03</td>\n",
       "    </tr>\n",
       "    <tr>\n",
       "      <th>zipcode_80223</th>\n",
       "      <td>-7.352431e+03</td>\n",
       "      <td>7.887081e+04</td>\n",
       "    </tr>\n",
       "    <tr>\n",
       "      <th>year_built</th>\n",
       "      <td>-5.408580e+03</td>\n",
       "      <td>5.563987e+03</td>\n",
       "    </tr>\n",
       "    <tr>\n",
       "      <th>lot_size</th>\n",
       "      <td>-1.753674e+03</td>\n",
       "      <td>8.775075e+02</td>\n",
       "    </tr>\n",
       "    <tr>\n",
       "      <th>zipcode_80202</th>\n",
       "      <td>6.470687e-11</td>\n",
       "      <td>3.557717e-10</td>\n",
       "    </tr>\n",
       "    <tr>\n",
       "      <th>zipcode_80224</th>\n",
       "      <td>1.797611e+03</td>\n",
       "      <td>8.469129e+04</td>\n",
       "    </tr>\n",
       "    <tr>\n",
       "      <th>zipcode_80204</th>\n",
       "      <td>4.780848e+03</td>\n",
       "      <td>7.990204e+04</td>\n",
       "    </tr>\n",
       "    <tr>\n",
       "      <th>last_sale_amount</th>\n",
       "      <td>9.699988e+03</td>\n",
       "      <td>5.251803e+03</td>\n",
       "    </tr>\n",
       "    <tr>\n",
       "      <th>CUUSA433SAH</th>\n",
       "      <td>1.150610e+04</td>\n",
       "      <td>1.495333e+03</td>\n",
       "    </tr>\n",
       "    <tr>\n",
       "      <th>zipcode_80232</th>\n",
       "      <td>2.298716e+04</td>\n",
       "      <td>4.097158e+03</td>\n",
       "    </tr>\n",
       "    <tr>\n",
       "      <th>zipcode_80222</th>\n",
       "      <td>3.896352e+04</td>\n",
       "      <td>7.714646e+04</td>\n",
       "    </tr>\n",
       "    <tr>\n",
       "      <th>zipcode_80230</th>\n",
       "      <td>4.514445e+04</td>\n",
       "      <td>7.986207e+04</td>\n",
       "    </tr>\n",
       "    <tr>\n",
       "      <th>num_baths</th>\n",
       "      <td>5.554352e+04</td>\n",
       "      <td>6.271186e+03</td>\n",
       "    </tr>\n",
       "    <tr>\n",
       "      <th>zipcode_80205</th>\n",
       "      <td>6.314953e+04</td>\n",
       "      <td>7.939138e+04</td>\n",
       "    </tr>\n",
       "    <tr>\n",
       "      <th>zipcode_80203</th>\n",
       "      <td>6.878301e+04</td>\n",
       "      <td>8.665959e+04</td>\n",
       "    </tr>\n",
       "    <tr>\n",
       "      <th>zipcode_80207</th>\n",
       "      <td>1.090660e+05</td>\n",
       "      <td>8.477885e+04</td>\n",
       "    </tr>\n",
       "    <tr>\n",
       "      <th>zipcode_80212</th>\n",
       "      <td>1.345499e+05</td>\n",
       "      <td>8.039984e+04</td>\n",
       "    </tr>\n",
       "    <tr>\n",
       "      <th>zipcode_80220</th>\n",
       "      <td>1.447685e+05</td>\n",
       "      <td>8.123279e+04</td>\n",
       "    </tr>\n",
       "    <tr>\n",
       "      <th>zipcode_80211</th>\n",
       "      <td>1.730266e+05</td>\n",
       "      <td>2.064613e+03</td>\n",
       "    </tr>\n",
       "    <tr>\n",
       "      <th>square_footage</th>\n",
       "      <td>1.901516e+05</td>\n",
       "      <td>4.026248e+03</td>\n",
       "    </tr>\n",
       "    <tr>\n",
       "      <th>zipcode_80218</th>\n",
       "      <td>2.013662e+05</td>\n",
       "      <td>7.066343e+04</td>\n",
       "    </tr>\n",
       "    <tr>\n",
       "      <th>zipcode_80210</th>\n",
       "      <td>2.146780e+05</td>\n",
       "      <td>8.145243e+04</td>\n",
       "    </tr>\n",
       "    <tr>\n",
       "      <th>zipcode_80206</th>\n",
       "      <td>2.181842e+05</td>\n",
       "      <td>8.195679e+04</td>\n",
       "    </tr>\n",
       "    <tr>\n",
       "      <th>zipcode_80246</th>\n",
       "      <td>2.424187e+05</td>\n",
       "      <td>7.359469e+04</td>\n",
       "    </tr>\n",
       "    <tr>\n",
       "      <th>zipcode_80209</th>\n",
       "      <td>2.684135e+05</td>\n",
       "      <td>8.453153e+04</td>\n",
       "    </tr>\n",
       "    <tr>\n",
       "      <th>intercept_</th>\n",
       "      <td>4.494734e+05</td>\n",
       "      <td>8.081546e+04</td>\n",
       "    </tr>\n",
       "    <tr>\n",
       "      <th>zipcode_80214</th>\n",
       "      <td>4.597228e+05</td>\n",
       "      <td>8.549774e+04</td>\n",
       "    </tr>\n",
       "  </tbody>\n",
       "</table>\n",
       "</div>"
      ],
      "text/plain": [
       "                  coefficients_mean  coefficients_std\n",
       "names                                                \n",
       "zipcode_46926         -3.497458e+05      9.342515e+04\n",
       "zipcode_37134         -2.576103e+05      8.583484e+04\n",
       "zipcode_80249         -2.528603e+05      8.174263e+04\n",
       "zipcode_80219         -1.859698e+05               NaN\n",
       "zipcode_80239         -1.427271e+05      8.110450e+04\n",
       "zipcode_80247         -1.334592e+05      8.993306e+04\n",
       "zipcode_80235         -1.210530e+05      8.912922e+04\n",
       "zipcode_80227         -1.198548e+05      8.882648e+04\n",
       "zipcode_80234         -9.058705e+04      9.318180e+04\n",
       "zipcode_80236         -8.268968e+04      7.530384e+04\n",
       "zipcode_80231         -7.234041e+04      9.055022e+04\n",
       "zipcode_80229         -7.053978e+04      8.345132e+04\n",
       "zipcode_80216         -5.947857e+04      8.323959e+04\n",
       "zipcode_80237         -5.080427e+04      8.115128e+04\n",
       "zipcode_80123         -4.871960e+04      8.283967e+04\n",
       "zipcode_80221         -3.734875e+04      8.365931e+04\n",
       "num_bedrooms          -2.913625e+04      1.594907e+03\n",
       "zipcode_80238         -1.594640e+04      8.421631e+04\n",
       "num_rooms             -8.833781e+03      2.873768e+03\n",
       "zipcode_80223         -7.352431e+03      7.887081e+04\n",
       "year_built            -5.408580e+03      5.563987e+03\n",
       "lot_size              -1.753674e+03      8.775075e+02\n",
       "zipcode_80202          6.470687e-11      3.557717e-10\n",
       "zipcode_80224          1.797611e+03      8.469129e+04\n",
       "zipcode_80204          4.780848e+03      7.990204e+04\n",
       "last_sale_amount       9.699988e+03      5.251803e+03\n",
       "CUUSA433SAH            1.150610e+04      1.495333e+03\n",
       "zipcode_80232          2.298716e+04      4.097158e+03\n",
       "zipcode_80222          3.896352e+04      7.714646e+04\n",
       "zipcode_80230          4.514445e+04      7.986207e+04\n",
       "num_baths              5.554352e+04      6.271186e+03\n",
       "zipcode_80205          6.314953e+04      7.939138e+04\n",
       "zipcode_80203          6.878301e+04      8.665959e+04\n",
       "zipcode_80207          1.090660e+05      8.477885e+04\n",
       "zipcode_80212          1.345499e+05      8.039984e+04\n",
       "zipcode_80220          1.447685e+05      8.123279e+04\n",
       "zipcode_80211          1.730266e+05      2.064613e+03\n",
       "square_footage         1.901516e+05      4.026248e+03\n",
       "zipcode_80218          2.013662e+05      7.066343e+04\n",
       "zipcode_80210          2.146780e+05      8.145243e+04\n",
       "zipcode_80206          2.181842e+05      8.195679e+04\n",
       "zipcode_80246          2.424187e+05      7.359469e+04\n",
       "zipcode_80209          2.684135e+05      8.453153e+04\n",
       "intercept_             4.494734e+05      8.081546e+04\n",
       "zipcode_80214          4.597228e+05      8.549774e+04"
      ]
     },
     "metadata": {},
     "output_type": "display_data"
    }
   ],
   "source": [
    "print('{} fold validation'.format(sculpture.dataset.fold.folder.get_n_splits()))\n",
    "for name, scores in sculpture.measurements.crossValidation.items():\n",
    "    if name != 'feature_weights':\n",
    "        display(view_sk_metric(scores).rename(columns={'score': name}))\n",
    "    else:\n",
    "        display(pd.concat([scores.mean.rename(columns={i: '{}_mean'.format(i) for i in scores.mean}), \n",
    "                           scores.std.rename(columns={i: '{}_std'.format(i) for i in scores.std})],\n",
    "                           axis=1).sort_values('coefficients_mean')\n",
    "               )\n"
   ]
  },
  {
   "cell_type": "code",
   "execution_count": null,
   "metadata": {
    "collapsed": true
   },
   "outputs": [],
   "source": []
  }
 ],
 "metadata": {
  "kernelspec": {
   "display_name": "Python 2",
   "language": "python",
   "name": "python2"
  },
  "language_info": {
   "codemirror_mode": {
    "name": "ipython",
    "version": 2
   },
   "file_extension": ".py",
   "mimetype": "text/x-python",
   "name": "python",
   "nbconvert_exporter": "python",
   "pygments_lexer": "ipython2",
   "version": "2.7.12"
  }
 },
 "nbformat": 4,
 "nbformat_minor": 0
}
